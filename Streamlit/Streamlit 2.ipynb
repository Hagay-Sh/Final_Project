{
 "cells": [
  {
   "cell_type": "markdown",
   "id": "cfe1fd15",
   "metadata": {},
   "source": [
    "# Streamlit\n",
    "\n",
    "© Advanced Analytics, Amir Ben Haim, 2024"
   ]
  },
  {
   "cell_type": "markdown",
   "id": "266c5232",
   "metadata": {},
   "source": [
    "<p style=\"font-size:25px\"><u>we'll cover</u></p>\n",
    "\n",
    "- Session State\n",
    "- Deployment with Streamlit Cloud"
   ]
  },
  {
   "cell_type": "markdown",
   "id": "b9d988f0",
   "metadata": {},
   "source": [
    "<br>\n",
    "<br>\n",
    "<hr class=\"dotted\">\n",
    "<br>\n",
    "<br>"
   ]
  },
  {
   "cell_type": "markdown",
   "id": "de5acb28",
   "metadata": {},
   "source": [
    "## Pip Install"
   ]
  },
  {
   "cell_type": "markdown",
   "id": "64efa3c4",
   "metadata": {},
   "source": [
    "<u>Use the Terminal:</u>\n",
    "<br>\n",
    "Install `stremlit`, you might want to use virtual environment `.ven`"
   ]
  },
  {
   "cell_type": "markdown",
   "id": "95f979ed",
   "metadata": {},
   "source": [
    "```powershell\n",
    "pip install streamlit\n",
    "```"
   ]
  },
  {
   "cell_type": "markdown",
   "id": "ca0f0346",
   "metadata": {},
   "source": [
    "<u>Use the Terminal:</u>\n",
    "<br>\n",
    "Test that the installation worked by launching the Streamlit Hello example app"
   ]
  },
  {
   "cell_type": "markdown",
   "id": "4915f20b",
   "metadata": {},
   "source": [
    "```powershell\n",
    "streamlit hello\n",
    "```"
   ]
  },
  {
   "cell_type": "markdown",
   "id": "e34d1034",
   "metadata": {},
   "source": [
    "<br>\n",
    "<br>\n",
    "<hr class=\"dotted\">\n",
    "<br>\n",
    "<br>"
   ]
  },
  {
   "cell_type": "markdown",
   "id": "06cc79e5",
   "metadata": {},
   "source": [
    "## Session State"
   ]
  },
  {
   "cell_type": "markdown",
   "id": "af417523",
   "metadata": {},
   "source": [
    "><p style=\"font-size:25px\">Session State enables you to save information that is preserved between script reruns</p>\n",
    "\n",
    "- Session State provides a dictionary-like interface\n",
    "<br></br>\n",
    "\n",
    "- Use `st.session_state` with key or attribute notation to store and recall values (`st.session_state[\"my_key\"]` or `st.session_state.my_key`)\n",
    "  - You can add any key:value pair you want, for example\n",
    "  <br>\n",
    "    ```python\n",
    "    st.session_state.SOME_KEY = 'SOME_VALUE'\n",
    "    ```\n",
    "\n",
    "- Remember that widgets handle their statefulness all by themselves, so you won't always need to use Session State!"
   ]
  },
  {
   "cell_type": "markdown",
   "id": "ad4eff02",
   "metadata": {},
   "source": [
    "<br></br>\n",
    "\n",
    "### What is a session?"
   ]
  },
  {
   "cell_type": "markdown",
   "id": "52438398",
   "metadata": {},
   "source": [
    "- A single instance of viewing an app\n",
    "- View an app from two different tabs in your browser, each tab will have its own session\n",
    "- Each viewer of an app will have a Session State tied to their specific view\n",
    "- Streamlit maintains this session as the user interacts with the app\n",
    "- If the user refreshes their browser page or reloads the URL to the app, their Session State resets and they begin again with a new session"
   ]
  },
  {
   "cell_type": "markdown",
   "id": "47c04cd2",
   "metadata": {},
   "source": [
    "<br></br>\n",
    "\n",
    "### First Example"
   ]
  },
  {
   "cell_type": "markdown",
   "id": "7f74dbbf",
   "metadata": {},
   "source": [
    "> Scenario: We want to build a Streamlit button that counts how many times a user clicks it, and displays the updated count each time"
   ]
  },
  {
   "cell_type": "markdown",
   "id": "990afe89",
   "metadata": {},
   "source": [
    "<u>First Try using the code below and examine the results:</u>\n",
    "<br></br>\n",
    "\n",
    "```python\n",
    "import streamlit as st\n",
    "\n",
    "counter = 0\n",
    "\n",
    "st.markdown(\"<u>Counter:</u>\", unsafe_allow_html=True)\n",
    "st.write(f\"{counter}\")\n",
    "\n",
    "\n",
    "st.header(f\"You Clicked The Button {counter} times\")\n",
    "\n",
    "if st.button(\"Click The Button\"):\n",
    "    counter += 1\n",
    "```"
   ]
  },
  {
   "cell_type": "markdown",
   "id": "acde5b5b",
   "metadata": {},
   "source": [
    "<br></br>\n",
    "\n",
    "<u>Now, Try this code and examine the results:</u>\n",
    "<br></br>\n",
    "\n",
    "```python\n",
    "import streamlit as st\n",
    "\n",
    "st.markdown(\"<u>Printing st.session_state:</u>\", unsafe_allow_html=True)\n",
    "st.write(f\"{st.session_state}\")\n",
    "\n",
    "\n",
    "if \"counter\" not in st.session_state:\n",
    "    st.session_state.counter = 0\n",
    "\n",
    "st.markdown(\"<u>Printing st.session_state.counter:</u>\", unsafe_allow_html=True)\n",
    "st.write(f\"{st.session_state.counter}\")\n",
    "\n",
    "\n",
    "st.header(f\"You Clicked The Button {st.session_state.counter} times\")\n",
    "st.button(\"Click The Button\")\n",
    "\n",
    "st.session_state.counter += 1\n",
    "```"
   ]
  },
  {
   "cell_type": "markdown",
   "id": "7059e913",
   "metadata": {},
   "source": [
    "<br></br>\n",
    "\n",
    "### Second Example"
   ]
  },
  {
   "cell_type": "markdown",
   "id": "7d61606a",
   "metadata": {},
   "source": [
    "Session State is used when you have a progressive process that you want to build upon from one rerun to the next"
   ]
  },
  {
   "cell_type": "markdown",
   "id": "219f4546",
   "metadata": {},
   "source": [
    "<u>Try using the code below and examine the results:</u>\n",
    "\n",
    "```python\n",
    "import streamlit as st\n",
    "\n",
    "st.title(\"State Management in Streamlit\")\n",
    "\n",
    "\n",
    "\n",
    "\n",
    "\n",
    "st.subheader(\"❌ NOT Working (using regular `dict`)\")\n",
    "\n",
    "# Recreated every rerun\n",
    "fake_state = {\"names\": []}\n",
    "\n",
    "name_input_1 = st.text_input(\"Enter name:\", key=\"input1\")\n",
    "\n",
    "if st.button(\"Submit\", key=\"b1\"):\n",
    "    fake_state[\"names\"].append(name_input_1)\n",
    "    st.write(\"Submitted!\")\n",
    "\n",
    "st.write(\"Names (not saved):\", fake_state[\"names\"])\n",
    "\n",
    "\n",
    "\n",
    "\n",
    "\n",
    "st.markdown(\"---\")\n",
    "\n",
    "\n",
    "\n",
    "\n",
    "\n",
    "st.subheader(\"🆗 Working (using `st.session_state`)\")\n",
    "\n",
    "# Persistent state\n",
    "if \"names\" not in st.session_state:\n",
    "    st.session_state.names = []\n",
    "\n",
    "name_input_2 = st.text_input(\"Enter name:\", key=\"input2\")\n",
    "\n",
    "if st.button(\"Submit\", key=\"b2\"):\n",
    "    st.session_state.names.append(name_input_2)\n",
    "    st.write(\"Submitted!\")\n",
    "\n",
    "st.write(\"Names (preserved):\", st.session_state.names)\n",
    "```"
   ]
  },
  {
   "cell_type": "markdown",
   "id": "c9ecab78",
   "metadata": {},
   "source": [
    "<br></br>\n",
    "\n",
    "## Deployment with Streamlit Cloud"
   ]
  },
  {
   "cell_type": "markdown",
   "id": "00733fe8",
   "metadata": {},
   "source": [
    "### Deploy and Share Your App"
   ]
  },
  {
   "cell_type": "markdown",
   "id": "4aba5573",
   "metadata": {},
   "source": [
    "- Deployment with Streamlit Cloud\n",
    "- Push your code to GitHub\n",
    "- Go to https://streamlit.io/cloud\n",
    "- Connect your repo and deploy\n",
    "\n",
    "- Ensure you have:\n",
    "  - requirements.txt\n",
    "  - .streamlit/secrets.toml for your OpenAI API key"
   ]
  }
 ],
 "metadata": {
  "kernelspec": {
   "display_name": "Python 3",
   "language": "python",
   "name": "python3"
  },
  "language_info": {
   "codemirror_mode": {
    "name": "ipython",
    "version": 3
   },
   "file_extension": ".py",
   "mimetype": "text/x-python",
   "name": "python",
   "nbconvert_exporter": "python",
   "pygments_lexer": "ipython3",
   "version": "3.11.0"
  }
 },
 "nbformat": 4,
 "nbformat_minor": 5
}

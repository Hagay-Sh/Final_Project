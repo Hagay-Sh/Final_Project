{
 "cells": [
  {
   "cell_type": "markdown",
   "id": "cfe1fd15",
   "metadata": {},
   "source": [
    "# Streamlit\n",
    "\n",
    "© Advanced Analytics, Amir Ben Haim, 2024"
   ]
  },
  {
   "cell_type": "markdown",
   "id": "b87d14da",
   "metadata": {},
   "source": [
    "<br>\n",
    "<br>\n",
    "<hr class=\"dotted\">\n",
    "<br>\n",
    "<br>"
   ]
  },
  {
   "cell_type": "markdown",
   "id": "263714da",
   "metadata": {},
   "source": [
    "## API Keys"
   ]
  },
  {
   "cell_type": "markdown",
   "id": "17bd1532",
   "metadata": {},
   "source": [
    "In order to use the OpenAI language model, users are required to generate a token.\n",
    "<br></br>\n",
    "<u>Follow these simple steps to generate a token with openai:</u>\n",
    "- Go to <a href=\"url\">https://platform.openai.com/apps</a>  and signup with your email address or connect your Google Account.\n",
    "- Go to View API Keys on left side of your Personal Account Settings\n",
    "- Select Create new Secret key\n",
    "- The API access to OPENAI is a paid service\n",
    "- You have to set up billing\n",
    "- You don’t need ChatGPT Plus - The API and ChatGPT subscriptions are billed separately\n",
    "<br></br>\n",
    "<p style=\"background-color:Tomato\"> Make sure you read the Pricing information before experimenting</p>\n",
    "<p style=\"background-color:Tomato\">Once you add your API key, make sure to not share it with anyone! The API key should remain private</p>\n",
    "<p style=\"background-color:Tomato\">Use the <code>.env</code> file for you API key</p>"
   ]
  },
  {
   "cell_type": "markdown",
   "id": "9211e435",
   "metadata": {},
   "source": [
    "<br>\n",
    "<br>\n",
    "<hr class=\"dotted\">\n",
    "<br>\n",
    "<br>"
   ]
  },
  {
   "cell_type": "markdown",
   "id": "843c1e21",
   "metadata": {},
   "source": [
    "## Exercise"
   ]
  },
  {
   "cell_type": "markdown",
   "id": "1b9860f7",
   "metadata": {},
   "source": [
    "\n",
    "<ul style=\"font-size:22px\">\n",
    "<li>Use Streamlit to create a demo that lets a user chat with GPT</li>\n",
    "    <ul>\n",
    "        <li><b><u>It's important to handle continuity</u></b></li>\n",
    "        <li><b><u>No need for a `system` message</u></b></il>\n",
    "    </ul>\n",
    "        \n",
    "</li>\n",
    "</ul>\n"
   ]
  },
  {
   "cell_type": "markdown",
   "id": "ecc99ae6",
   "metadata": {},
   "source": [
    "![alt text](image.png)"
   ]
  },
  {
   "cell_type": "markdown",
   "id": "0cd3c902",
   "metadata": {},
   "source": [
    "<br>\n",
    "<br>\n",
    "<hr class=\"dotted\">\n",
    "<br>\n",
    "<br>"
   ]
  }
 ],
 "metadata": {
  "kernelspec": {
   "display_name": "Python 3",
   "language": "python",
   "name": "python3"
  },
  "language_info": {
   "codemirror_mode": {
    "name": "ipython",
    "version": 3
   },
   "file_extension": ".py",
   "mimetype": "text/x-python",
   "name": "python",
   "nbconvert_exporter": "python",
   "pygments_lexer": "ipython3",
   "version": "3.11.0"
  }
 },
 "nbformat": 4,
 "nbformat_minor": 5
}

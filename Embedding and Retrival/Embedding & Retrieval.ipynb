{
 "cells": [
  {
   "cell_type": "markdown",
   "id": "b2af74cc",
   "metadata": {},
   "source": [
    "# Embedding & Retrieval\n",
    "\n",
    "© Advanced Analytics, Amir Ben Haim, 2024"
   ]
  },
  {
   "cell_type": "markdown",
   "id": "15966a6a",
   "metadata": {},
   "source": [
    "<br>\n",
    "<br>\n",
    "<hr class=\"dotted\">\n",
    "<br>\n",
    "<br>"
   ]
  },
  {
   "cell_type": "markdown",
   "id": "8e9098e6",
   "metadata": {},
   "source": [
    "## <u>We'll cover</u>"
   ]
  },
  {
   "cell_type": "markdown",
   "id": "333109e7",
   "metadata": {},
   "source": [
    "- File input - use PDF files as inputs to the OpenAI API\n",
    "- Vector Stores - with Retrieval\n",
    "- Vector Embedding & Vector DB"
   ]
  },
  {
   "cell_type": "markdown",
   "id": "db7d854d",
   "metadata": {},
   "source": [
    "<br>\n",
    "<br>\n",
    "<hr class=\"dotted\">\n",
    "<br>\n",
    "<br>"
   ]
  },
  {
   "cell_type": "markdown",
   "id": "38265701",
   "metadata": {},
   "source": [
    "## Setup"
   ]
  },
  {
   "cell_type": "markdown",
   "id": "254fd73e",
   "metadata": {},
   "source": [
    "<br></br>\n",
    "\n",
    "### <u>API Keys</u>"
   ]
  },
  {
   "cell_type": "markdown",
   "id": "3a3d440b",
   "metadata": {},
   "source": [
    "In order to use the OpenAI language model, users are required to generate a token.\n",
    "<br></br>\n",
    "<u>Follow these simple steps to generate a token with openai:</u>\n",
    "- Go to <a href=\"url\">https://platform.openai.com/apps</a>  and signup with your email address or connect your Google Account.\n",
    "- Go to View API Keys on left side of your Personal Account Settings\n",
    "- Select Create new Secret key\n",
    "- The API access to OPENAI is a paid service\n",
    "- You have to set up billing\n",
    "- You don’t need ChatGPT Plus - The API and ChatGPT subscriptions are billed separately\n",
    "<br></br>\n",
    "<p style=\"background-color:Tomato\"> Make sure you read the Pricing information before experimenting</p>\n",
    "<p style=\"background-color:Tomato\">Once you add your API key, make sure to not share it with anyone! The API key should remain private</p>\n",
    "<p style=\"background-color:Tomato\">Use the <code>.env</code> file for you API key</p>"
   ]
  },
  {
   "cell_type": "markdown",
   "id": "637d306e",
   "metadata": {},
   "source": [
    "<br></br>\n",
    "\n",
    "### <u>pip install</u>"
   ]
  },
  {
   "cell_type": "markdown",
   "id": "a64a025c",
   "metadata": {},
   "source": [
    "```powershell\n",
    "pip install openai\n",
    "pip install python-dotenv\n",
    "pip install PyPDF2\n",
    "pip install chromadb\n",
    "```"
   ]
  },
  {
   "cell_type": "markdown",
   "id": "ace8e8d5",
   "metadata": {},
   "source": [
    "<br></br>\n",
    "\n",
    "### <u>API Key Setup</u>"
   ]
  },
  {
   "cell_type": "markdown",
   "id": "774f7b02",
   "metadata": {},
   "source": [
    "Before using LangChain with OpenAI, set your API key:"
   ]
  },
  {
   "cell_type": "code",
   "execution_count": 1,
   "id": "017288ce",
   "metadata": {},
   "outputs": [],
   "source": [
    "from openai import OpenAI"
   ]
  },
  {
   "cell_type": "code",
   "execution_count": 3,
   "id": "5e6507c4",
   "metadata": {},
   "outputs": [],
   "source": [
    "from dotenv import load_dotenv\n",
    "import os\n",
    "\n",
    "load_dotenv()  # Loads variables from .env\n",
    "\n",
    "openai_key = os.getenv(\"OPENAI_API_KEY\")"
   ]
  },
  {
   "cell_type": "markdown",
   "id": "cd98b51d",
   "metadata": {},
   "source": [
    "<br>\n",
    "<br>\n",
    "<hr class=\"dotted\">\n",
    "<br>\n",
    "<br>"
   ]
  },
  {
   "cell_type": "markdown",
   "id": "fe066493",
   "metadata": {},
   "source": [
    "## File inputs - UPDATED (with `responses` api)"
   ]
  },
  {
   "cell_type": "markdown",
   "id": "bc249790",
   "metadata": {},
   "source": [
    "<p style=\"font-size:25px\"><u>Use PDF files as inputs to the OpenAI API</u></p>\n",
    "\n",
    "- OpenAI models with vision capabilities can also accept PDF files as input\n",
    "\n",
    "- Provide PDFs either as **Base64-encoded data** or as **file IDs** obtained after uploading files to the `/v1/files` endpoint\n",
    "\n",
    "- To help models understand PDF content, both the extracted text and images are used as input\n",
    "\n",
    "- File size limitations - You can upload up to 100 pages and 32MB of total content in a single request to the API, across multiple file inputs\n",
    "\n",
    "- Supported models - Only models that support both text and image inputs, such as gpt-4o, gpt-4o-mini, or o1, can accept PDF files as input"
   ]
  },
  {
   "cell_type": "markdown",
   "id": "27d204b3",
   "metadata": {},
   "source": [
    "<br></br>\n",
    "\n",
    "### <u>Uploading files</u>"
   ]
  },
  {
   "cell_type": "markdown",
   "id": "788f7b21",
   "metadata": {},
   "source": [
    "In the example below, we first upload a PDF using the Files API"
   ]
  },
  {
   "cell_type": "code",
   "execution_count": 5,
   "id": "36c5a0c7",
   "metadata": {},
   "outputs": [
    {
     "data": {
      "text/plain": [
       "FileObject(id='file-SLeVeDWT9jbgjZKAH14xD9', bytes=99884, created_at=1750839934, filename='Basic_Woodworking_Course_Syllabus.pdf', object='file', purpose='user_data', status='processed', expires_at=None, status_details=None)"
      ]
     },
     "execution_count": 5,
     "metadata": {},
     "output_type": "execute_result"
    }
   ],
   "source": [
    "client = OpenAI()\n",
    "\n",
    "file = client.files.create(\n",
    "    file=open(\"Basic_Woodworking_Course_Syllabus.pdf\", \"rb\"),  # \"rb\" means read binary mode. Used to read files like PDFs or images\n",
    "    purpose=\"user_data\"\n",
    ")\n",
    "\n",
    "file"
   ]
  },
  {
   "cell_type": "code",
   "execution_count": 6,
   "id": "07158176",
   "metadata": {},
   "outputs": [
    {
     "data": {
      "text/plain": [
       "openai.types.file_object.FileObject"
      ]
     },
     "execution_count": 6,
     "metadata": {},
     "output_type": "execute_result"
    }
   ],
   "source": [
    "type(file)"
   ]
  },
  {
   "cell_type": "code",
   "execution_count": 7,
   "id": "a8d0134a",
   "metadata": {},
   "outputs": [
    {
     "data": {
      "text/plain": [
       "'file-SLeVeDWT9jbgjZKAH14xD9'"
      ]
     },
     "execution_count": 7,
     "metadata": {},
     "output_type": "execute_result"
    }
   ],
   "source": [
    "file.id"
   ]
  },
  {
   "cell_type": "code",
   "execution_count": 8,
   "id": "d714ffd7",
   "metadata": {},
   "outputs": [
    {
     "data": {
      "text/plain": [
       "'Basic_Woodworking_Course_Syllabus.pdf'"
      ]
     },
     "execution_count": 8,
     "metadata": {},
     "output_type": "execute_result"
    }
   ],
   "source": [
    "file.filename"
   ]
  },
  {
   "cell_type": "code",
   "execution_count": 9,
   "id": "c09dcd27",
   "metadata": {},
   "outputs": [
    {
     "data": {
      "text/plain": [
       "'processed'"
      ]
     },
     "execution_count": 9,
     "metadata": {},
     "output_type": "execute_result"
    }
   ],
   "source": [
    "file.status"
   ]
  },
  {
   "cell_type": "markdown",
   "id": "788af358",
   "metadata": {},
   "source": [
    "<br></br>\n",
    "\n",
    "### <u>API request to the model</u>"
   ]
  },
  {
   "cell_type": "markdown",
   "id": "088a426a",
   "metadata": {},
   "source": [
    "Reference the file ID in an API request to the model"
   ]
  },
  {
   "cell_type": "code",
   "execution_count": 10,
   "id": "00abf9d5",
   "metadata": {},
   "outputs": [
    {
     "name": "stdout",
     "output_type": "stream",
     "text": [
      "The instructor's name is **Michael Carpenter**.\n"
     ]
    }
   ],
   "source": [
    "response = client.responses.create(\n",
    "    model=\"gpt-4.1\",\n",
    "    input=[\n",
    "        {\"role\": \"user\",\n",
    "        \"content\":\n",
    "                [{\"type\": \"input_file\",\"file_id\": file.id},\n",
    "                {\"type\": \"input_text\", \"text\": \"What is the instructor name?\"}]\n",
    "        }\n",
    "    ]\n",
    ")\n",
    "\n",
    "print(response.output_text)"
   ]
  },
  {
   "cell_type": "markdown",
   "id": "1e86fc42",
   "metadata": {},
   "source": [
    "<br></br>\n",
    "\n",
    "### <u>Where is the file saved?</u>"
   ]
  },
  {
   "cell_type": "markdown",
   "id": "325915cb",
   "metadata": {},
   "source": [
    "- Uploaded to OpenAI's servers\n",
    "- Associated with your OpenAI account [Storage](https://platform.openai.com/storage/files)\n",
    "- Not saved locally; the file object is just a Python reference to metadata"
   ]
  },
  {
   "cell_type": "markdown",
   "id": "56c70ea8",
   "metadata": {},
   "source": [
    "<p style=\"font-size:25px\"><u>To list your uploaded files</u></p>"
   ]
  },
  {
   "cell_type": "code",
   "execution_count": 11,
   "id": "9d39d6c7",
   "metadata": {},
   "outputs": [
    {
     "name": "stdout",
     "output_type": "stream",
     "text": [
      "file-SLeVeDWT9jbgjZKAH14xD9\n",
      "Basic_Woodworking_Course_Syllabus.pdf\n",
      "\n",
      "file-4taMwcgHqkNZ6G7jtvA525\n",
      "Basic_Woodworking_Course_Syllabus.pdf\n",
      "\n",
      "file-WpJftGKNAwWuGPvBJPuwFV\n",
      "Basic_Woodworking_Course_Syllabus.pdf\n",
      "\n",
      "file-HF1dngdc9u2eEbgwcPy2yC\n",
      "Basic_Woodworking_Course_Syllabus.pdf\n",
      "\n",
      "file-DNQF2rKBJkuaPhk2WH7WyF\n",
      "Basic_Woodworking_Course_Syllabus.pdf\n",
      "\n",
      "file-7vBDyJFQ5wLAVNq7i8tVhy\n",
      "Basic_Woodworking_Course_Syllabus.pdf\n",
      "\n",
      "file-RgKy1bGsp1jZpqUvT7HsJD\n",
      "Python Developer job Description.pdf\n",
      "\n",
      "file-2bLPsbpuhAo6DYDPc522cE\n",
      "step_metrics.csv\n",
      "\n",
      "file-HoXyN1vHy4Lhmo2pnN4Q7T\n",
      "hotel_review_sentiment_training.jsonl\n",
      "\n",
      "file-3nzAfdeoMr3wefpXYu65TJ\n",
      "ecommerce_complaints_training.jsonl\n",
      "\n",
      "file-9U3oiMqWpGEwvcWNHJ4aZu\n",
      "hotel_review_sentiment_test.jsonl\n",
      "\n",
      "file-2FJ9Z5ygMKPobC3VJx48WE\n",
      "ecommerce_complaints_test.jsonl\n",
      "\n"
     ]
    }
   ],
   "source": [
    "files = client.files.list()\n",
    "\n",
    "for f in files.data:\n",
    "    print(f.id)\n",
    "    print(f.filename)\n",
    "    print()"
   ]
  },
  {
   "cell_type": "code",
   "execution_count": 12,
   "id": "f0b49b34",
   "metadata": {},
   "outputs": [
    {
     "data": {
      "text/plain": [
       "[FileObject(id='file-SLeVeDWT9jbgjZKAH14xD9', bytes=99884, created_at=1750839934, filename='Basic_Woodworking_Course_Syllabus.pdf', object='file', purpose='user_data', status='processed', expires_at=None, status_details=None),\n",
       " FileObject(id='file-4taMwcgHqkNZ6G7jtvA525', bytes=99884, created_at=1750839581, filename='Basic_Woodworking_Course_Syllabus.pdf', object='file', purpose='user_data', status='processed', expires_at=None, status_details=None),\n",
       " FileObject(id='file-WpJftGKNAwWuGPvBJPuwFV', bytes=99884, created_at=1750839464, filename='Basic_Woodworking_Course_Syllabus.pdf', object='file', purpose='user_data', status='processed', expires_at=None, status_details=None),\n",
       " FileObject(id='file-HF1dngdc9u2eEbgwcPy2yC', bytes=99884, created_at=1750839399, filename='Basic_Woodworking_Course_Syllabus.pdf', object='file', purpose='user_data', status='processed', expires_at=None, status_details=None),\n",
       " FileObject(id='file-DNQF2rKBJkuaPhk2WH7WyF', bytes=99884, created_at=1750839318, filename='Basic_Woodworking_Course_Syllabus.pdf', object='file', purpose='user_data', status='processed', expires_at=None, status_details=None),\n",
       " FileObject(id='file-7vBDyJFQ5wLAVNq7i8tVhy', bytes=99884, created_at=1750839274, filename='Basic_Woodworking_Course_Syllabus.pdf', object='file', purpose='user_data', status='processed', expires_at=None, status_details=None),\n",
       " FileObject(id='file-RgKy1bGsp1jZpqUvT7HsJD', bytes=99900, created_at=1750839191, filename='Python Developer job Description.pdf', object='file', purpose='user_data', status='processed', expires_at=None, status_details=None),\n",
       " FileObject(id='file-2bLPsbpuhAo6DYDPc522cE', bytes=5176, created_at=1750615916, filename='step_metrics.csv', object='file', purpose='fine-tune-results', status='processed', expires_at=None, status_details=None),\n",
       " FileObject(id='file-HoXyN1vHy4Lhmo2pnN4Q7T', bytes=20093, created_at=1750614116, filename='hotel_review_sentiment_training.jsonl', object='file', purpose='fine-tune', status='processed', expires_at=None, status_details=None),\n",
       " FileObject(id='file-3nzAfdeoMr3wefpXYu65TJ', bytes=18617, created_at=1750613790, filename='ecommerce_complaints_training.jsonl', object='file', purpose='fine-tune', status='processed', expires_at=None, status_details=None),\n",
       " FileObject(id='file-9U3oiMqWpGEwvcWNHJ4aZu', bytes=10450, created_at=1750609497, filename='hotel_review_sentiment_test.jsonl', object='file', purpose='evals', status='processed', expires_at=None, status_details=None),\n",
       " FileObject(id='file-2FJ9Z5ygMKPobC3VJx48WE', bytes=12444, created_at=1750608758, filename='ecommerce_complaints_test.jsonl', object='file', purpose='evals', status='processed', expires_at=None, status_details=None)]"
      ]
     },
     "execution_count": 12,
     "metadata": {},
     "output_type": "execute_result"
    }
   ],
   "source": [
    "files.data"
   ]
  },
  {
   "cell_type": "markdown",
   "id": "14b86c3f",
   "metadata": {},
   "source": [
    "<p style=\"font-size:25px\"><u>To delete a file</u></p>"
   ]
  },
  {
   "cell_type": "code",
   "execution_count": 13,
   "id": "62fbdd4c",
   "metadata": {},
   "outputs": [
    {
     "data": {
      "text/plain": [
       "FileDeleted(id='file-SLeVeDWT9jbgjZKAH14xD9', deleted=True, object='file')"
      ]
     },
     "execution_count": 13,
     "metadata": {},
     "output_type": "execute_result"
    }
   ],
   "source": [
    "client.files.delete(file.id)"
   ]
  },
  {
   "cell_type": "code",
   "execution_count": 14,
   "id": "4dab3887",
   "metadata": {},
   "outputs": [
    {
     "name": "stdout",
     "output_type": "stream",
     "text": [
      "file-4taMwcgHqkNZ6G7jtvA525\n",
      "Basic_Woodworking_Course_Syllabus.pdf\n",
      "\n",
      "file-WpJftGKNAwWuGPvBJPuwFV\n",
      "Basic_Woodworking_Course_Syllabus.pdf\n",
      "\n",
      "file-HF1dngdc9u2eEbgwcPy2yC\n",
      "Basic_Woodworking_Course_Syllabus.pdf\n",
      "\n",
      "file-DNQF2rKBJkuaPhk2WH7WyF\n",
      "Basic_Woodworking_Course_Syllabus.pdf\n",
      "\n",
      "file-7vBDyJFQ5wLAVNq7i8tVhy\n",
      "Basic_Woodworking_Course_Syllabus.pdf\n",
      "\n",
      "file-RgKy1bGsp1jZpqUvT7HsJD\n",
      "Python Developer job Description.pdf\n",
      "\n",
      "file-2bLPsbpuhAo6DYDPc522cE\n",
      "step_metrics.csv\n",
      "\n",
      "file-HoXyN1vHy4Lhmo2pnN4Q7T\n",
      "hotel_review_sentiment_training.jsonl\n",
      "\n",
      "file-3nzAfdeoMr3wefpXYu65TJ\n",
      "ecommerce_complaints_training.jsonl\n",
      "\n",
      "file-9U3oiMqWpGEwvcWNHJ4aZu\n",
      "hotel_review_sentiment_test.jsonl\n",
      "\n",
      "file-2FJ9Z5ygMKPobC3VJx48WE\n",
      "ecommerce_complaints_test.jsonl\n",
      "\n"
     ]
    }
   ],
   "source": [
    "files = client.files.list()\n",
    "\n",
    "for f in files.data:\n",
    "    print(f.id)\n",
    "    print(f.filename)\n",
    "    print()"
   ]
  },
  {
   "cell_type": "markdown",
   "id": "64be6763",
   "metadata": {},
   "source": [
    "<br></br>\n",
    "\n",
    "### <u>API request to the model - with Base64-encoded</u>"
   ]
  },
  {
   "cell_type": "markdown",
   "id": "28efd8c1",
   "metadata": {},
   "source": [
    "You can send PDF file inputs as Base64-encoded inputs as well\n",
    "\n",
    "<u><b>What Is Base64 Encoding?</b></u>\n",
    "<br>\n",
    "Base64 is a way to convert binary data (like a PDF) into a text string that can safely be embedded in JSON or HTML.\n",
    "<br>\n",
    "This allows APIs that accept only JSON inputs to receive file contents."
   ]
  },
  {
   "cell_type": "code",
   "execution_count": 15,
   "id": "0f131569",
   "metadata": {},
   "outputs": [],
   "source": [
    "import base64\n",
    "\n",
    "\n",
    "with open(\"Basic_Woodworking_Course_Syllabus.pdf\", \"rb\") as f:  # \"rb\" means read binary mode. Used to read files like PDFs or images\n",
    "    data = f.read()\n",
    "\n",
    "base64_string = base64.b64encode(data).decode(\"utf-8\")"
   ]
  },
  {
   "cell_type": "code",
   "execution_count": 16,
   "id": "d3065356",
   "metadata": {},
   "outputs": [
    {
     "data": {
      "text/plain": [
       "'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'"
      ]
     },
     "execution_count": 16,
     "metadata": {},
     "output_type": "execute_result"
    }
   ],
   "source": [
    "base64_string"
   ]
  },
  {
   "cell_type": "code",
   "execution_count": 17,
   "id": "2e90f455",
   "metadata": {},
   "outputs": [
    {
     "data": {
      "text/plain": [
       "str"
      ]
     },
     "execution_count": 17,
     "metadata": {},
     "output_type": "execute_result"
    }
   ],
   "source": [
    "type(base64_string)"
   ]
  },
  {
   "cell_type": "code",
   "execution_count": 18,
   "id": "cff683aa",
   "metadata": {},
   "outputs": [
    {
     "name": "stdout",
     "output_type": "stream",
     "text": [
      "The opening date (start date) of the Basic Woodworking Course - Beginner Level is **Monday, May 6, 2024**.\n"
     ]
    }
   ],
   "source": [
    "response = client.responses.create(\n",
    "    model=\"gpt-4.1\",\n",
    "    input=[\n",
    "        {\"role\": \"user\",\n",
    "        \"content\":\n",
    "                [{\"type\": \"input_file\", \"filename\": \"Basic_Woodworking_Course_Syllabus.pdf\", \"file_data\": f\"data:application/pdf;base64,{base64_string}\"},\n",
    "                {\"type\": \"input_text\", \"text\": \"What is opening date?\"}]\n",
    "        }\n",
    "    ]\n",
    ")\n",
    "\n",
    "print(response.output_text)"
   ]
  },
  {
   "cell_type": "markdown",
   "id": "052441a9",
   "metadata": {},
   "source": [
    "<br>\n",
    "<br>\n",
    "<hr class=\"dotted\">\n",
    "<br>\n",
    "<br>"
   ]
  },
  {
   "cell_type": "markdown",
   "id": "76b53eaf",
   "metadata": {},
   "source": [
    "## File inputs - (with `chat.completion` api)"
   ]
  },
  {
   "cell_type": "markdown",
   "id": "ecf3741c",
   "metadata": {},
   "source": [
    "<br></br>\n",
    "\n",
    "### <u>Extract PDF Data</u>"
   ]
  },
  {
   "cell_type": "markdown",
   "id": "d24f6cb4",
   "metadata": {},
   "source": [
    "Extract actual readable text from the PDF before sending it"
   ]
  },
  {
   "cell_type": "code",
   "execution_count": 19,
   "id": "b851f365",
   "metadata": {},
   "outputs": [],
   "source": [
    "from PyPDF2 import PdfReader\n",
    "\n",
    "# Extract text from PDF\n",
    "reader = PdfReader(\"Basic_Woodworking_Course_Syllabus.pdf\")\n",
    "text = \"\\n\".join(page.extract_text() for page in reader.pages if page.extract_text())"
   ]
  },
  {
   "cell_type": "code",
   "execution_count": 20,
   "id": "4d944734",
   "metadata": {},
   "outputs": [
    {
     "name": "stdout",
     "output_type": "stream",
     "text": [
      "Basic Woodworking Course - Beginner Level  \n",
      " \n",
      " Course Overview  \n",
      "This hands -on course introduces you to the fundamentals of woodworking. \n",
      "Learn how to safely use  tools, work with wood, and build small personal \n",
      "projects with confidence.  \n",
      " \n",
      "What You Will Learn  \n",
      "1. Introduction to Woodworking - Types of wood, understanding grain, \n",
      "moisture, and hardness  \n",
      " \n",
      "2. Workshop Safety - Personal protective equipment (PPE), safe handling \n",
      "of tools  \n",
      " \n",
      "3. Basic Hand Tools - Handsaws, chisels, hammers, measuring tools  \n",
      " \n",
      "4. Power Tools - Drills, jigsaws, sanders (introductory level)  \n",
      " \n",
      "5. Wood Joinery - Butt joints, lap joints, dowels, screws  \n",
      " \n",
      "6. Project Building - Guided construction of a small stool, shelf, or toolbox  \n",
      " \n",
      "7. Sanding & Finishing - Surface prep and applying finishes (oil, varnish, \n",
      "etc.) \n",
      " \n",
      "8. Final Project - Build your own small piece with instructor support  \n",
      " \n",
      "Instructor Details  \n",
      "Name: Michael Carpenter  \n",
      "Age: 52  \n",
      "Experience: 25+ years as a master woodworker and certified instructor. \n",
      "Michael has taught over 300 beginners across the U.S.  \n",
      "Email: michael.carpenter@woodstart.com  \n",
      "Phone: +1 (303) 555 -0198  \n",
      " \n",
      " \n",
      "Location  \n",
      "Workshop Address: WoodStart Workshop, 141 Maple Lane, Boulder, CO \n",
      "80302, USA  \n",
      "Parking: Free street and lot parking available  \n",
      "Accessibility: Fully wheelchair accessible  \n",
      " \n",
      "Course Schedule  \n",
      "Start Date: Monday, May 6, 2024  \n",
      "Days: Mondays & Thursdays  \n",
      "Time: 6:00 PM - 8:30 PM (2.5 hours per session)  \n",
      "Duration: 6 weeks (12 sessions total)  \n",
      " \n",
      "Payment Details  \n",
      "Total Cost: $480  \n",
      "Includes materials, tool access, and safety gear  \n",
      "Payment Options: Credit Card, PayPal, or Cash on first day  \n",
      "Discount: 10% off for students, seniors, or returning participants  \n",
      " \n",
      "How to Register  \n",
      "Email michael.carpenter@woodstart.com with the following details:  \n",
      "- Full name  \n",
      "- Phone number  \n",
      "- Reason for joining  \n",
      "- Any prior experience (not required)  \n",
      "Note: Maximum 10 participants per class. First -come, first -served  \n"
     ]
    }
   ],
   "source": [
    "print(text)"
   ]
  },
  {
   "cell_type": "code",
   "execution_count": 21,
   "id": "48be64a6",
   "metadata": {},
   "outputs": [
    {
     "data": {
      "text/plain": [
       "str"
      ]
     },
     "execution_count": 21,
     "metadata": {},
     "output_type": "execute_result"
    }
   ],
   "source": [
    "type(text)"
   ]
  },
  {
   "cell_type": "markdown",
   "id": "0949f589",
   "metadata": {},
   "source": [
    "<br></br>\n",
    "\n",
    "### <u>API request to the model</u>"
   ]
  },
  {
   "cell_type": "code",
   "execution_count": 22,
   "id": "95a03034",
   "metadata": {},
   "outputs": [
    {
     "name": "stdout",
     "output_type": "stream",
     "text": [
      "The instructor's name is Michael Carpenter.\n"
     ]
    }
   ],
   "source": [
    "response = client.chat.completions.create(\n",
    "    model=\"gpt-4.1\",\n",
    "    messages = [\n",
    "        {\"role\": \"user\", \"content\": f\"{text}\\n\\nWhat is the instructor's name?\"}]\n",
    ")\n",
    "\n",
    "print(response.choices[0].message.content)"
   ]
  },
  {
   "cell_type": "markdown",
   "id": "c7c7d20e",
   "metadata": {},
   "source": [
    "<br>\n",
    "<br>\n",
    "<hr class=\"dotted\">\n",
    "<br>\n",
    "<br>"
   ]
  },
  {
   "cell_type": "markdown",
   "id": "8a3307f6",
   "metadata": {},
   "source": [
    "## Vector Stores - UPDATED (with `responses` api)"
   ]
  },
  {
   "cell_type": "markdown",
   "id": "1bc354b6",
   "metadata": {},
   "source": [
    "- Vector stores are the containers that power semantic search for the Retrieval API and the Assistants API file search tool\n",
    "\n",
    "- When you add a file to a vector store it will be automatically **chunked, embedded, and indexed**\n",
    "\n",
    "- Vector stores contain `vector_store_file` objects, which are backed by a `file` object\n",
    "\n",
    "- <u>Object Type</u>\n",
    "  - `file` - Represents content uploaded through the **Files API**\n",
    "  - `vector_store` - Container for searchable files\n",
    "  - `vector_store.file` - Wrapper type specifically representing a file that has been chunked and embedded\n",
    "\n",
    "- Limits - The maximum file size is 512 MB. Each file should contain no more than 5,000,000 tokens per file (computed automatically when you attach a file)\n",
    "\n",
    "<br></br>\n",
    "\n",
    "- Supported Files:\n",
    "\n",
    "| File Format | MIME Type                                                       |\n",
    "|-------------|------------------------------------------------------------------|\n",
    "| .c          | text/x-c                                                         |\n",
    "| .cpp        | text/x-c++                                                       |\n",
    "| .cs         | text/x-csharp                                                    |\n",
    "| .css        | text/css                                                         |\n",
    "| .doc        | application/msword                                               |\n",
    "| .docx       | application/vnd.openxmlformats-officedocument.wordprocessingml.document |\n",
    "| .go         | text/x-golang                                                    |\n",
    "| .html       | text/html                                                        |\n",
    "| .java       | text/x-java                                                      |\n",
    "| .js         | text/javascript                                                  |\n",
    "| .json       | application/json                                                 |\n",
    "| .md         | text/markdown                                                    |\n",
    "| .pdf        | application/pdf                                                  |\n",
    "| .php        | text/x-php                                                       |\n",
    "| .pptx       | application/vnd.openxmlformats-officedocument.presentationml.presentation |\n",
    "| .py         | text/x-python / text/x-script.python                             |\n",
    "| .rb         | text/x-ruby                                                      |\n",
    "| .sh         | application/x-sh                                                 |\n",
    "| .tex        | text/x-tex                                                       |\n",
    "| .ts         | application/typescript                                           |\n",
    "| .txt        | text/plain                                                       |\n",
    "\n"
   ]
  },
  {
   "cell_type": "markdown",
   "id": "b1016e75",
   "metadata": {},
   "source": [
    "<br></br>\n",
    "\n",
    "### <u>Vector store operations</u>"
   ]
  },
  {
   "cell_type": "markdown",
   "id": "f1d036d1",
   "metadata": {},
   "source": [
    "#### **Create vector store**"
   ]
  },
  {
   "cell_type": "code",
   "execution_count": 23,
   "id": "f264bde0",
   "metadata": {},
   "outputs": [
    {
     "data": {
      "text/plain": [
       "VectorStore(id='vs_685bb3421dc081918c114228e6db28de', created_at=1750840130, file_counts=FileCounts(cancelled=0, completed=0, failed=0, in_progress=1, total=1), last_active_at=1750840130, metadata={}, name='Courses', object='vector_store', status='in_progress', usage_bytes=0, expires_after=None, expires_at=None)"
      ]
     },
     "execution_count": 23,
     "metadata": {},
     "output_type": "execute_result"
    }
   ],
   "source": [
    "# Create file\n",
    "file = client.files.create(\n",
    "    file=open(\"Basic_Woodworking_Course_Syllabus.pdf\", \"rb\"),  # \"rb\" means read binary mode. Used to read files like PDFs or images\n",
    "    purpose=\"user_data\"\n",
    ")\n",
    "\n",
    "\n",
    "# Create vector_stores and attache a file\n",
    "client.vector_stores.create(\n",
    "    name=\"Courses\",\n",
    "    file_ids=[file.id]\n",
    ")"
   ]
  },
  {
   "cell_type": "markdown",
   "id": "91eb8c60",
   "metadata": {},
   "source": [
    "#### **List vector stores**"
   ]
  },
  {
   "cell_type": "code",
   "execution_count": 24,
   "id": "dacf9ebb",
   "metadata": {},
   "outputs": [
    {
     "data": {
      "text/plain": [
       "SyncCursorPage[VectorStore](data=[VectorStore(id='vs_685bb3421dc081918c114228e6db28de', created_at=1750840130, file_counts=FileCounts(cancelled=0, completed=1, failed=0, in_progress=0, total=1), last_active_at=1750840130, metadata={}, name='Courses', object='vector_store', status='completed', usage_bytes=3060, expires_after=None, expires_at=None)], has_more=False, object='list', first_id='vs_685bb3421dc081918c114228e6db28de', last_id='vs_685bb3421dc081918c114228e6db28de')"
      ]
     },
     "execution_count": 24,
     "metadata": {},
     "output_type": "execute_result"
    }
   ],
   "source": [
    "client.vector_stores.list()"
   ]
  },
  {
   "cell_type": "code",
   "execution_count": 25,
   "id": "1bf81937",
   "metadata": {},
   "outputs": [
    {
     "name": "stdout",
     "output_type": "stream",
     "text": [
      "vs_685bb3421dc081918c114228e6db28de\n",
      "Courses\n",
      "\n"
     ]
    }
   ],
   "source": [
    "for v in client.vector_stores.list():\n",
    "    print(v.id)\n",
    "    print(v.name)\n",
    "    print()"
   ]
  },
  {
   "cell_type": "markdown",
   "id": "58227357",
   "metadata": {},
   "source": [
    "#### **Retrieve vector store**"
   ]
  },
  {
   "cell_type": "code",
   "execution_count": 26,
   "id": "29c363de",
   "metadata": {},
   "outputs": [
    {
     "data": {
      "text/plain": [
       "VectorStore(id='vs_685bb3421dc081918c114228e6db28de', created_at=1750840130, file_counts=FileCounts(cancelled=0, completed=1, failed=0, in_progress=0, total=1), last_active_at=1750840130, metadata={}, name='Courses', object='vector_store', status='completed', usage_bytes=3060, expires_after=None, expires_at=None)"
      ]
     },
     "execution_count": 26,
     "metadata": {},
     "output_type": "execute_result"
    }
   ],
   "source": [
    "client.vector_stores.retrieve(\n",
    "    vector_store_id=v.id\n",
    ")"
   ]
  },
  {
   "cell_type": "markdown",
   "id": "fbaed0de",
   "metadata": {},
   "source": [
    "#### **Update vector store**"
   ]
  },
  {
   "cell_type": "code",
   "execution_count": 27,
   "id": "67716ed1",
   "metadata": {},
   "outputs": [
    {
     "data": {
      "text/plain": [
       "VectorStore(id='vs_685bb3421dc081918c114228e6db28de', created_at=1750840130, file_counts=FileCounts(cancelled=0, completed=1, failed=0, in_progress=0, total=1), last_active_at=1750840149, metadata={}, name='Courses updated', object='vector_store', status='completed', usage_bytes=3060, expires_after=None, expires_at=None)"
      ]
     },
     "execution_count": 27,
     "metadata": {},
     "output_type": "execute_result"
    }
   ],
   "source": [
    "client.vector_stores.update(\n",
    "    vector_store_id=v.id,\n",
    "    name=\"Courses updated\"\n",
    ")"
   ]
  },
  {
   "cell_type": "code",
   "execution_count": 28,
   "id": "6a95bbb0",
   "metadata": {},
   "outputs": [
    {
     "name": "stdout",
     "output_type": "stream",
     "text": [
      "vs_685bb3421dc081918c114228e6db28de\n",
      "Courses\n",
      "\n"
     ]
    }
   ],
   "source": [
    "for v in client.vector_stores.list():\n",
    "    print(v.id)\n",
    "    print(v.name)\n",
    "    print()"
   ]
  },
  {
   "cell_type": "markdown",
   "id": "b6ac1d58",
   "metadata": {},
   "source": [
    "#### **Delete vector store**"
   ]
  },
  {
   "cell_type": "code",
   "execution_count": 29,
   "id": "0733c98f",
   "metadata": {},
   "outputs": [
    {
     "data": {
      "text/plain": [
       "VectorStoreDeleted(id='vs_685bb3421dc081918c114228e6db28de', deleted=True, object='vector_store.deleted')"
      ]
     },
     "execution_count": 29,
     "metadata": {},
     "output_type": "execute_result"
    }
   ],
   "source": [
    "client.vector_stores.delete(\n",
    "    vector_store_id=v.id\n",
    ")"
   ]
  },
  {
   "cell_type": "code",
   "execution_count": 31,
   "id": "5d38005c",
   "metadata": {},
   "outputs": [],
   "source": [
    "for v in client.vector_stores.list():\n",
    "    print(v.id)\n",
    "    print(v.name)\n",
    "    print()"
   ]
  },
  {
   "cell_type": "markdown",
   "id": "9b75288b",
   "metadata": {},
   "source": [
    "<br></br>\n",
    "\n",
    "### <u>Vector store file operations</u>"
   ]
  },
  {
   "cell_type": "markdown",
   "id": "0ce5c8f5",
   "metadata": {},
   "source": [
    "- Some operations, like `create` for `vector_store.file`, are <u>**asynchronous**</u> and may take time to complete\n",
    "- You can use functions, like `create_and_poll` to block until it is"
   ]
  },
  {
   "cell_type": "markdown",
   "id": "e32b06d0",
   "metadata": {},
   "source": [
    "<u>Synchronous API</u>\n",
    "\n",
    "- Waits for the response before moving on\n",
    "- Blocking\n",
    "- Example: response = api.call() (waits for result)\n",
    "\n",
    "<u>Asynchronous API</u>\n",
    "\n",
    "- Sends request and moves on\n",
    "- Non-blocking\n",
    "- Uses callbacks, promises, or async/await"
   ]
  },
  {
   "cell_type": "markdown",
   "id": "10580384",
   "metadata": {},
   "source": [
    "#### **Create vector store file**"
   ]
  },
  {
   "cell_type": "code",
   "execution_count": 32,
   "id": "c43781cc",
   "metadata": {},
   "outputs": [
    {
     "data": {
      "text/plain": [
       "VectorStore(id='vs_685bb381b1848191a3d7b1441a33c814', created_at=1750840193, file_counts=FileCounts(cancelled=0, completed=0, failed=0, in_progress=0, total=0), last_active_at=1750840193, metadata={}, name='Courses', object='vector_store', status='completed', usage_bytes=0, expires_after=None, expires_at=None)"
      ]
     },
     "execution_count": 32,
     "metadata": {},
     "output_type": "execute_result"
    }
   ],
   "source": [
    "# Create vector_stores and attache a file\n",
    "# Because we deleted it before\n",
    "client.vector_stores.create(\n",
    "    name=\"Courses\",\n",
    ")"
   ]
  },
  {
   "cell_type": "code",
   "execution_count": 33,
   "id": "790d2a87",
   "metadata": {},
   "outputs": [
    {
     "name": "stdout",
     "output_type": "stream",
     "text": [
      "vs_685bb381b1848191a3d7b1441a33c814\n",
      "Courses\n",
      "\n"
     ]
    }
   ],
   "source": [
    "# Get vector_stores id\n",
    "for v in client.vector_stores.list():\n",
    "    print(v.id)\n",
    "    print(v.name)\n",
    "    print()"
   ]
  },
  {
   "cell_type": "code",
   "execution_count": 34,
   "id": "90fdcd3f",
   "metadata": {},
   "outputs": [
    {
     "data": {
      "text/plain": [
       "VectorStoreFile(id='file-SYjmvqvwEqo6QnJdPsp1mf', created_at=1750840209, last_error=None, object='vector_store.file', status='completed', usage_bytes=3060, vector_store_id='vs_685bb381b1848191a3d7b1441a33c814', attributes={}, chunking_strategy=StaticFileChunkingStrategyObject(static=StaticFileChunkingStrategy(chunk_overlap_tokens=400, max_chunk_size_tokens=800), type='static'))"
      ]
     },
     "execution_count": 34,
     "metadata": {},
     "output_type": "execute_result"
    }
   ],
   "source": [
    "# Create vector store file\n",
    "client.vector_stores.files.create_and_poll(\n",
    "    vector_store_id=v.id,\n",
    "    file_id=file.id\n",
    ")"
   ]
  },
  {
   "cell_type": "markdown",
   "id": "dec0ed65",
   "metadata": {},
   "source": [
    "#### **Upload vector store file**"
   ]
  },
  {
   "cell_type": "code",
   "execution_count": 35,
   "id": "8568e965",
   "metadata": {},
   "outputs": [
    {
     "data": {
      "text/plain": [
       "VectorStoreFile(id='file-HcTg5sE1sPiJSEjDySC2yZ', created_at=1750840260, last_error=None, object='vector_store.file', status='completed', usage_bytes=3060, vector_store_id='vs_685bb381b1848191a3d7b1441a33c814', attributes={}, chunking_strategy=StaticFileChunkingStrategyObject(static=StaticFileChunkingStrategy(chunk_overlap_tokens=400, max_chunk_size_tokens=800), type='static'))"
      ]
     },
     "execution_count": 35,
     "metadata": {},
     "output_type": "execute_result"
    }
   ],
   "source": [
    "client.vector_stores.files.upload_and_poll(\n",
    "    vector_store_id=v.id,\n",
    "    file=open(\"Basic_Woodworking_Course_Syllabus.pdf\", \"rb\")\n",
    ")"
   ]
  },
  {
   "cell_type": "markdown",
   "id": "de4ebf15",
   "metadata": {},
   "source": [
    "#### **Retrieve vector store file**"
   ]
  },
  {
   "cell_type": "code",
   "execution_count": 36,
   "id": "7dc5bf3c",
   "metadata": {},
   "outputs": [
    {
     "data": {
      "text/plain": [
       "VectorStoreFile(id='file-SYjmvqvwEqo6QnJdPsp1mf', created_at=1750840209, last_error=None, object='vector_store.file', status='completed', usage_bytes=3060, vector_store_id='vs_685bb381b1848191a3d7b1441a33c814', attributes={}, chunking_strategy=StaticFileChunkingStrategyObject(static=StaticFileChunkingStrategy(chunk_overlap_tokens=400, max_chunk_size_tokens=800), type='static'))"
      ]
     },
     "execution_count": 36,
     "metadata": {},
     "output_type": "execute_result"
    }
   ],
   "source": [
    "client.vector_stores.files.retrieve(\n",
    "    vector_store_id=v.id,\n",
    "    file_id=file.id\n",
    ")"
   ]
  },
  {
   "cell_type": "markdown",
   "id": "3e2bedd8",
   "metadata": {},
   "source": [
    "#### **Update vector store file**"
   ]
  },
  {
   "cell_type": "markdown",
   "id": "9986cde4",
   "metadata": {},
   "source": [
    "<u>Attributes</u>\n",
    "\n",
    "- Each `vector_store.file` can have associated `attributes`, a dictionary of values that can be referenced when performing **semantic search** with **attribute filtering**\n",
    "- The dictionary can have at most 16 keys, with a limit of 256 characters each\n",
    "- You can update file's `attributes` or initialize them when adding the file to the `vector_store`"
   ]
  },
  {
   "cell_type": "code",
   "execution_count": 37,
   "id": "c1f4fa8c",
   "metadata": {},
   "outputs": [
    {
     "data": {
      "text/plain": [
       "VectorStoreFile(id='file-SYjmvqvwEqo6QnJdPsp1mf', created_at=1750840209, last_error=None, object='vector_store.file', status='completed', usage_bytes=3060, vector_store_id='vs_685bb381b1848191a3d7b1441a33c814', attributes={'Country': 'USA', 'Category': 'Marketing'}, chunking_strategy=StaticFileChunkingStrategyObject(static=StaticFileChunkingStrategy(chunk_overlap_tokens=400, max_chunk_size_tokens=800), type='static'))"
      ]
     },
     "execution_count": 37,
     "metadata": {},
     "output_type": "execute_result"
    }
   ],
   "source": [
    "client.vector_stores.files.update(\n",
    "    vector_store_id=v.id,\n",
    "    file_id=file.id,\n",
    "    attributes={\"Country\": \"USA\",\n",
    "                \"Category\":\"Marketing\"} \n",
    ")"
   ]
  },
  {
   "cell_type": "code",
   "execution_count": 38,
   "id": "36176de3",
   "metadata": {},
   "outputs": [
    {
     "data": {
      "text/plain": [
       "{'Country': 'USA', 'Category': 'Marketing'}"
      ]
     },
     "execution_count": 38,
     "metadata": {},
     "output_type": "execute_result"
    }
   ],
   "source": [
    "file_attr = client.vector_stores.files.retrieve(\n",
    "    vector_store_id=v.id,\n",
    "    file_id=file.id\n",
    ")\n",
    "\n",
    "file_attr.attributes"
   ]
  },
  {
   "cell_type": "markdown",
   "id": "2a14e040",
   "metadata": {},
   "source": [
    "#### **List vector store files**"
   ]
  },
  {
   "cell_type": "code",
   "execution_count": 39,
   "id": "fb0f8b64",
   "metadata": {},
   "outputs": [
    {
     "name": "stdout",
     "output_type": "stream",
     "text": [
      "vs_685bb381b1848191a3d7b1441a33c814\n",
      "Courses\n",
      "2\n",
      "\n",
      "\n",
      "\n"
     ]
    }
   ],
   "source": [
    "# The current vector_store and how many files each has\n",
    "for v in client.vector_stores.list():\n",
    "    print(v.id)\n",
    "    print(v.name)\n",
    "    print(v.file_counts.total)\n",
    "    print(\"\\n\\n\")"
   ]
  },
  {
   "cell_type": "code",
   "execution_count": 40,
   "id": "5982e879",
   "metadata": {},
   "outputs": [
    {
     "data": {
      "text/plain": [
       "2"
      ]
     },
     "execution_count": 40,
     "metadata": {},
     "output_type": "execute_result"
    }
   ],
   "source": [
    "# The second vector_store files qty\n",
    "v.file_counts.total"
   ]
  },
  {
   "cell_type": "code",
   "execution_count": 41,
   "id": "031fff29",
   "metadata": {},
   "outputs": [],
   "source": [
    "# Get all files from vectore_store\n",
    "x = client.vector_stores.files.list(\n",
    "    vector_store_id=v.id\n",
    ")"
   ]
  },
  {
   "cell_type": "code",
   "execution_count": 42,
   "id": "8bfae3f0",
   "metadata": {},
   "outputs": [
    {
     "data": {
      "text/plain": [
       "[VectorStoreFile(id='file-HcTg5sE1sPiJSEjDySC2yZ', created_at=1750840260, last_error=None, object='vector_store.file', status='completed', usage_bytes=3060, vector_store_id='vs_685bb381b1848191a3d7b1441a33c814', attributes={}, chunking_strategy=StaticFileChunkingStrategyObject(static=StaticFileChunkingStrategy(chunk_overlap_tokens=400, max_chunk_size_tokens=800), type='static')),\n",
       " VectorStoreFile(id='file-SYjmvqvwEqo6QnJdPsp1mf', created_at=1750840209, last_error=None, object='vector_store.file', status='completed', usage_bytes=3060, vector_store_id='vs_685bb381b1848191a3d7b1441a33c814', attributes={'Country': 'USA', 'Category': 'Marketing'}, chunking_strategy=StaticFileChunkingStrategyObject(static=StaticFileChunkingStrategy(chunk_overlap_tokens=400, max_chunk_size_tokens=800), type='static'))]"
      ]
     },
     "execution_count": 42,
     "metadata": {},
     "output_type": "execute_result"
    }
   ],
   "source": [
    "x.data"
   ]
  },
  {
   "cell_type": "code",
   "execution_count": 43,
   "id": "d33b9927",
   "metadata": {},
   "outputs": [
    {
     "name": "stdout",
     "output_type": "stream",
     "text": [
      "file-HcTg5sE1sPiJSEjDySC2yZ\n",
      "file-SYjmvqvwEqo6QnJdPsp1mf\n"
     ]
    }
   ],
   "source": [
    "# Get all files from vectore_store\n",
    "file_from_vector_store= client.vector_stores.files.list(\n",
    "    vector_store_id=v.id\n",
    ")\n",
    "\n",
    "\n",
    "for fiv in file_from_vector_store:\n",
    "    print(fiv.id)"
   ]
  },
  {
   "cell_type": "markdown",
   "id": "ea48fd10",
   "metadata": {},
   "source": [
    "#### **Delete vector store file**"
   ]
  },
  {
   "cell_type": "code",
   "execution_count": 44,
   "id": "33d19ba2",
   "metadata": {},
   "outputs": [
    {
     "data": {
      "text/plain": [
       "VectorStoreFileDeleted(id='file-SYjmvqvwEqo6QnJdPsp1mf', deleted=True, object='vector_store.file.deleted')"
      ]
     },
     "execution_count": 44,
     "metadata": {},
     "output_type": "execute_result"
    }
   ],
   "source": [
    "client.vector_stores.files.delete(\n",
    "    vector_store_id=v.id,\n",
    "    file_id=fiv.id\n",
    ")"
   ]
  },
  {
   "cell_type": "code",
   "execution_count": 45,
   "id": "edba1fdd",
   "metadata": {},
   "outputs": [
    {
     "name": "stdout",
     "output_type": "stream",
     "text": [
      "file-HcTg5sE1sPiJSEjDySC2yZ\n"
     ]
    }
   ],
   "source": [
    "# Get all files from vectore_store\n",
    "file_from_vector_store= client.vector_stores.files.list(\n",
    "    vector_store_id=v.id\n",
    ")\n",
    "\n",
    "\n",
    "for fiv in file_from_vector_store:\n",
    "    print(fiv.id)"
   ]
  },
  {
   "cell_type": "code",
   "execution_count": 46,
   "id": "12cf6fa1",
   "metadata": {},
   "outputs": [
    {
     "data": {
      "text/plain": [
       "1"
      ]
     },
     "execution_count": 46,
     "metadata": {},
     "output_type": "execute_result"
    }
   ],
   "source": [
    "# The second vector_store files qty\n",
    "\n",
    "# The current vector_store and how many files each has\n",
    "for v in client.vector_stores.list():\n",
    "    v\n",
    "\n",
    "\n",
    "v.file_counts.total"
   ]
  },
  {
   "cell_type": "markdown",
   "id": "717d5603",
   "metadata": {},
   "source": [
    "<br></br>\n",
    "\n",
    "### <u>Retrieval</u>"
   ]
  },
  {
   "cell_type": "markdown",
   "id": "1a2be039",
   "metadata": {},
   "source": [
    "- Search your data using semantic similarity (semantic search)\n",
    "\n",
    "- Get semantically similar results even when they match few or no keywords"
   ]
  },
  {
   "cell_type": "markdown",
   "id": "6b7bb1ee",
   "metadata": {},
   "source": [
    "![Vector Search Flow](retrieval_diagram.png)\n",
    "\n",
    "<br></br>\n",
    "<br></br>"
   ]
  },
  {
   "cell_type": "markdown",
   "id": "c0330485",
   "metadata": {},
   "source": [
    "#### **Setup**"
   ]
  },
  {
   "cell_type": "markdown",
   "id": "fb8a7dc3",
   "metadata": {},
   "source": [
    "<br>\n",
    "\n",
    "For a clean start, we'll drop all `vector_store` and create a new one with our example file"
   ]
  },
  {
   "cell_type": "code",
   "execution_count": 47,
   "id": "c82e79da",
   "metadata": {},
   "outputs": [
    {
     "name": "stdout",
     "output_type": "stream",
     "text": [
      "vs_685bb381b1848191a3d7b1441a33c814\n",
      "Courses\n",
      "\n"
     ]
    }
   ],
   "source": [
    "# before Deleting vector_store\n",
    "for v in client.vector_stores.list():\n",
    "    print(v.id)\n",
    "    print(v.name)\n",
    "    print()"
   ]
  },
  {
   "cell_type": "code",
   "execution_count": 48,
   "id": "4eed5cf2",
   "metadata": {},
   "outputs": [],
   "source": [
    "# Deleting all vector_store\n",
    "for v in client.vector_stores.list():\n",
    "    client.vector_stores.delete(\n",
    "        vector_store_id=v.id\n",
    "    )"
   ]
  },
  {
   "cell_type": "code",
   "execution_count": 49,
   "id": "4ebfde6c",
   "metadata": {},
   "outputs": [],
   "source": [
    "# After Deleting vector_store\n",
    "for v in client.vector_stores.list():\n",
    "    print(v.id)\n",
    "    print(v.name)\n",
    "    print()"
   ]
  },
  {
   "cell_type": "markdown",
   "id": "5ca981da",
   "metadata": {},
   "source": [
    "<br>\n",
    "\n",
    "For a clean start, we'll drop all `files`"
   ]
  },
  {
   "cell_type": "code",
   "execution_count": 50,
   "id": "99d6f22c",
   "metadata": {},
   "outputs": [
    {
     "name": "stdout",
     "output_type": "stream",
     "text": [
      "file-HcTg5sE1sPiJSEjDySC2yZ\n",
      "Basic_Woodworking_Course_Syllabus.pdf\n",
      "\n",
      "file-SYjmvqvwEqo6QnJdPsp1mf\n",
      "Basic_Woodworking_Course_Syllabus.pdf\n",
      "\n",
      "file-4taMwcgHqkNZ6G7jtvA525\n",
      "Basic_Woodworking_Course_Syllabus.pdf\n",
      "\n",
      "file-WpJftGKNAwWuGPvBJPuwFV\n",
      "Basic_Woodworking_Course_Syllabus.pdf\n",
      "\n",
      "file-HF1dngdc9u2eEbgwcPy2yC\n",
      "Basic_Woodworking_Course_Syllabus.pdf\n",
      "\n",
      "file-DNQF2rKBJkuaPhk2WH7WyF\n",
      "Basic_Woodworking_Course_Syllabus.pdf\n",
      "\n",
      "file-7vBDyJFQ5wLAVNq7i8tVhy\n",
      "Basic_Woodworking_Course_Syllabus.pdf\n",
      "\n",
      "file-RgKy1bGsp1jZpqUvT7HsJD\n",
      "Python Developer job Description.pdf\n",
      "\n",
      "file-2bLPsbpuhAo6DYDPc522cE\n",
      "step_metrics.csv\n",
      "\n",
      "file-HoXyN1vHy4Lhmo2pnN4Q7T\n",
      "hotel_review_sentiment_training.jsonl\n",
      "\n",
      "file-3nzAfdeoMr3wefpXYu65TJ\n",
      "ecommerce_complaints_training.jsonl\n",
      "\n",
      "file-9U3oiMqWpGEwvcWNHJ4aZu\n",
      "hotel_review_sentiment_test.jsonl\n",
      "\n",
      "file-2FJ9Z5ygMKPobC3VJx48WE\n",
      "ecommerce_complaints_test.jsonl\n",
      "\n"
     ]
    }
   ],
   "source": [
    "# before Deleting files\n",
    "files = client.files.list()\n",
    "\n",
    "for f in files.data:\n",
    "    print(f.id)\n",
    "    print(f.filename)\n",
    "    print()"
   ]
  },
  {
   "cell_type": "code",
   "execution_count": 51,
   "id": "67c4200e",
   "metadata": {},
   "outputs": [],
   "source": [
    "# Deleting files\n",
    "for f in files.data:\n",
    "    client.files.delete(f.id)"
   ]
  },
  {
   "cell_type": "code",
   "execution_count": 52,
   "id": "75a25780",
   "metadata": {},
   "outputs": [],
   "source": [
    "# After Deleting files\n",
    "files = client.files.list()\n",
    "\n",
    "for f in files.data:\n",
    "    print(f.id)\n",
    "    print(f.filename)\n",
    "    print()"
   ]
  },
  {
   "cell_type": "markdown",
   "id": "edc6ec63",
   "metadata": {},
   "source": [
    "<br>\n",
    "\n",
    "Creating a `vector_store` and a `file`"
   ]
  },
  {
   "cell_type": "code",
   "execution_count": 53,
   "id": "e01be261",
   "metadata": {},
   "outputs": [
    {
     "data": {
      "text/plain": [
       "VectorStore(id='vs_685bb470fa90819188bc0f7380b07c06', created_at=1750840432, file_counts=FileCounts(cancelled=0, completed=0, failed=0, in_progress=1, total=1), last_active_at=1750840432, metadata={}, name='Courses', object='vector_store', status='in_progress', usage_bytes=0, expires_after=None, expires_at=None)"
      ]
     },
     "execution_count": 53,
     "metadata": {},
     "output_type": "execute_result"
    }
   ],
   "source": [
    "# Create file\n",
    "file = client.files.create(\n",
    "    file=open(\"Basic_Woodworking_Course_Syllabus.pdf\", \"rb\"),  # \"rb\" means read binary mode. Used to read files like PDFs or images\n",
    "    purpose=\"user_data\"\n",
    ")\n",
    "\n",
    "\n",
    "# Create vector_stores and attache a file\n",
    "client.vector_stores.create(\n",
    "    name=\"Courses\",\n",
    "    file_ids=[file.id]\n",
    ")"
   ]
  },
  {
   "cell_type": "code",
   "execution_count": 58,
   "id": "714e9770",
   "metadata": {},
   "outputs": [
    {
     "name": "stdout",
     "output_type": "stream",
     "text": [
      "vs_685bb470fa90819188bc0f7380b07c06\n",
      "Courses\n",
      "\n"
     ]
    }
   ],
   "source": [
    "# Get vector_stores id\n",
    "for v in client.vector_stores.list():\n",
    "    print(v.id)\n",
    "    print(v.name)\n",
    "    print()"
   ]
  },
  {
   "cell_type": "code",
   "execution_count": 55,
   "id": "c93dcbcf",
   "metadata": {},
   "outputs": [
    {
     "data": {
      "text/plain": [
       "1"
      ]
     },
     "execution_count": 55,
     "metadata": {},
     "output_type": "execute_result"
    }
   ],
   "source": [
    "v.file_counts.total"
   ]
  },
  {
   "cell_type": "markdown",
   "id": "20791ad7",
   "metadata": {},
   "source": [
    "**Ready to go**"
   ]
  },
  {
   "cell_type": "markdown",
   "id": "eea7d80a",
   "metadata": {},
   "source": [
    "#### **Semantic search**"
   ]
  },
  {
   "cell_type": "markdown",
   "id": "2738efc5",
   "metadata": {},
   "source": [
    "- A technique that leverages vector embeddings to surface semantically relevant results\n",
    "\n",
    "- Includes results with few or no shared keywords, which classical search techniques might miss\n",
    "\n",
    "- Semantic search is powered by `vector_store`\n",
    "\n",
    "- A response will contain 10 results maximum by default, but you can set up to 50 using the `max_num_results` param"
   ]
  },
  {
   "cell_type": "code",
   "execution_count": 59,
   "id": "61beb28f",
   "metadata": {},
   "outputs": [],
   "source": [
    "# Perform search query to get results\n",
    "results = client.vector_stores.search(\n",
    "    vector_store_id=v.id,\n",
    "    query=\"How many different subjects, we will learn in the course ?\",\n",
    ")"
   ]
  },
  {
   "cell_type": "code",
   "execution_count": 60,
   "id": "28a34def",
   "metadata": {},
   "outputs": [
    {
     "data": {
      "text/plain": [
       "SyncPage[VectorStoreSearchResponse](data=[VectorStoreSearchResponse(attributes={}, content=[Content(text='Basic Woodworking Course - Beginner Level \\n\\n \\n\\n Course Overview \\n\\nThis hands-on course introduces you to the fundamentals of woodworking. \\n\\nLearn how to safely use tools, work with wood, and build small personal \\n\\nprojects with confidence. \\n\\n \\n\\nWhat You Will Learn \\n\\n1. Introduction to Woodworking - Types of wood, understanding grain, \\n\\nmoisture, and hardness \\n\\n \\n\\n2. Workshop Safety - Personal protective equipment (PPE), safe handling \\n\\nof tools \\n\\n \\n\\n3. Basic Hand Tools - Handsaws, chisels, hammers, measuring tools \\n\\n \\n\\n4. Power Tools - Drills, jigsaws, sanders (introductory level) \\n\\n \\n\\n5. Wood Joinery - Butt joints, lap joints, dowels, screws \\n\\n \\n\\n6. Project Building - Guided construction of a small stool, shelf, or toolbox \\n\\n \\n\\n7. Sanding & Finishing - Surface prep and applying finishes (oil, varnish, \\n\\netc.) \\n\\n \\n\\n8. Final Project - Build your own small piece with instructor support \\n\\n \\n\\nInstructor Details \\n\\nName: Michael Carpenter \\n\\nAge: 52 \\n\\nExperience: 25+ years as a master woodworker and certified instructor. \\n\\nMichael has taught over 300 beginners across the U.S. \\n\\nEmail: michael.carpenter@woodstart.com \\n\\nPhone: +1 (303) 555-0198 \\n\\n \\n\\n \\n\\n\\n\\nLocation \\n\\nWorkshop Address: WoodStart Workshop, 141 Maple Lane, Boulder, CO \\n\\n80302, USA \\n\\nParking: Free street and lot parking available \\n\\nAccessibility: Fully wheelchair accessible \\n\\n \\n\\nCourse Schedule \\n\\nStart Date: Monday, May 6, 2024 \\n\\nDays: Mondays & Thursdays \\n\\nTime: 6:00 PM - 8:30 PM (2.5 hours per session) \\n\\nDuration: 6 weeks (12 sessions total) \\n\\n \\n\\nPayment Details \\n\\nTotal Cost: $480 \\n\\nIncludes materials, tool access, and safety gear \\n\\nPayment Options: Credit Card, PayPal, or Cash on first day \\n\\nDiscount: 10% off for students, seniors, or returning participants \\n\\n \\n\\nHow to Register \\n\\nEmail michael.carpenter@woodstart.com with the following details: \\n\\n- Full name \\n\\n- Phone number \\n\\n- Reason for joining \\n\\n- Any prior experience (not required) \\n\\nNote: Maximum 10 participants per class. First-come, first-served', type='text')], file_id='file-4MyEPKVwfntyPgEfjdVnok', filename='Basic_Woodworking_Course_Syllabus.pdf', score=0.8608135275172256)], object='vector_store.search_results.page', search_query=['How many different subjects, we will learn in the course ?'], has_more=False, next_page=None)"
      ]
     },
     "execution_count": 60,
     "metadata": {},
     "output_type": "execute_result"
    }
   ],
   "source": [
    "results"
   ]
  },
  {
   "cell_type": "code",
   "execution_count": 61,
   "id": "22864777",
   "metadata": {},
   "outputs": [
    {
     "data": {
      "text/plain": [
       "{'data': [{'attributes': {},\n",
       "   'content': [{'text': 'Basic Woodworking Course - Beginner Level \\n\\n \\n\\n Course Overview \\n\\nThis hands-on course introduces you to the fundamentals of woodworking. \\n\\nLearn how to safely use tools, work with wood, and build small personal \\n\\nprojects with confidence. \\n\\n \\n\\nWhat You Will Learn \\n\\n1. Introduction to Woodworking - Types of wood, understanding grain, \\n\\nmoisture, and hardness \\n\\n \\n\\n2. Workshop Safety - Personal protective equipment (PPE), safe handling \\n\\nof tools \\n\\n \\n\\n3. Basic Hand Tools - Handsaws, chisels, hammers, measuring tools \\n\\n \\n\\n4. Power Tools - Drills, jigsaws, sanders (introductory level) \\n\\n \\n\\n5. Wood Joinery - Butt joints, lap joints, dowels, screws \\n\\n \\n\\n6. Project Building - Guided construction of a small stool, shelf, or toolbox \\n\\n \\n\\n7. Sanding & Finishing - Surface prep and applying finishes (oil, varnish, \\n\\netc.) \\n\\n \\n\\n8. Final Project - Build your own small piece with instructor support \\n\\n \\n\\nInstructor Details \\n\\nName: Michael Carpenter \\n\\nAge: 52 \\n\\nExperience: 25+ years as a master woodworker and certified instructor. \\n\\nMichael has taught over 300 beginners across the U.S. \\n\\nEmail: michael.carpenter@woodstart.com \\n\\nPhone: +1 (303) 555-0198 \\n\\n \\n\\n \\n\\n\\n\\nLocation \\n\\nWorkshop Address: WoodStart Workshop, 141 Maple Lane, Boulder, CO \\n\\n80302, USA \\n\\nParking: Free street and lot parking available \\n\\nAccessibility: Fully wheelchair accessible \\n\\n \\n\\nCourse Schedule \\n\\nStart Date: Monday, May 6, 2024 \\n\\nDays: Mondays & Thursdays \\n\\nTime: 6:00 PM - 8:30 PM (2.5 hours per session) \\n\\nDuration: 6 weeks (12 sessions total) \\n\\n \\n\\nPayment Details \\n\\nTotal Cost: $480 \\n\\nIncludes materials, tool access, and safety gear \\n\\nPayment Options: Credit Card, PayPal, or Cash on first day \\n\\nDiscount: 10% off for students, seniors, or returning participants \\n\\n \\n\\nHow to Register \\n\\nEmail michael.carpenter@woodstart.com with the following details: \\n\\n- Full name \\n\\n- Phone number \\n\\n- Reason for joining \\n\\n- Any prior experience (not required) \\n\\nNote: Maximum 10 participants per class. First-come, first-served',\n",
       "     'type': 'text'}],\n",
       "   'file_id': 'file-4MyEPKVwfntyPgEfjdVnok',\n",
       "   'filename': 'Basic_Woodworking_Course_Syllabus.pdf',\n",
       "   'score': 0.8608135275172256}],\n",
       " 'object': 'vector_store.search_results.page',\n",
       " 'search_query': ['How many different subjects, we will learn in the course ?'],\n",
       " 'has_more': False,\n",
       " 'next_page': None}"
      ]
     },
     "execution_count": 61,
     "metadata": {},
     "output_type": "execute_result"
    }
   ],
   "source": [
    "results.to_dict()"
   ]
  },
  {
   "cell_type": "markdown",
   "id": "9692b1f2",
   "metadata": {},
   "source": [
    "#### **Query rewriting**"
   ]
  },
  {
   "cell_type": "markdown",
   "id": "70143daa",
   "metadata": {},
   "source": [
    "- Query styles yield better results\n",
    "- Enable the feature `rewrite_query` by setting `rewrite_query=true` when performing a search"
   ]
  },
  {
   "cell_type": "code",
   "execution_count": 62,
   "id": "56b1ce87",
   "metadata": {},
   "outputs": [],
   "source": [
    "# Perform search query to get results\n",
    "results = client.vector_stores.search(\n",
    "    vector_store_id=v.id,\n",
    "    query=\"How many different subjects, we will learn in the course ?\",\n",
    "    \n",
    "    \n",
    "    rewrite_query=True\n",
    "\n",
    "    \n",
    ")"
   ]
  },
  {
   "cell_type": "markdown",
   "id": "cfe4d2d0",
   "metadata": {},
   "source": [
    "#### **Synthesizing responses**"
   ]
  },
  {
   "cell_type": "markdown",
   "id": "f1df5423",
   "metadata": {},
   "source": [
    "- After performing a query it's better to synthesize a response based on the results\n",
    "\n",
    "- You can leverage our models to do so, by supplying the results and original query, to get back a grounded response"
   ]
  },
  {
   "cell_type": "code",
   "execution_count": 63,
   "id": "a0af6bbc",
   "metadata": {},
   "outputs": [],
   "source": [
    "# Perform search query to get results\n",
    "\n",
    "user_query = \"How many different subjects, we will learn in the course ?\"\n",
    "\n",
    "results = client.vector_stores.search(\n",
    "    vector_store_id=v.id,\n",
    "    query=user_query,\n",
    "    rewrite_query=True\n",
    ")"
   ]
  },
  {
   "cell_type": "code",
   "execution_count": 64,
   "id": "8bde437c",
   "metadata": {},
   "outputs": [],
   "source": [
    "# Define a format_results FUNCTION\n",
    "def format_results(results):\n",
    "    formatted_results = ''\n",
    "    for result in results:\n",
    "        formatted_result = f\"<result file_id='{result.file_id}'>\"\n",
    "        for part in result.content:\n",
    "            formatted_result += f\"<content>{part.text}</content>\"\n",
    "        formatted_results += formatted_result + \"</result>\"\n",
    "    return f\"<sources>{formatted_results}</sources>\""
   ]
  },
  {
   "cell_type": "code",
   "execution_count": 65,
   "id": "d71eb4dc",
   "metadata": {},
   "outputs": [
    {
     "data": {
      "text/plain": [
       "\"<sources><result file_id='file-4MyEPKVwfntyPgEfjdVnok'><content>Basic Woodworking Course - Beginner Level \\n\\n \\n\\n Course Overview \\n\\nThis hands-on course introduces you to the fundamentals of woodworking. \\n\\nLearn how to safely use tools, work with wood, and build small personal \\n\\nprojects with confidence. \\n\\n \\n\\nWhat You Will Learn \\n\\n1. Introduction to Woodworking - Types of wood, understanding grain, \\n\\nmoisture, and hardness \\n\\n \\n\\n2. Workshop Safety - Personal protective equipment (PPE), safe handling \\n\\nof tools \\n\\n \\n\\n3. Basic Hand Tools - Handsaws, chisels, hammers, measuring tools \\n\\n \\n\\n4. Power Tools - Drills, jigsaws, sanders (introductory level) \\n\\n \\n\\n5. Wood Joinery - Butt joints, lap joints, dowels, screws \\n\\n \\n\\n6. Project Building - Guided construction of a small stool, shelf, or toolbox \\n\\n \\n\\n7. Sanding & Finishing - Surface prep and applying finishes (oil, varnish, \\n\\netc.) \\n\\n \\n\\n8. Final Project - Build your own small piece with instructor support \\n\\n \\n\\nInstructor Details \\n\\nName: Michael Carpenter \\n\\nAge: 52 \\n\\nExperience: 25+ years as a master woodworker and certified instructor. \\n\\nMichael has taught over 300 beginners across the U.S. \\n\\nEmail: michael.carpenter@woodstart.com \\n\\nPhone: +1 (303) 555-0198 \\n\\n \\n\\n \\n\\n\\n\\nLocation \\n\\nWorkshop Address: WoodStart Workshop, 141 Maple Lane, Boulder, CO \\n\\n80302, USA \\n\\nParking: Free street and lot parking available \\n\\nAccessibility: Fully wheelchair accessible \\n\\n \\n\\nCourse Schedule \\n\\nStart Date: Monday, May 6, 2024 \\n\\nDays: Mondays & Thursdays \\n\\nTime: 6:00 PM - 8:30 PM (2.5 hours per session) \\n\\nDuration: 6 weeks (12 sessions total) \\n\\n \\n\\nPayment Details \\n\\nTotal Cost: $480 \\n\\nIncludes materials, tool access, and safety gear \\n\\nPayment Options: Credit Card, PayPal, or Cash on first day \\n\\nDiscount: 10% off for students, seniors, or returning participants \\n\\n \\n\\nHow to Register \\n\\nEmail michael.carpenter@woodstart.com with the following details: \\n\\n- Full name \\n\\n- Phone number \\n\\n- Reason for joining \\n\\n- Any prior experience (not required) \\n\\nNote: Maximum 10 participants per class. First-come, first-served</content></result></sources>\""
      ]
     },
     "execution_count": 65,
     "metadata": {},
     "output_type": "execute_result"
    }
   ],
   "source": [
    "# Use FUNCTION\n",
    "formatted_results = format_results(results.data)\n",
    "\n",
    "formatted_results"
   ]
  },
  {
   "cell_type": "code",
   "execution_count": 66,
   "id": "86a1e314",
   "metadata": {},
   "outputs": [
    {
     "data": {
      "text/plain": [
       "str"
      ]
     },
     "execution_count": 66,
     "metadata": {},
     "output_type": "execute_result"
    }
   ],
   "source": [
    "type(formatted_results)"
   ]
  },
  {
   "cell_type": "code",
   "execution_count": 67,
   "id": "aaeea1d0",
   "metadata": {},
   "outputs": [
    {
     "name": "stdout",
     "output_type": "stream",
     "text": [
      "You will learn eight different subjects in the course.\n"
     ]
    }
   ],
   "source": [
    "'\\n'.join('\\n'.join(c.text for c in result.content) for result in results.data)\n",
    "\n",
    "\n",
    "completion = client.chat.completions.create(\n",
    "    model=\"gpt-4o\",\n",
    "    messages=[\n",
    "        {\n",
    "            \"role\": \"system\",\n",
    "            \"content\": \"Produce a concise answer to the query based on the provided sources.\"\n",
    "        },\n",
    "        {\n",
    "            \"role\": \"user\",\n",
    "            \"content\": f\"Sources: {formatted_results}\\n\\nQuery: '{user_query}'\"\n",
    "        }\n",
    "    ],\n",
    ")\n",
    "\n",
    "print(completion.choices[0].message.content)"
   ]
  },
  {
   "cell_type": "markdown",
   "id": "69a58d07",
   "metadata": {},
   "source": [
    "<br>\n",
    "<br>\n",
    "<hr class=\"dotted\">\n",
    "<br>\n",
    "<br>"
   ]
  },
  {
   "cell_type": "markdown",
   "id": "3ea4eb4d",
   "metadata": {},
   "source": [
    "## Vector Embedding & Vector DB - UPDATED"
   ]
  },
  {
   "cell_type": "markdown",
   "id": "68c41763",
   "metadata": {},
   "source": [
    "<br></br>\n",
    "\n",
    "### <u>Vector embeddings</u>"
   ]
  },
  {
   "cell_type": "markdown",
   "id": "cb0dcf07",
   "metadata": {},
   "source": [
    "- OpenAI’s text embeddings measure the relatedness of text strings\n",
    "  - `text-embedding-3-small` - Small embedding model\n",
    "  - `text-embedding-3-large` - Large embedding model\n",
    "  - `text-embedding-ada-002` - Older embedding model\n",
    "\n",
    "- An embedding is a vector (list) of floating point numbers\n",
    "\n",
    "- The distance between two vectors measures their relatedness\n",
    "  - Small distances suggest high relatedness\n",
    "  - large distances suggest low relatedness"
   ]
  },
  {
   "cell_type": "markdown",
   "id": "ce231407",
   "metadata": {},
   "source": [
    "#### **Get embeddings**"
   ]
  },
  {
   "cell_type": "markdown",
   "id": "ac0c80b3",
   "metadata": {},
   "source": [
    "Send your text string to the **embeddings API endpoint** along with the embedding model name"
   ]
  },
  {
   "cell_type": "code",
   "execution_count": 68,
   "id": "69be86cb",
   "metadata": {},
   "outputs": [
    {
     "name": "stdout",
     "output_type": "stream",
     "text": [
      "[-0.004876371938735247, -0.02793268673121929, 0.03972188010811806, -0.03569341450929642, -0.001951289246790111, -0.011722546070814133, 0.027651287615299225, 0.02634795941412449, -0.006068620830774307, 0.022097332403063774, 0.041321419179439545, -0.008227257989346981, -0.008930758573114872, -0.02640720084309578, -0.023060018196702003, 0.015062323771417141, 0.0017448673024773598, 0.031072523444890976, -0.004261734429746866, 0.025666674599051476, 0.01766897924244404, -0.04250626266002655, 0.013136953115463257, 0.0355156846344471, 0.015299293212592602, -0.035100992769002914, 0.009093674831092358, 0.045616477727890015, 0.050178125500679016, -0.02442258782684803, 0.009397290647029877, -0.03335334733128548, -0.005579872522503138, -0.007968072779476643, -0.037352193146944046, 0.021164268255233765, 0.020986542105674744, 0.051777664572000504, -0.060782477259635925, 0.01802443340420723, 0.036907877773046494, 0.003369398880749941, -0.04049202799797058, 0.011122719384729862, -0.00550581980496645, 0.03871476277709007, -0.05752415582537651, -0.02579996921122074, -0.02471879869699478, 0.07014273852109909, -0.049822673201560974, 0.0022271357011049986, -0.0243041031062603, 0.017520874738693237, -0.024555882439017296, 0.015462208539247513, -0.037174466997385025, 0.029458174481987953, -0.02901385724544525, 0.008049530908465385, 0.018572423607110977, -0.009375074878334999, -0.0014838314382359385, -0.014077423140406609, 0.009871227666735649, -0.002195663284510374, -0.03803347796201706, 0.05779074504971504, 0.005679843947291374, 0.013351705856621265, 0.03578227758407593, 0.00687949825078249, -0.022186195477843285, 0.0157732293009758, 0.018009621649980545, -0.008205042220652103, -0.047926921397447586, 0.010937587358057499, -0.01664705201983452, -0.05281440168619156, 0.01697288453578949, 0.01018224935978651, -0.018128106370568275, -0.005657628178596497, -0.01664705201983452, -0.009693501517176628, -0.05162955820560455, 0.006357426289469004, -0.028288140892982483, -0.049704186618328094, -0.010123006999492645, -0.030954038724303246, -0.058708999305963516, -0.017461631447076797, 0.018824202939867973, 0.025725916028022766, -0.009663880802690983, -0.029369309544563293, -0.017135800793766975, 0.023593198508024216, 0.014469902031123638, -0.01603982038795948, -0.033116377890110016, -0.007938452064990997, 0.012633394449949265, -0.02622947469353676, 0.01673591509461403, -0.013870075345039368, -0.06297443807125092, -0.015995388850569725, -0.05311061441898346, -0.016602620482444763, -0.01586209423840046, 0.009871227666735649, 0.030257942155003548, -0.013825643807649612, 0.030272753909230232, -0.04872669279575348, -0.02661454863846302, -0.037055984139442444, -0.011204177513718605, -0.019831320270895958, 0.041588008403778076, -0.023385850712656975, -0.014195906929671764, -0.0571390800178051, -0.05533219501376152, -0.029310068115592003, -0.033412590622901917, -0.05082979053258896, -0.0010265558958053589, -0.01769860088825226, 0.052014634013175964, 0.032879408448934555, -0.02319331280887127, -0.022245438769459724, -0.04253588616847992, 0.05062244087457657, -0.028169656172394753, 0.037500299513339996, -0.018009621649980545, -0.06753608584403992, -0.008871516212821007, -0.03886286914348602, -0.045734960585832596, -0.007775535807013512, -0.04851934313774109, 0.02255645953118801, 0.008382768370211124, 0.012537126429378986, 0.016025008633732796, 0.0076718623749911785, -0.05388076230883598, -0.02568148449063301, -0.05705021694302559, -0.014232933521270752, -0.013092521578073502, -0.016276787966489792, 0.013092521578073502, 0.00718681700527668, -0.001188546186313033, 0.017135800793766975, 0.06498867273330688, -0.0019216681830585003, 0.004528324119746685, 0.02448183111846447, 0.0220232792198658, -0.021919606253504753, -0.02760685607790947, -0.045823827385902405, -0.0038433363661170006, -0.03160570189356804, -0.029102720320224762, 0.004806021694093943, -0.0023900517262518406, -0.026333149522542953, 0.015358534641563892, -0.07020198553800583, 0.039484910666942596, -0.012218699790537357, -0.043276410549879074, 0.039040595293045044, 0.0020531117916107178, 0.008686384186148643, -0.01339613739401102, 0.047926921397447586, 0.005383633077144623, 0.049881916493177414, 0.01606944017112255, 0.0049356138333678246, -0.0600123256444931, 0.053910382091999054, 0.06178959459066391, 0.015417777001857758, -0.02679227478802204, -0.02556299977004528, 0.08667130768299103, 0.035012129694223404, 0.052073877304792404, -0.018542801961302757, 0.002532603219151497, 0.0691356211900711, -0.02421524003148079, 0.021978847682476044, 0.010367381386458874, -0.017506064847111702, -0.030924417078495026, -0.030598586425185204, -0.02898423559963703, -0.008553089573979378, 0.03240547329187393, -0.011033856309950352, 0.018883444368839264, -0.013011063449084759, -0.009782364591956139, 0.028214087709784508, -0.045734960585832596, -0.002677005948498845, 0.019298139959573746, 0.015817662701010704, -0.03806310147047043, 0.016306409612298012, 0.06848395615816116, -0.010900560766458511, -0.05793885141611099, 0.0014856827910989523, -0.003693379694595933, -0.0347159169614315, 0.03468629717826843, -0.00946393795311451, 0.017535684630274773, -0.025962885469198227, -0.0030065407045185566, -0.014225528575479984, 0.043483760207891464, -0.014692060649394989, -0.00706833228468895, -0.011966920457780361, -0.013003658503293991, -0.006409263238310814, -0.031220627948641777, -0.014314391650259495, 0.014277365058660507, -0.007086845580488443, -0.008501253090798855, -0.01901673898100853, 0.004280247259885073, -0.03667090833187103, -0.00022447231458500028, 0.005642817355692387, 0.0009261218947358429, -0.004239518661051989, -0.02457069419324398, -0.036937497556209564, -0.00644258689135313, -0.004283950198441744, -0.02517792582511902, 0.01715061068534851, -0.0015375196235254407, -0.015610313974320889, -0.0429505780339241, 0.023963460698723793, -0.025029821321368217, -0.02766609750688076, 0.03566379100084305, -0.049733810126781464, 0.012877768836915493, -0.016113873571157455, 0.0007396015571430326, -0.07263091206550598, -0.0038063100073486567, -0.028969425708055496, 0.034745536744594574, -0.003682271810248494, -0.05302175134420395, 0.008153204806149006, -0.028258519247174263, -0.01586209423840046, -0.027295833453536034, 0.014092233031988144, -0.018365075811743736, -0.04466860368847847, 0.031102143228054047, 0.03696712106466293, -0.05681325122714043, -0.04499443620443344, -0.010893155820667744, -0.013596080243587494, -0.0321388803422451, -0.0032749816309660673, 0.0024085647892206907, -0.02655530720949173, 0.068246990442276, -0.016721105203032494, -0.016498947516083717, 0.02661454863846302, 0.0017818936612457037, 0.012055783532559872, 0.020749572664499283, -0.0188982542604208, 0.04061051458120346, -0.03687825798988342, 0.00861973688006401, 0.07482287287712097, -0.026777464896440506, 0.03329410403966904, -0.008175420574843884, 0.027266213670372963, 0.05157031863927841, -0.027236592024564743, -0.037115223705768585, 0.00019751250511035323, 0.01598057709634304, 0.04490557312965393, -0.037500299513339996, 0.015669556334614754, 0.056576281785964966, -0.0045616477727890015, 0.017017316073179245, -0.02997654303908348, -0.003839633660390973, -0.03824082762002945, 0.029221205040812492, -0.032997895032167435, -0.0037452164106070995, 0.023815356194972992, -0.032879408448934555, -0.00395811814814806, -0.0004984674160368741, -0.016484135761857033, 0.00022377807181328535, -0.006505531724542379, 0.019994234666228294, 0.005824246909469366, -0.018690908327698708, -0.02313407137989998, -0.03616734966635704, 0.02024601399898529, 0.02114945836365223, 0.003365696407854557, -0.06202656030654907, -0.0010598796652629972, 0.02889537252485752, 0.003776688827201724, -0.007131277117878199, 0.04472784698009491, 0.021134646609425545, 0.043750349432229996, 0.04093634709715843, -0.01595095731317997, 0.0006599948974326253, -0.009930470027029514, -0.0038285257760435343, 0.009263996034860611, 0.06481094658374786, -0.03424197807908058, -0.014521739445626736, -0.039366427809000015, -0.03199077770113945, -0.030257942155003548, 0.01729871705174446, -0.00019496693857945502, -0.004528324119746685, 0.043483760207891464, 0.027295833453536034, 0.0022900805342942476, -0.03687825798988342, -0.0011681817704811692, 0.03225736692547798, 0.03178342804312706, -0.012729663401842117, 0.016572998836636543, -0.00018281766097061336, -0.008071746677160263, -0.026185043156147003, 0.03125024959445, 0.02228987030684948, 0.039455290883779526, 0.028021549805998802, 0.016261978074908257, 0.004165465943515301, -0.027325455099344254, -0.0025992505252361298, -0.04105482995510101, 0.013055494986474514, -0.0017087665619328618, 0.03373841941356659, -0.002697370480746031, -0.05879786238074303, -0.002776977140456438, 0.025933263823390007, -0.056161586195230484, -0.0206310898065567, -0.023978272452950478, 0.06161186471581459, 0.0006377790705300868, 0.03607848659157753, -0.0016837738221511245, -0.0007067406550049782, 0.014640223234891891, -0.018572423607110977, -0.06712138652801514, -0.028169656172394753, -0.016780346632003784, 0.014543955214321613, 0.02424486167728901, 0.04724563658237457, -0.012581557966768742, 0.018646476790308952, -0.01447730790823698, 0.001980910310521722, -0.031072523444890976, 0.0315464586019516, -0.045794203877449036, -0.010678403079509735, 0.03350145369768143, 0.008553089573979378, -0.03539720177650452, -0.0009099228191189468, 0.060782477259635925, -0.005457685794681311, -0.041469525545835495, -0.023815356194972992, -0.004902290180325508, 0.007360840681940317, -0.008760437369346619, 0.07458590716123581, -0.008908542804419994, 0.035012129694223404, -0.0645739734172821, -0.03237584978342056, -0.013810832984745502, 0.02739950828254223, 0.024052325636148453, -0.0327313058078289, 0.003449005540460348, 0.026688601821660995, 0.012003946118056774, -0.02553337998688221, -0.004698645323514938, -0.005161474924534559, -0.0008437382057309151, -0.030628206208348274, -0.013810832984745502, -0.015669556334614754, -0.043572623282670975, -0.006320400163531303, 0.006683258339762688, -0.032820168882608414, -0.03335334733128548, -0.0037803915329277515, -0.08276132494211197, 0.0031750104390084743, -0.031161386519670486, 0.0017735627479851246, -0.04259512573480606, -0.016424894332885742, 0.0026029532309621572, 0.07630392909049988, 0.0015477018896490335, 0.01375899650156498, -0.025888832286000252, -0.024200430139899254, 0.05133334919810295, 0.04401693865656853, 0.004546837415546179, -0.01235939934849739, -0.010241491720080376, 0.04215081036090851, -0.013285058550536633, -0.007508946117013693, -9.435936954105273e-05, 0.00263257441110909, -0.0009066830389201641, -0.015017892234027386, -0.04215081036090851, -0.005394740961492062, -0.023785734549164772, -0.02088286727666855, -0.051925770938396454, 0.016143493354320526, -0.016513757407665253, -0.05503598600625992, -0.005246635526418686, -0.008841895498335361, 0.11540376394987106, -0.0141366645693779, -0.019638782367110252, 0.012514910660684109, -0.01595095731317997, -0.03986998647451401, 0.0036637585144490004, -0.005365119781345129, -0.019150033593177795, 0.029280446469783783, -0.027503181248903275, 0.02088286727666855, -0.03459743410348892, 0.054265834391117096, -0.0030824446585029364, 0.013470190577208996, 0.00609824201092124, -0.007597809657454491, 0.011604062281548977, 0.02997654303908348, -0.002641830826178193, -0.033086758106946945, 0.00010321098670829087, -0.010485866107046604, 0.024067135527729988, 0.0003401797148399055, 0.014551360160112381, -0.041439905762672424, -0.002786233788356185, 0.006401857826858759, -0.01278149988502264, -0.007023900747299194, 0.07186076045036316, -0.012500099837779999, -0.01435882318764925, 0.007508946117013693, -0.014314391650259495, -0.01164108794182539, -0.03181305155158043, 0.008760437369346619, -0.025015009567141533, -0.0367005281150341, -0.037322573363780975, -0.008493847213685513, -0.019653592258691788, -0.012640800327062607, -0.032553575932979584, 0.019579540938138962, -0.020201582461595535, -0.010189655236899853, -0.01309992652386427, -0.00038970247260294855, 0.03196115419268608, 0.002695519244298339, 0.004446865990757942, 0.039277564734220505, -0.0014134813100099564, 0.03673015162348747, 0.015284482389688492, -0.01892787590622902, 0.02211214415729046, 0.010715428739786148, -0.02226024866104126, -0.0010506230173632503, -0.00884930044412613, 0.007031306158751249, -0.04262474924325943, 0.03560455143451691, -0.008975190110504627, 0.025118684396147728, 0.02418562024831772, 0.050118882209062576, -0.0021290157455950975, -0.031072523444890976, 0.012129835784435272, 0.0014051503967493773, 0.030154269188642502, 0.047749195247888565, 0.04247664287686348, -0.033057134598493576, 0.031072523444890976, 0.01260377373546362, -0.009049243293702602, 0.05995308607816696, -0.02343028225004673, -0.045616477727890015, -0.014314391650259495, 0.012226104736328125, -0.007686672732234001, -0.007864398881793022, 0.02991729974746704, -0.011174555867910385, 0.015269671566784382, -0.026333149522542953, -0.025962885469198227, -0.011707735247910023, -0.015625124797225, 0.022304680198431015, 0.005387335550040007, -0.010300734080374241, 0.009589827619493008, 0.016958074644207954, -0.015995388850569725, -0.01688402146100998, 0.009500964544713497, 0.03782613202929497, -0.007686672732234001, 0.0065092346630990505, -0.016084251925349236, 0.01615830510854721, -0.016958074644207954, 0.023889409378170967, -0.023060018196702003, -0.001406076131388545, 0.02006828784942627, 0.015521450899541378, 0.01260377373546362, 0.006831363774836063, -0.00893816351890564, 0.010137817822396755, 0.006024189293384552, 0.000689616019371897, 0.033116377890110016, 0.010271112434566021, -0.016898831352591515, -0.013944127596914768, -0.02316369116306305, 0.012026162818074226, 0.0040432787500321865, 0.010456244461238384, 0.004028468392789364, -0.0015541815664619207, 0.005550251808017492, 0.04229891672730446, -0.008597521111369133, -0.018913066014647484, -0.01691364124417305, -0.006027891766279936, 0.021105026826262474, -0.04623851925134659, 0.025222357362508774, 0.013218411244452, -0.02048298344016075, 0.002902866806834936, 0.0063611287623643875, -0.008404984138906002, -0.0029213798698037863, 0.010034143924713135, -0.034656673669815063, 0.01609906181693077, -0.017313526943325996, -0.025103872641921043, 0.016350841149687767, 0.026170233264565468, -0.030391238629817963, -0.010989423841238022, -0.01986094005405903, 0.01688402146100998, -0.009604638442397118, -0.011626278050243855, -0.006420371122658253, 0.006727689877152443, 0.01330727431923151, -0.0010015630396082997, -0.026481254026293755, -0.002097543329000473, -0.028110414743423462, 0.01443287543952465, -0.02568148449063301, 0.015054918825626373, -0.04532026872038841, -0.012411236763000488, -0.035308338701725006, -0.016084251925349236, -0.023415470495820045, 0.006668447982519865, 0.007353435270488262, 0.012596368789672852, -0.030109837651252747, 0.010382192209362984, 0.030509721487760544, -0.07357878983020782, 0.001307030557654798, -0.014995676465332508, -0.004054386634379625, 0.010893155820667744, -0.005335498601198196, 0.015121566131711006, -0.03222774714231491, 0.025103872641921043, -0.03142797574400902, -0.020749572664499283, -0.012477884069085121, -0.001316287205554545, 0.015099350363016129, -0.01694326288998127, 0.02769571915268898, -0.03995884954929352, -0.037085603922605515, 0.019683213904500008, -0.0009941578609868884, 0.019994234666228294, 0.01673591509461403, -0.02568148449063301, -0.025992505252361298, -0.06836547702550888, -0.007960667833685875, 0.04090672358870506, -0.011885462328791618, -0.005553954280912876, 0.06167110800743103, 0.011226393282413483, 0.012403830885887146, -0.022156575694680214, -0.05539143830537796, 0.014840166084468365, 0.01946105621755123, -0.025103872641921043, -0.029132341966032982, -0.008871516212821007, -0.06907638162374496, -0.013011063449084759, -3.3584066841285676e-05, 0.07002425938844681, -0.02577034756541252, -0.01495864987373352, -0.017165420576930046, 0.014588386751711369, 0.007753320038318634, -0.0064388844184577465, -0.013136953115463257, 0.0026473847683519125, -0.017506064847111702, 0.0004239518311806023, 0.010248896665871143, -0.018246591091156006, -0.021016163751482964, -0.01595095731317997, 0.00416176300495863, -0.001616200665012002, -0.018735339865088463, -0.009234374389052391, 0.0063055893406271935, 0.006746203172951937, -0.0034527082461863756, -0.017254285514354706, 0.015906525775790215, 0.01799481175839901, 0.010545107536017895, 0.016528567299246788, 0.015610313974320889, -0.008560494519770145, -0.0066314213909208775, -0.02418562024831772, -0.02135680615901947, -0.04540913179516792, 0.030213510617613792, 0.04075862094759941, 0.016869209706783295, -0.019357381388545036, 0.0332348607480526, 0.04386883229017258, 0.003265725215896964, -0.005702059715986252, -0.022734185680747032, -0.017683790996670723, 0.013255437836050987, 0.01676553674042225, 0.003747067879885435, -0.0020771787967532873, -0.019357381388545036, 0.03874438628554344, -0.03181305155158043, -0.013699754141271114, 0.020853247493505478, 0.02725140191614628, 0.02898423559963703, -0.0017652318347245455, 0.015536261722445488, -0.001270004198886454, -0.029843248426914215, -0.007449704222381115, -0.00956761185079813, 0.03477516025304794, 0.024837283417582512, 0.020112719386816025, -0.005565062165260315, 0.007294193375855684, 0.011122719384729862, 0.052251603454351425, -0.035130612552165985, -0.047986164689064026, 0.026984812691807747, -0.043246790766716, 0.013840453699231148, -0.022867480292916298, 0.01058953907340765, 0.029265636578202248, -0.015069729648530483, -0.028228897601366043, 0.020808815956115723, -0.012477884069085121, 0.0015264117391780019, -0.01589171402156353, -0.05799809470772743, -0.024585504084825516, -0.0030472695361822844, 0.011522604152560234, 0.0061056469567120075, 0.01574360951781273, 0.017713410779833794, -0.04292095825076103, -0.08311677724123001, -0.012033567763864994, 0.004232113249599934, -0.03989960625767708, 0.02337103895843029, 0.033264484256505966, 0.002223432995378971, 0.025029821321368217, -0.01238902099430561, 0.010670997202396393, 0.01364051178097725, -0.043454136699438095, 0.0052688512951135635, -0.02988767996430397, 0.016587810590863228, -0.04407618194818497, 0.025992505252361298, -0.002562224166467786, -0.016380462795495987, 0.017476443201303482, -0.039396047592163086, 0.010982018895447254, 0.07209773361682892, 0.026895949617028236, -0.04718639701604843, -0.009834202006459236, -0.008841895498335361, 0.0052614458836615086, -0.02568148449063301, -0.012337183579802513, 0.0008242994081228971, 0.0009464863687753677, -0.00019566118135116994, 0.010308139026165009, -0.0036267321556806564, -0.017580116167664528, -0.00359340850263834, -0.020734762772917747, 0.034893643110990524, 0.003058377420529723, -0.011485577560961246, -0.0011293040588498116, -0.028258519247174263, -0.010345165617763996, 0.06552185118198395, -0.0027621665503829718, 0.020734762772917747, -0.011078287847340107, -0.0039099836722016335, 0.016173115000128746, 0.011996541172266006, -0.006953550968319178, 0.012174268253147602, -0.01583247259259224, 0.006649934686720371, 0.028465867042541504, 0.02694038115441799, -0.0038285257760435343, 0.0321388803422451, 0.007116466760635376, -0.041232556104660034, 0.021105026826262474, -0.005642817355692387, -0.004187681712210178, 0.0040506841614842415, 0.016558188945055008, -0.0019938696641474962, 0.05613196641206741, -0.016202736645936966, -0.01123379822820425, 0.027192160487174988, -0.027384696528315544, 0.03812234103679657, 0.027058865875005722, -0.0211790781468153, -0.01837988570332527, 0.009960091672837734, 0.03655242547392845, -0.006801742594689131, 0.0423581562936306, 0.05589499697089195, 0.022867480292916298, -0.0033009001053869724, 0.026036938652396202, -0.029398931190371513, 0.001052474370226264, -0.041588008403778076, -0.039544153958559036, -0.019446244463324547, 0.022660134360194206, 0.04472784698009491, -0.037144847214221954, -0.01218167319893837, 0.02156415395438671, -0.023015586659312248, -0.006672150455415249, 0.008915947750210762, -0.02790306694805622, 0.03856666013598442, 0.006072323303669691, 0.031042901799082756, 0.008908542804419994, -0.020868057385087013, -0.007923641242086887, -0.037144847214221954, 0.004413542337715626, 0.01595095731317997, 0.020320067182183266, -0.008597521111369133, 0.009412101469933987, 0.03006540611386299, 0.004180276300758123, -0.019964614883065224, -0.031161386519670486, -0.007508946117013693, -0.009412101469933987, -0.00034689073800109327, 0.04934873431921005, 0.0014236635761335492, -0.011307850480079651, 0.031042901799082756, 0.016350841149687767, 0.03773726895451546, -0.0505928210914135, -0.05509522557258606, -0.028999047353863716, 0.009293616749346256, -0.009286211803555489, -0.00526514882221818, 0.002484468976035714, -0.0005225345375947654, 0.06558109074831009, 0.01937219314277172, -0.0383889302611351, 0.002604804467409849, 0.012189078144729137, 0.017506064847111702, 0.011241203173995018, -0.04078824073076248, 0.006720284465700388, 0.01589171402156353, -0.02851029857993126, -0.013314680196344852, -0.016054630279541016, -0.04671245813369751, 0.029310068115592003, -0.0497930534183979, 0.02962108887732029, -0.012492694891989231, -0.03681901469826698, 0.027192160487174988, 0.019579540938138962, -0.015099350363016129, 0.006609205622226, 0.007038711570203304, 0.013855264522135258, -0.004454271402209997, -0.013173979707062244, -7.873887079767883e-05, 0.03791499510407448, -0.01636565290391445, 0.007523756939917803, 0.019594350829720497, -0.012500099837779999, 0.03249433636665344, 0.0057946257293224335, -0.017343148589134216, 0.03678939491510391, -0.014210717752575874, 0.01814291812479496, -0.02634795941412449, 0.03364955633878708, 0.0021734475158154964, 0.006849877070635557, 0.0031620513182133436, 0.045794203877449036, 0.01437363401055336, 0.029236014932394028, 0.0024400372058153152, -0.030243132263422012, 0.051866527646780014, 0.05251819267868996, -0.01907598227262497, 0.012551936320960522, 0.048311997205019, 0.0020549630280584097, -0.0050837192684412, -0.003850741544738412, 0.018276212736964226, 0.027325455099344254, -0.024111567065119743, 0.021253131330013275, 0.02354876697063446, -0.0044320556335151196, 0.0014921623514965177, -0.03797423839569092, -0.00896778516471386, 0.027206970378756523, -0.0018818648532032967, -0.027014434337615967, 0.008219852112233639, 0.014247744344174862, 0.019238898530602455, -0.011752167716622353, -0.028673214837908745, -0.027266213670372963, 0.00016962701920419931, 0.004198789596557617, -0.0006488870130851865, 0.006124160252511501, -0.0007840332109481096, -0.024881714954972267, 0.02853992022573948, 0.020023856312036514, -0.004917101003229618, 0.01775784231722355, -0.049852292984724045, 0.01426996011286974, 0.025607431307435036, 0.00016372594109270722, -0.011211582459509373, -0.01913522370159626, -0.018513180315494537, 0.008597521111369133, -0.03832969069480896, 0.0007761651067994535, 0.033264484256505966, -0.01913522370159626, -0.009441722184419632, 0.01603982038795948, -0.02725140191614628, 0.009737933054566383, 0.028169656172394753, -0.0251483041793108, 0.004391326569020748, -0.010982018895447254, -0.0426543690264225, -0.03421235829591751, 0.03151683881878853, 0.008256878703832626, -0.0014819800853729248, 0.0032157395035028458, -0.011855840682983398, -0.018453938886523247, -0.007856993936002254, 0.0025011308025568724, 0.03394576907157898, 0.006087134126573801, -0.01799481175839901, -0.0029972840566188097, 0.0020753275603055954, 0.011455956846475601, 0.01997942477464676, -0.03658204525709152, 0.021460479125380516, -0.014055207371711731, -0.02904347889125347, -0.010115602053701878, 0.027014434337615967, -0.0025363056920468807, -7.775535777909681e-05, 0.015580693259835243, 0.02039412036538124, -0.06872092932462692, -0.02489652670919895, -0.013536837883293629, -0.000517906213644892, -0.019268518313765526, -0.011611467227339745, -0.005872380919754505, -0.012855553068220615, 0.04955608397722244, 0.012640800327062607, 0.007753320038318634, -0.016572998836636543, 0.010841318406164646, 0.019757267087697983, 0.01928333006799221, 0.010952398180961609, 0.009212158620357513, -0.03228698670864105, -0.021786311641335487, 0.041499145328998566, 0.0034175331238657236, -0.0043691108003258705, -0.0027714231982827187, 0.002079030266031623, 0.004402434453368187, 0.005846462678164244, 0.01992018334567547, 0.0007266423781402409, 0.01673591509461403, -0.015462208539247513, -0.0007946782861836255, 0.011152340099215508, 0.001054325606673956, -0.0019901669584214687, -0.014329202473163605, 0.03569341450929642, 0.001316287205554545, 0.030050596222281456, 0.019875751808285713, -0.00895297434180975, -0.022956345230340958, 0.0024307805579155684, 0.02460031397640705, -0.00304912100546062, 0.005868678446859121, -0.0035026937257498503, -0.024230051785707474, 0.004246923606842756, -0.011907678097486496, 0.023889409378170967, -0.0274291280657053, 0.03379766270518303, 0.024555882439017296, 0.013477595522999763, -0.02249721810221672, -0.00905664823949337, -0.011811409145593643, -0.05696135386824608, -0.007101656403392553, -0.02226024866104126, 0.01153741404414177, -0.005465091206133366, 0.023474713787436485, 0.018276212736964226, -0.0406697541475296, 0.001217241631820798, 0.02030525729060173, -0.006909118965268135, 0.007997694425284863, -0.006435181479901075, 0.0012681528460234404, -0.03678939491510391, 0.017535684630274773, -0.0335310734808445, -0.013499811291694641, -0.05293288826942444, 0.0005882563418708742, -0.003141686785966158, 0.007201627362519503, -0.0070127928629517555, 0.01574360951781273, -0.023148881271481514, 0.005642817355692387, -0.017343148589134216, 0.014455092139542103, 0.01769860088825226, 0.03687825798988342, 0.11327105015516281, -0.009730528108775616, -0.023815356194972992, -0.024733610451221466, -0.01715061068534851, 0.012070594355463982, -0.007982883602380753, -0.004021062981337309, -0.02670341171324253, 0.007364543620496988, -0.027562424540519714, 0.019757267087697983, 0.017654169350862503, -0.009597232565283775, -0.0147809237241745, -0.00864935852587223, -0.00441724481061101, -0.02532603219151497, -0.0015125268837437034, 0.012189078144729137, 0.014247744344174862, -0.01910560205578804, 0.004720861092209816, 0.02868802472949028, -0.02535565197467804, 0.013647916726768017, -0.020601468160748482, 0.009382479824125767, 0.018794581294059753, 0.0026436822954565287, -0.019357381388545036, 0.010152628645300865, -0.012055783532559872, 0.037381816655397415, 0.00577611243352294, 0.01574360951781273, -0.03601924329996109, 0.01928333006799221, 0.007475622463971376, 0.016306409612298012, 0.009367669932544231, -0.014877192676067352, -0.014032991603016853, 0.001670814584940672, -0.009634259156882763, -0.02582959085702896, -0.020497793331742287, -0.0210309736430645, 0.012018756940960884, -0.0051355562172830105, -0.007768130861222744, 0.04244702309370041, -0.03643393889069557, 0.045675721019506454, 0.0287176463752985, -0.004221005365252495, -0.003504545195028186, 0.015491830185055733, 0.035456445068120956, -0.018720528110861778, 0.023682061582803726, 0.03406425192952156, -0.021949227899312973, 0.03560455143451691, -0.002371538430452347, -0.015728797763586044, -0.04061051458120346, 0.009886038489639759, -0.020379310473799706, 0.030198700726032257, -0.0027010731864720583, 0.031131764873862267, -0.015906525775790215, -0.03631545603275299, -0.00395811814814806, 0.01946105621755123, 0.012959226965904236, -3.0083918318268843e-05, -0.008678979240357876, 0.0033453318756073713, -0.01288517378270626, 0.016958074644207954, 0.015328913927078247, 0.020408930256962776, 0.005502117332071066, -0.016958074644207954, 0.021845553070306778, -0.01489940844476223, 0.010441433638334274, 0.031072523444890976, -0.030080216005444527, -0.005668736062943935, 0.020601468160748482, 0.003750770352780819, 0.013610891066491604, 0.02433372475206852, 0.007575593888759613, -0.020808815956115723, 0.03628583624958992, 0.019816508516669273, 0.016928452998399734, -0.0004864338261540979, -0.016602620482444763, 0.026096180081367493, -0.017980001866817474, 0.017328336834907532, -0.0654626116156578, 0.015506640076637268, -0.005905704572796822, -0.005528036039322615, 0.011907678097486496, -0.027325455099344254, 0.016987694427371025, 0.0001740238949423656, -0.01700250618159771, 0.009019621647894382, -0.02748837135732174, 0.034952886402606964, 0.003998847212642431, -0.0224675964564085, 0.0072756800800561905, 0.026273906230926514, -0.002852881094440818, 0.000689616019371897, 0.02220100723206997, -0.025518568232655525, 0.0012579706963151693, -0.012640800327062607, -0.017506064847111702, 0.008804868906736374, 0.04540913179516792, 0.005031882785260677, 0.006568476557731628, 0.011789193376898766, 0.0032268473878502846, 0.006723987404257059, -0.00332311587408185, -0.051896147429943085, 0.008434604853391647, 0.01664705201983452, 0.028288140892982483, 0.003998847212642431, 0.0029269338119775057, -0.015536261722445488, 0.023000776767730713, -0.004524621646851301, -0.0018179944017902017, 0.0022530541755259037, -0.04244702309370041, 0.00608343118801713, -0.003558233380317688, -0.02766609750688076, 0.00035707297502085567, -0.024037513881921768, 0.01907598227262497, -0.001052474370226264, 0.014425470493733883, -0.011418930254876614, 0.010745050385594368, -0.01883901283144951, 0.030450480058789253, 0.0035897057969123125, -0.021638205274939537, 0.0234599020332098, -0.000989529537037015, -0.0035730439703911543, -0.0037655809428542852, -0.018009621649980545, -0.007790346629917622, 0.005057801026850939, 0.0016291599022224545, -0.01835026405751705, 0.016261978074908257, -0.003365696407854557, -0.012300156988203526, -0.04875631257891655, 0.014662439003586769, 0.01311473734676838, -0.0400773324072361, -0.015358534641563892, 0.012625989504158497, -0.03376804292201996, -0.0315464586019516, 0.008271689526736736, -0.002788085024803877, 0.022778617218136787, 0.027384696528315544, -0.02208252251148224, -0.014262554235756397, -0.01811329647898674, 0.0018328048754483461, -0.023089639842510223, -0.017609737813472748, -0.00842719990760088, 0.009597232565283775, 0.009301021695137024, -0.03444932773709297, -0.022334301844239235, 0.003278684336692095, 0.02532603219151497, -0.003632286097854376, -0.003697082167491317, 0.030717069283127785, -0.012470479123294353, 0.016424894332885742, 0.022778617218136787, -0.011878056451678276, -0.00790142547339201, -0.005568764638155699, -0.014506928622722626, 0.06878016889095306, -0.015595504082739353, 0.002904718043282628, -0.004258031491190195, 0.03963301703333855, 0.003693379694595933, 0.013277653604745865, -0.016232356429100037, 0.0030898498371243477, -0.00907145906239748, 0.006453694775700569, -0.0032731303945183754, 0.008101368322968483, -0.039662640541791916, -0.006479613482952118, 0.025637052953243256, 0.0210309736430645, -0.02523716911673546, 0.004717158619314432, 0.01618792489171028, -0.017728222534060478, -0.024674367159605026, -0.016291599720716476, -0.014084828086197376, -0.010463650338351727, -0.02048298344016075, 0.008360552601516247, 0.02673303335905075, -0.01781708560883999, 0.009952685795724392, -0.023830166086554527, 0.00421359995380044, 0.04689018428325653, 0.02991729974746704, -0.01114493515342474, -0.012514910660684109, -0.01270744763314724, 0.009189942851662636, -0.02959146909415722, -0.023904219269752502, -0.0049504246562719345, 0.016632242128252983, -0.00452091870829463, -0.041321419179439545, -0.02208252251148224, -0.0003839170967694372, -0.0048171295784413815, 0.0078866146504879, -0.008345741778612137, -0.023800546303391457, -0.02862878330051899, 0.01931294985115528, 0.04502405598759651, -0.015314103104174137, 0.0007840332109481096, -0.03892211243510246, 0.010448839515447617, 0.047897301614284515, -0.009782364591956139, 0.012396425940096378, 0.008197636343538761, -0.016513757407665253, -0.032820168882608414, -0.0010663592256605625, -0.012277941219508648, 0.026362769305706024, 0.0029269338119775057, -0.00322869885712862, -0.010663592256605625, -0.04283209517598152, 0.00844201073050499, -0.010463650338351727, -0.022719375789165497, -0.015432587824761868, -0.0078125623986125, 0.008375363424420357, 0.011381903663277626, -0.0005017071962356567, -0.011692925356328487, -0.006731392815709114, 0.016661863774061203, -0.010285923257470131, -0.0012931457022204995, -0.026170233264565468, -0.008893731981515884, 0.009774959646165371, -0.005124448332935572, 0.01479573454707861, -0.049881916493177414, 0.000698872609063983, -0.015788041055202484, 0.032909031957387924, 0.01392191182821989, -0.020897679030895233, 0.01183362491428852, 0.030717069283127785, -0.018735339865088463, 0.04280247539281845, -0.01219648402184248, 0.03364955633878708, -0.04502405598759651, 0.017535684630274773, 0.0018022581934928894, -0.0019549918361008167, 0.016661863774061203, 0.004154357593506575, -0.001951289246790111, 0.04191384091973305, 0.006527747493237257, 0.025059441104531288, 0.011522604152560234, 0.007260869722813368, 0.010974613949656487, 0.0141366645693779, 0.02445220947265625, -0.04102521017193794, 0.03456781059503555, -0.002404862316325307, 0.039425671100616455, 0.028125224635004997, 0.02697000280022621, 0.005239230114966631, 0.018587233498692513, 0.015728797763586044, 0.02520754747092724, 0.0013736779801547527, -0.014610602520406246, 0.006720284465700388, -0.0042358157224953175, -0.04478708654642105, -0.020823625847697258, 0.04499443620443344, 0.0038544442504644394, -0.00905664823949337, 0.017195042222738266, 0.02319331280887127, -0.004498702939599752, -0.015580693259835243, 0.011085692793130875, -0.0015180808259174228, 0.00812358409166336, 0.025962885469198227, 0.04398731887340546, -0.032968271523714066, -0.00782737322151661, 0.0025788862258195877, 0.03459743410348892, -0.03989960625767708, 0.000871507974807173, -0.011522604152560234, -0.004180276300758123, -0.015551071614027023, 0.0032157395035028458, -0.03462705388665199, -0.007649646606296301, 0.000808100332506001, -0.0162175465375185, 0.01497346069663763, 0.0220232792198658, -0.03696712106466293, -0.028199277818202972, 0.03178342804312706, 0.026999622583389282, 0.015343724749982357, -0.005890894215553999, -0.031220627948641777, -0.041558388620615005, -0.02842143550515175, -0.007701483089476824, -0.04854896664619446, -0.002786233788356185, -0.030317185446619987, -0.012351994402706623, -0.005076314322650433, 0.024259671568870544, 0.004495000466704369, -0.0010515486355870962, -0.003850741544738412, -0.012040972709655762]\n"
     ]
    }
   ],
   "source": [
    "response = client.embeddings.create(\n",
    "    input=\"Let's test embedding here\",\n",
    "    model=\"text-embedding-3-small\"\n",
    ")\n",
    "\n",
    "vector = response.data[0].embedding\n",
    "print(vector)"
   ]
  },
  {
   "cell_type": "code",
   "execution_count": 69,
   "id": "a9b88a9c",
   "metadata": {},
   "outputs": [
    {
     "data": {
      "text/plain": [
       "list"
      ]
     },
     "execution_count": 69,
     "metadata": {},
     "output_type": "execute_result"
    }
   ],
   "source": [
    "type(vector)"
   ]
  },
  {
   "cell_type": "code",
   "execution_count": 70,
   "id": "fe11a1de",
   "metadata": {},
   "outputs": [
    {
     "data": {
      "text/plain": [
       "1536"
      ]
     },
     "execution_count": 70,
     "metadata": {},
     "output_type": "execute_result"
    }
   ],
   "source": [
    "len(vector)"
   ]
  },
  {
   "cell_type": "code",
   "execution_count": 71,
   "id": "8539ea67",
   "metadata": {},
   "outputs": [
    {
     "data": {
      "text/plain": [
       "CreateEmbeddingResponse(data=[Embedding(embedding=[-0.004876371938735247, -0.02793268673121929, 0.03972188010811806, -0.03569341450929642, -0.001951289246790111, -0.011722546070814133, 0.027651287615299225, 0.02634795941412449, -0.006068620830774307, 0.022097332403063774, 0.041321419179439545, -0.008227257989346981, -0.008930758573114872, -0.02640720084309578, -0.023060018196702003, 0.015062323771417141, 0.0017448673024773598, 0.031072523444890976, -0.004261734429746866, 0.025666674599051476, 0.01766897924244404, -0.04250626266002655, 0.013136953115463257, 0.0355156846344471, 0.015299293212592602, -0.035100992769002914, 0.009093674831092358, 0.045616477727890015, 0.050178125500679016, -0.02442258782684803, 0.009397290647029877, -0.03335334733128548, -0.005579872522503138, -0.007968072779476643, -0.037352193146944046, 0.021164268255233765, 0.020986542105674744, 0.051777664572000504, -0.060782477259635925, 0.01802443340420723, 0.036907877773046494, 0.003369398880749941, -0.04049202799797058, 0.011122719384729862, -0.00550581980496645, 0.03871476277709007, -0.05752415582537651, -0.02579996921122074, -0.02471879869699478, 0.07014273852109909, -0.049822673201560974, 0.0022271357011049986, -0.0243041031062603, 0.017520874738693237, -0.024555882439017296, 0.015462208539247513, -0.037174466997385025, 0.029458174481987953, -0.02901385724544525, 0.008049530908465385, 0.018572423607110977, -0.009375074878334999, -0.0014838314382359385, -0.014077423140406609, 0.009871227666735649, -0.002195663284510374, -0.03803347796201706, 0.05779074504971504, 0.005679843947291374, 0.013351705856621265, 0.03578227758407593, 0.00687949825078249, -0.022186195477843285, 0.0157732293009758, 0.018009621649980545, -0.008205042220652103, -0.047926921397447586, 0.010937587358057499, -0.01664705201983452, -0.05281440168619156, 0.01697288453578949, 0.01018224935978651, -0.018128106370568275, -0.005657628178596497, -0.01664705201983452, -0.009693501517176628, -0.05162955820560455, 0.006357426289469004, -0.028288140892982483, -0.049704186618328094, -0.010123006999492645, -0.030954038724303246, -0.058708999305963516, -0.017461631447076797, 0.018824202939867973, 0.025725916028022766, -0.009663880802690983, -0.029369309544563293, -0.017135800793766975, 0.023593198508024216, 0.014469902031123638, -0.01603982038795948, -0.033116377890110016, -0.007938452064990997, 0.012633394449949265, -0.02622947469353676, 0.01673591509461403, -0.013870075345039368, -0.06297443807125092, -0.015995388850569725, -0.05311061441898346, -0.016602620482444763, -0.01586209423840046, 0.009871227666735649, 0.030257942155003548, -0.013825643807649612, 0.030272753909230232, -0.04872669279575348, -0.02661454863846302, -0.037055984139442444, -0.011204177513718605, -0.019831320270895958, 0.041588008403778076, -0.023385850712656975, -0.014195906929671764, -0.0571390800178051, -0.05533219501376152, -0.029310068115592003, -0.033412590622901917, -0.05082979053258896, -0.0010265558958053589, -0.01769860088825226, 0.052014634013175964, 0.032879408448934555, -0.02319331280887127, -0.022245438769459724, -0.04253588616847992, 0.05062244087457657, -0.028169656172394753, 0.037500299513339996, -0.018009621649980545, -0.06753608584403992, -0.008871516212821007, -0.03886286914348602, -0.045734960585832596, -0.007775535807013512, -0.04851934313774109, 0.02255645953118801, 0.008382768370211124, 0.012537126429378986, 0.016025008633732796, 0.0076718623749911785, -0.05388076230883598, -0.02568148449063301, -0.05705021694302559, -0.014232933521270752, -0.013092521578073502, -0.016276787966489792, 0.013092521578073502, 0.00718681700527668, -0.001188546186313033, 0.017135800793766975, 0.06498867273330688, -0.0019216681830585003, 0.004528324119746685, 0.02448183111846447, 0.0220232792198658, -0.021919606253504753, -0.02760685607790947, -0.045823827385902405, -0.0038433363661170006, -0.03160570189356804, -0.029102720320224762, 0.004806021694093943, -0.0023900517262518406, -0.026333149522542953, 0.015358534641563892, -0.07020198553800583, 0.039484910666942596, -0.012218699790537357, -0.043276410549879074, 0.039040595293045044, 0.0020531117916107178, 0.008686384186148643, -0.01339613739401102, 0.047926921397447586, 0.005383633077144623, 0.049881916493177414, 0.01606944017112255, 0.0049356138333678246, -0.0600123256444931, 0.053910382091999054, 0.06178959459066391, 0.015417777001857758, -0.02679227478802204, -0.02556299977004528, 0.08667130768299103, 0.035012129694223404, 0.052073877304792404, -0.018542801961302757, 0.002532603219151497, 0.0691356211900711, -0.02421524003148079, 0.021978847682476044, 0.010367381386458874, -0.017506064847111702, -0.030924417078495026, -0.030598586425185204, -0.02898423559963703, -0.008553089573979378, 0.03240547329187393, -0.011033856309950352, 0.018883444368839264, -0.013011063449084759, -0.009782364591956139, 0.028214087709784508, -0.045734960585832596, -0.002677005948498845, 0.019298139959573746, 0.015817662701010704, -0.03806310147047043, 0.016306409612298012, 0.06848395615816116, -0.010900560766458511, -0.05793885141611099, 0.0014856827910989523, -0.003693379694595933, -0.0347159169614315, 0.03468629717826843, -0.00946393795311451, 0.017535684630274773, -0.025962885469198227, -0.0030065407045185566, -0.014225528575479984, 0.043483760207891464, -0.014692060649394989, -0.00706833228468895, -0.011966920457780361, -0.013003658503293991, -0.006409263238310814, -0.031220627948641777, -0.014314391650259495, 0.014277365058660507, -0.007086845580488443, -0.008501253090798855, -0.01901673898100853, 0.004280247259885073, -0.03667090833187103, -0.00022447231458500028, 0.005642817355692387, 0.0009261218947358429, -0.004239518661051989, -0.02457069419324398, -0.036937497556209564, -0.00644258689135313, -0.004283950198441744, -0.02517792582511902, 0.01715061068534851, -0.0015375196235254407, -0.015610313974320889, -0.0429505780339241, 0.023963460698723793, -0.025029821321368217, -0.02766609750688076, 0.03566379100084305, -0.049733810126781464, 0.012877768836915493, -0.016113873571157455, 0.0007396015571430326, -0.07263091206550598, -0.0038063100073486567, -0.028969425708055496, 0.034745536744594574, -0.003682271810248494, -0.05302175134420395, 0.008153204806149006, -0.028258519247174263, -0.01586209423840046, -0.027295833453536034, 0.014092233031988144, -0.018365075811743736, -0.04466860368847847, 0.031102143228054047, 0.03696712106466293, -0.05681325122714043, -0.04499443620443344, -0.010893155820667744, -0.013596080243587494, -0.0321388803422451, -0.0032749816309660673, 0.0024085647892206907, -0.02655530720949173, 0.068246990442276, -0.016721105203032494, -0.016498947516083717, 0.02661454863846302, 0.0017818936612457037, 0.012055783532559872, 0.020749572664499283, -0.0188982542604208, 0.04061051458120346, -0.03687825798988342, 0.00861973688006401, 0.07482287287712097, -0.026777464896440506, 0.03329410403966904, -0.008175420574843884, 0.027266213670372963, 0.05157031863927841, -0.027236592024564743, -0.037115223705768585, 0.00019751250511035323, 0.01598057709634304, 0.04490557312965393, -0.037500299513339996, 0.015669556334614754, 0.056576281785964966, -0.0045616477727890015, 0.017017316073179245, -0.02997654303908348, -0.003839633660390973, -0.03824082762002945, 0.029221205040812492, -0.032997895032167435, -0.0037452164106070995, 0.023815356194972992, -0.032879408448934555, -0.00395811814814806, -0.0004984674160368741, -0.016484135761857033, 0.00022377807181328535, -0.006505531724542379, 0.019994234666228294, 0.005824246909469366, -0.018690908327698708, -0.02313407137989998, -0.03616734966635704, 0.02024601399898529, 0.02114945836365223, 0.003365696407854557, -0.06202656030654907, -0.0010598796652629972, 0.02889537252485752, 0.003776688827201724, -0.007131277117878199, 0.04472784698009491, 0.021134646609425545, 0.043750349432229996, 0.04093634709715843, -0.01595095731317997, 0.0006599948974326253, -0.009930470027029514, -0.0038285257760435343, 0.009263996034860611, 0.06481094658374786, -0.03424197807908058, -0.014521739445626736, -0.039366427809000015, -0.03199077770113945, -0.030257942155003548, 0.01729871705174446, -0.00019496693857945502, -0.004528324119746685, 0.043483760207891464, 0.027295833453536034, 0.0022900805342942476, -0.03687825798988342, -0.0011681817704811692, 0.03225736692547798, 0.03178342804312706, -0.012729663401842117, 0.016572998836636543, -0.00018281766097061336, -0.008071746677160263, -0.026185043156147003, 0.03125024959445, 0.02228987030684948, 0.039455290883779526, 0.028021549805998802, 0.016261978074908257, 0.004165465943515301, -0.027325455099344254, -0.0025992505252361298, -0.04105482995510101, 0.013055494986474514, -0.0017087665619328618, 0.03373841941356659, -0.002697370480746031, -0.05879786238074303, -0.002776977140456438, 0.025933263823390007, -0.056161586195230484, -0.0206310898065567, -0.023978272452950478, 0.06161186471581459, 0.0006377790705300868, 0.03607848659157753, -0.0016837738221511245, -0.0007067406550049782, 0.014640223234891891, -0.018572423607110977, -0.06712138652801514, -0.028169656172394753, -0.016780346632003784, 0.014543955214321613, 0.02424486167728901, 0.04724563658237457, -0.012581557966768742, 0.018646476790308952, -0.01447730790823698, 0.001980910310521722, -0.031072523444890976, 0.0315464586019516, -0.045794203877449036, -0.010678403079509735, 0.03350145369768143, 0.008553089573979378, -0.03539720177650452, -0.0009099228191189468, 0.060782477259635925, -0.005457685794681311, -0.041469525545835495, -0.023815356194972992, -0.004902290180325508, 0.007360840681940317, -0.008760437369346619, 0.07458590716123581, -0.008908542804419994, 0.035012129694223404, -0.0645739734172821, -0.03237584978342056, -0.013810832984745502, 0.02739950828254223, 0.024052325636148453, -0.0327313058078289, 0.003449005540460348, 0.026688601821660995, 0.012003946118056774, -0.02553337998688221, -0.004698645323514938, -0.005161474924534559, -0.0008437382057309151, -0.030628206208348274, -0.013810832984745502, -0.015669556334614754, -0.043572623282670975, -0.006320400163531303, 0.006683258339762688, -0.032820168882608414, -0.03335334733128548, -0.0037803915329277515, -0.08276132494211197, 0.0031750104390084743, -0.031161386519670486, 0.0017735627479851246, -0.04259512573480606, -0.016424894332885742, 0.0026029532309621572, 0.07630392909049988, 0.0015477018896490335, 0.01375899650156498, -0.025888832286000252, -0.024200430139899254, 0.05133334919810295, 0.04401693865656853, 0.004546837415546179, -0.01235939934849739, -0.010241491720080376, 0.04215081036090851, -0.013285058550536633, -0.007508946117013693, -9.435936954105273e-05, 0.00263257441110909, -0.0009066830389201641, -0.015017892234027386, -0.04215081036090851, -0.005394740961492062, -0.023785734549164772, -0.02088286727666855, -0.051925770938396454, 0.016143493354320526, -0.016513757407665253, -0.05503598600625992, -0.005246635526418686, -0.008841895498335361, 0.11540376394987106, -0.0141366645693779, -0.019638782367110252, 0.012514910660684109, -0.01595095731317997, -0.03986998647451401, 0.0036637585144490004, -0.005365119781345129, -0.019150033593177795, 0.029280446469783783, -0.027503181248903275, 0.02088286727666855, -0.03459743410348892, 0.054265834391117096, -0.0030824446585029364, 0.013470190577208996, 0.00609824201092124, -0.007597809657454491, 0.011604062281548977, 0.02997654303908348, -0.002641830826178193, -0.033086758106946945, 0.00010321098670829087, -0.010485866107046604, 0.024067135527729988, 0.0003401797148399055, 0.014551360160112381, -0.041439905762672424, -0.002786233788356185, 0.006401857826858759, -0.01278149988502264, -0.007023900747299194, 0.07186076045036316, -0.012500099837779999, -0.01435882318764925, 0.007508946117013693, -0.014314391650259495, -0.01164108794182539, -0.03181305155158043, 0.008760437369346619, -0.025015009567141533, -0.0367005281150341, -0.037322573363780975, -0.008493847213685513, -0.019653592258691788, -0.012640800327062607, -0.032553575932979584, 0.019579540938138962, -0.020201582461595535, -0.010189655236899853, -0.01309992652386427, -0.00038970247260294855, 0.03196115419268608, 0.002695519244298339, 0.004446865990757942, 0.039277564734220505, -0.0014134813100099564, 0.03673015162348747, 0.015284482389688492, -0.01892787590622902, 0.02211214415729046, 0.010715428739786148, -0.02226024866104126, -0.0010506230173632503, -0.00884930044412613, 0.007031306158751249, -0.04262474924325943, 0.03560455143451691, -0.008975190110504627, 0.025118684396147728, 0.02418562024831772, 0.050118882209062576, -0.0021290157455950975, -0.031072523444890976, 0.012129835784435272, 0.0014051503967493773, 0.030154269188642502, 0.047749195247888565, 0.04247664287686348, -0.033057134598493576, 0.031072523444890976, 0.01260377373546362, -0.009049243293702602, 0.05995308607816696, -0.02343028225004673, -0.045616477727890015, -0.014314391650259495, 0.012226104736328125, -0.007686672732234001, -0.007864398881793022, 0.02991729974746704, -0.011174555867910385, 0.015269671566784382, -0.026333149522542953, -0.025962885469198227, -0.011707735247910023, -0.015625124797225, 0.022304680198431015, 0.005387335550040007, -0.010300734080374241, 0.009589827619493008, 0.016958074644207954, -0.015995388850569725, -0.01688402146100998, 0.009500964544713497, 0.03782613202929497, -0.007686672732234001, 0.0065092346630990505, -0.016084251925349236, 0.01615830510854721, -0.016958074644207954, 0.023889409378170967, -0.023060018196702003, -0.001406076131388545, 0.02006828784942627, 0.015521450899541378, 0.01260377373546362, 0.006831363774836063, -0.00893816351890564, 0.010137817822396755, 0.006024189293384552, 0.000689616019371897, 0.033116377890110016, 0.010271112434566021, -0.016898831352591515, -0.013944127596914768, -0.02316369116306305, 0.012026162818074226, 0.0040432787500321865, 0.010456244461238384, 0.004028468392789364, -0.0015541815664619207, 0.005550251808017492, 0.04229891672730446, -0.008597521111369133, -0.018913066014647484, -0.01691364124417305, -0.006027891766279936, 0.021105026826262474, -0.04623851925134659, 0.025222357362508774, 0.013218411244452, -0.02048298344016075, 0.002902866806834936, 0.0063611287623643875, -0.008404984138906002, -0.0029213798698037863, 0.010034143924713135, -0.034656673669815063, 0.01609906181693077, -0.017313526943325996, -0.025103872641921043, 0.016350841149687767, 0.026170233264565468, -0.030391238629817963, -0.010989423841238022, -0.01986094005405903, 0.01688402146100998, -0.009604638442397118, -0.011626278050243855, -0.006420371122658253, 0.006727689877152443, 0.01330727431923151, -0.0010015630396082997, -0.026481254026293755, -0.002097543329000473, -0.028110414743423462, 0.01443287543952465, -0.02568148449063301, 0.015054918825626373, -0.04532026872038841, -0.012411236763000488, -0.035308338701725006, -0.016084251925349236, -0.023415470495820045, 0.006668447982519865, 0.007353435270488262, 0.012596368789672852, -0.030109837651252747, 0.010382192209362984, 0.030509721487760544, -0.07357878983020782, 0.001307030557654798, -0.014995676465332508, -0.004054386634379625, 0.010893155820667744, -0.005335498601198196, 0.015121566131711006, -0.03222774714231491, 0.025103872641921043, -0.03142797574400902, -0.020749572664499283, -0.012477884069085121, -0.001316287205554545, 0.015099350363016129, -0.01694326288998127, 0.02769571915268898, -0.03995884954929352, -0.037085603922605515, 0.019683213904500008, -0.0009941578609868884, 0.019994234666228294, 0.01673591509461403, -0.02568148449063301, -0.025992505252361298, -0.06836547702550888, -0.007960667833685875, 0.04090672358870506, -0.011885462328791618, -0.005553954280912876, 0.06167110800743103, 0.011226393282413483, 0.012403830885887146, -0.022156575694680214, -0.05539143830537796, 0.014840166084468365, 0.01946105621755123, -0.025103872641921043, -0.029132341966032982, -0.008871516212821007, -0.06907638162374496, -0.013011063449084759, -3.3584066841285676e-05, 0.07002425938844681, -0.02577034756541252, -0.01495864987373352, -0.017165420576930046, 0.014588386751711369, 0.007753320038318634, -0.0064388844184577465, -0.013136953115463257, 0.0026473847683519125, -0.017506064847111702, 0.0004239518311806023, 0.010248896665871143, -0.018246591091156006, -0.021016163751482964, -0.01595095731317997, 0.00416176300495863, -0.001616200665012002, -0.018735339865088463, -0.009234374389052391, 0.0063055893406271935, 0.006746203172951937, -0.0034527082461863756, -0.017254285514354706, 0.015906525775790215, 0.01799481175839901, 0.010545107536017895, 0.016528567299246788, 0.015610313974320889, -0.008560494519770145, -0.0066314213909208775, -0.02418562024831772, -0.02135680615901947, -0.04540913179516792, 0.030213510617613792, 0.04075862094759941, 0.016869209706783295, -0.019357381388545036, 0.0332348607480526, 0.04386883229017258, 0.003265725215896964, -0.005702059715986252, -0.022734185680747032, -0.017683790996670723, 0.013255437836050987, 0.01676553674042225, 0.003747067879885435, -0.0020771787967532873, -0.019357381388545036, 0.03874438628554344, -0.03181305155158043, -0.013699754141271114, 0.020853247493505478, 0.02725140191614628, 0.02898423559963703, -0.0017652318347245455, 0.015536261722445488, -0.001270004198886454, -0.029843248426914215, -0.007449704222381115, -0.00956761185079813, 0.03477516025304794, 0.024837283417582512, 0.020112719386816025, -0.005565062165260315, 0.007294193375855684, 0.011122719384729862, 0.052251603454351425, -0.035130612552165985, -0.047986164689064026, 0.026984812691807747, -0.043246790766716, 0.013840453699231148, -0.022867480292916298, 0.01058953907340765, 0.029265636578202248, -0.015069729648530483, -0.028228897601366043, 0.020808815956115723, -0.012477884069085121, 0.0015264117391780019, -0.01589171402156353, -0.05799809470772743, -0.024585504084825516, -0.0030472695361822844, 0.011522604152560234, 0.0061056469567120075, 0.01574360951781273, 0.017713410779833794, -0.04292095825076103, -0.08311677724123001, -0.012033567763864994, 0.004232113249599934, -0.03989960625767708, 0.02337103895843029, 0.033264484256505966, 0.002223432995378971, 0.025029821321368217, -0.01238902099430561, 0.010670997202396393, 0.01364051178097725, -0.043454136699438095, 0.0052688512951135635, -0.02988767996430397, 0.016587810590863228, -0.04407618194818497, 0.025992505252361298, -0.002562224166467786, -0.016380462795495987, 0.017476443201303482, -0.039396047592163086, 0.010982018895447254, 0.07209773361682892, 0.026895949617028236, -0.04718639701604843, -0.009834202006459236, -0.008841895498335361, 0.0052614458836615086, -0.02568148449063301, -0.012337183579802513, 0.0008242994081228971, 0.0009464863687753677, -0.00019566118135116994, 0.010308139026165009, -0.0036267321556806564, -0.017580116167664528, -0.00359340850263834, -0.020734762772917747, 0.034893643110990524, 0.003058377420529723, -0.011485577560961246, -0.0011293040588498116, -0.028258519247174263, -0.010345165617763996, 0.06552185118198395, -0.0027621665503829718, 0.020734762772917747, -0.011078287847340107, -0.0039099836722016335, 0.016173115000128746, 0.011996541172266006, -0.006953550968319178, 0.012174268253147602, -0.01583247259259224, 0.006649934686720371, 0.028465867042541504, 0.02694038115441799, -0.0038285257760435343, 0.0321388803422451, 0.007116466760635376, -0.041232556104660034, 0.021105026826262474, -0.005642817355692387, -0.004187681712210178, 0.0040506841614842415, 0.016558188945055008, -0.0019938696641474962, 0.05613196641206741, -0.016202736645936966, -0.01123379822820425, 0.027192160487174988, -0.027384696528315544, 0.03812234103679657, 0.027058865875005722, -0.0211790781468153, -0.01837988570332527, 0.009960091672837734, 0.03655242547392845, -0.006801742594689131, 0.0423581562936306, 0.05589499697089195, 0.022867480292916298, -0.0033009001053869724, 0.026036938652396202, -0.029398931190371513, 0.001052474370226264, -0.041588008403778076, -0.039544153958559036, -0.019446244463324547, 0.022660134360194206, 0.04472784698009491, -0.037144847214221954, -0.01218167319893837, 0.02156415395438671, -0.023015586659312248, -0.006672150455415249, 0.008915947750210762, -0.02790306694805622, 0.03856666013598442, 0.006072323303669691, 0.031042901799082756, 0.008908542804419994, -0.020868057385087013, -0.007923641242086887, -0.037144847214221954, 0.004413542337715626, 0.01595095731317997, 0.020320067182183266, -0.008597521111369133, 0.009412101469933987, 0.03006540611386299, 0.004180276300758123, -0.019964614883065224, -0.031161386519670486, -0.007508946117013693, -0.009412101469933987, -0.00034689073800109327, 0.04934873431921005, 0.0014236635761335492, -0.011307850480079651, 0.031042901799082756, 0.016350841149687767, 0.03773726895451546, -0.0505928210914135, -0.05509522557258606, -0.028999047353863716, 0.009293616749346256, -0.009286211803555489, -0.00526514882221818, 0.002484468976035714, -0.0005225345375947654, 0.06558109074831009, 0.01937219314277172, -0.0383889302611351, 0.002604804467409849, 0.012189078144729137, 0.017506064847111702, 0.011241203173995018, -0.04078824073076248, 0.006720284465700388, 0.01589171402156353, -0.02851029857993126, -0.013314680196344852, -0.016054630279541016, -0.04671245813369751, 0.029310068115592003, -0.0497930534183979, 0.02962108887732029, -0.012492694891989231, -0.03681901469826698, 0.027192160487174988, 0.019579540938138962, -0.015099350363016129, 0.006609205622226, 0.007038711570203304, 0.013855264522135258, -0.004454271402209997, -0.013173979707062244, -7.873887079767883e-05, 0.03791499510407448, -0.01636565290391445, 0.007523756939917803, 0.019594350829720497, -0.012500099837779999, 0.03249433636665344, 0.0057946257293224335, -0.017343148589134216, 0.03678939491510391, -0.014210717752575874, 0.01814291812479496, -0.02634795941412449, 0.03364955633878708, 0.0021734475158154964, 0.006849877070635557, 0.0031620513182133436, 0.045794203877449036, 0.01437363401055336, 0.029236014932394028, 0.0024400372058153152, -0.030243132263422012, 0.051866527646780014, 0.05251819267868996, -0.01907598227262497, 0.012551936320960522, 0.048311997205019, 0.0020549630280584097, -0.0050837192684412, -0.003850741544738412, 0.018276212736964226, 0.027325455099344254, -0.024111567065119743, 0.021253131330013275, 0.02354876697063446, -0.0044320556335151196, 0.0014921623514965177, -0.03797423839569092, -0.00896778516471386, 0.027206970378756523, -0.0018818648532032967, -0.027014434337615967, 0.008219852112233639, 0.014247744344174862, 0.019238898530602455, -0.011752167716622353, -0.028673214837908745, -0.027266213670372963, 0.00016962701920419931, 0.004198789596557617, -0.0006488870130851865, 0.006124160252511501, -0.0007840332109481096, -0.024881714954972267, 0.02853992022573948, 0.020023856312036514, -0.004917101003229618, 0.01775784231722355, -0.049852292984724045, 0.01426996011286974, 0.025607431307435036, 0.00016372594109270722, -0.011211582459509373, -0.01913522370159626, -0.018513180315494537, 0.008597521111369133, -0.03832969069480896, 0.0007761651067994535, 0.033264484256505966, -0.01913522370159626, -0.009441722184419632, 0.01603982038795948, -0.02725140191614628, 0.009737933054566383, 0.028169656172394753, -0.0251483041793108, 0.004391326569020748, -0.010982018895447254, -0.0426543690264225, -0.03421235829591751, 0.03151683881878853, 0.008256878703832626, -0.0014819800853729248, 0.0032157395035028458, -0.011855840682983398, -0.018453938886523247, -0.007856993936002254, 0.0025011308025568724, 0.03394576907157898, 0.006087134126573801, -0.01799481175839901, -0.0029972840566188097, 0.0020753275603055954, 0.011455956846475601, 0.01997942477464676, -0.03658204525709152, 0.021460479125380516, -0.014055207371711731, -0.02904347889125347, -0.010115602053701878, 0.027014434337615967, -0.0025363056920468807, -7.775535777909681e-05, 0.015580693259835243, 0.02039412036538124, -0.06872092932462692, -0.02489652670919895, -0.013536837883293629, -0.000517906213644892, -0.019268518313765526, -0.011611467227339745, -0.005872380919754505, -0.012855553068220615, 0.04955608397722244, 0.012640800327062607, 0.007753320038318634, -0.016572998836636543, 0.010841318406164646, 0.019757267087697983, 0.01928333006799221, 0.010952398180961609, 0.009212158620357513, -0.03228698670864105, -0.021786311641335487, 0.041499145328998566, 0.0034175331238657236, -0.0043691108003258705, -0.0027714231982827187, 0.002079030266031623, 0.004402434453368187, 0.005846462678164244, 0.01992018334567547, 0.0007266423781402409, 0.01673591509461403, -0.015462208539247513, -0.0007946782861836255, 0.011152340099215508, 0.001054325606673956, -0.0019901669584214687, -0.014329202473163605, 0.03569341450929642, 0.001316287205554545, 0.030050596222281456, 0.019875751808285713, -0.00895297434180975, -0.022956345230340958, 0.0024307805579155684, 0.02460031397640705, -0.00304912100546062, 0.005868678446859121, -0.0035026937257498503, -0.024230051785707474, 0.004246923606842756, -0.011907678097486496, 0.023889409378170967, -0.0274291280657053, 0.03379766270518303, 0.024555882439017296, 0.013477595522999763, -0.02249721810221672, -0.00905664823949337, -0.011811409145593643, -0.05696135386824608, -0.007101656403392553, -0.02226024866104126, 0.01153741404414177, -0.005465091206133366, 0.023474713787436485, 0.018276212736964226, -0.0406697541475296, 0.001217241631820798, 0.02030525729060173, -0.006909118965268135, 0.007997694425284863, -0.006435181479901075, 0.0012681528460234404, -0.03678939491510391, 0.017535684630274773, -0.0335310734808445, -0.013499811291694641, -0.05293288826942444, 0.0005882563418708742, -0.003141686785966158, 0.007201627362519503, -0.0070127928629517555, 0.01574360951781273, -0.023148881271481514, 0.005642817355692387, -0.017343148589134216, 0.014455092139542103, 0.01769860088825226, 0.03687825798988342, 0.11327105015516281, -0.009730528108775616, -0.023815356194972992, -0.024733610451221466, -0.01715061068534851, 0.012070594355463982, -0.007982883602380753, -0.004021062981337309, -0.02670341171324253, 0.007364543620496988, -0.027562424540519714, 0.019757267087697983, 0.017654169350862503, -0.009597232565283775, -0.0147809237241745, -0.00864935852587223, -0.00441724481061101, -0.02532603219151497, -0.0015125268837437034, 0.012189078144729137, 0.014247744344174862, -0.01910560205578804, 0.004720861092209816, 0.02868802472949028, -0.02535565197467804, 0.013647916726768017, -0.020601468160748482, 0.009382479824125767, 0.018794581294059753, 0.0026436822954565287, -0.019357381388545036, 0.010152628645300865, -0.012055783532559872, 0.037381816655397415, 0.00577611243352294, 0.01574360951781273, -0.03601924329996109, 0.01928333006799221, 0.007475622463971376, 0.016306409612298012, 0.009367669932544231, -0.014877192676067352, -0.014032991603016853, 0.001670814584940672, -0.009634259156882763, -0.02582959085702896, -0.020497793331742287, -0.0210309736430645, 0.012018756940960884, -0.0051355562172830105, -0.007768130861222744, 0.04244702309370041, -0.03643393889069557, 0.045675721019506454, 0.0287176463752985, -0.004221005365252495, -0.003504545195028186, 0.015491830185055733, 0.035456445068120956, -0.018720528110861778, 0.023682061582803726, 0.03406425192952156, -0.021949227899312973, 0.03560455143451691, -0.002371538430452347, -0.015728797763586044, -0.04061051458120346, 0.009886038489639759, -0.020379310473799706, 0.030198700726032257, -0.0027010731864720583, 0.031131764873862267, -0.015906525775790215, -0.03631545603275299, -0.00395811814814806, 0.01946105621755123, 0.012959226965904236, -3.0083918318268843e-05, -0.008678979240357876, 0.0033453318756073713, -0.01288517378270626, 0.016958074644207954, 0.015328913927078247, 0.020408930256962776, 0.005502117332071066, -0.016958074644207954, 0.021845553070306778, -0.01489940844476223, 0.010441433638334274, 0.031072523444890976, -0.030080216005444527, -0.005668736062943935, 0.020601468160748482, 0.003750770352780819, 0.013610891066491604, 0.02433372475206852, 0.007575593888759613, -0.020808815956115723, 0.03628583624958992, 0.019816508516669273, 0.016928452998399734, -0.0004864338261540979, -0.016602620482444763, 0.026096180081367493, -0.017980001866817474, 0.017328336834907532, -0.0654626116156578, 0.015506640076637268, -0.005905704572796822, -0.005528036039322615, 0.011907678097486496, -0.027325455099344254, 0.016987694427371025, 0.0001740238949423656, -0.01700250618159771, 0.009019621647894382, -0.02748837135732174, 0.034952886402606964, 0.003998847212642431, -0.0224675964564085, 0.0072756800800561905, 0.026273906230926514, -0.002852881094440818, 0.000689616019371897, 0.02220100723206997, -0.025518568232655525, 0.0012579706963151693, -0.012640800327062607, -0.017506064847111702, 0.008804868906736374, 0.04540913179516792, 0.005031882785260677, 0.006568476557731628, 0.011789193376898766, 0.0032268473878502846, 0.006723987404257059, -0.00332311587408185, -0.051896147429943085, 0.008434604853391647, 0.01664705201983452, 0.028288140892982483, 0.003998847212642431, 0.0029269338119775057, -0.015536261722445488, 0.023000776767730713, -0.004524621646851301, -0.0018179944017902017, 0.0022530541755259037, -0.04244702309370041, 0.00608343118801713, -0.003558233380317688, -0.02766609750688076, 0.00035707297502085567, -0.024037513881921768, 0.01907598227262497, -0.001052474370226264, 0.014425470493733883, -0.011418930254876614, 0.010745050385594368, -0.01883901283144951, 0.030450480058789253, 0.0035897057969123125, -0.021638205274939537, 0.0234599020332098, -0.000989529537037015, -0.0035730439703911543, -0.0037655809428542852, -0.018009621649980545, -0.007790346629917622, 0.005057801026850939, 0.0016291599022224545, -0.01835026405751705, 0.016261978074908257, -0.003365696407854557, -0.012300156988203526, -0.04875631257891655, 0.014662439003586769, 0.01311473734676838, -0.0400773324072361, -0.015358534641563892, 0.012625989504158497, -0.03376804292201996, -0.0315464586019516, 0.008271689526736736, -0.002788085024803877, 0.022778617218136787, 0.027384696528315544, -0.02208252251148224, -0.014262554235756397, -0.01811329647898674, 0.0018328048754483461, -0.023089639842510223, -0.017609737813472748, -0.00842719990760088, 0.009597232565283775, 0.009301021695137024, -0.03444932773709297, -0.022334301844239235, 0.003278684336692095, 0.02532603219151497, -0.003632286097854376, -0.003697082167491317, 0.030717069283127785, -0.012470479123294353, 0.016424894332885742, 0.022778617218136787, -0.011878056451678276, -0.00790142547339201, -0.005568764638155699, -0.014506928622722626, 0.06878016889095306, -0.015595504082739353, 0.002904718043282628, -0.004258031491190195, 0.03963301703333855, 0.003693379694595933, 0.013277653604745865, -0.016232356429100037, 0.0030898498371243477, -0.00907145906239748, 0.006453694775700569, -0.0032731303945183754, 0.008101368322968483, -0.039662640541791916, -0.006479613482952118, 0.025637052953243256, 0.0210309736430645, -0.02523716911673546, 0.004717158619314432, 0.01618792489171028, -0.017728222534060478, -0.024674367159605026, -0.016291599720716476, -0.014084828086197376, -0.010463650338351727, -0.02048298344016075, 0.008360552601516247, 0.02673303335905075, -0.01781708560883999, 0.009952685795724392, -0.023830166086554527, 0.00421359995380044, 0.04689018428325653, 0.02991729974746704, -0.01114493515342474, -0.012514910660684109, -0.01270744763314724, 0.009189942851662636, -0.02959146909415722, -0.023904219269752502, -0.0049504246562719345, 0.016632242128252983, -0.00452091870829463, -0.041321419179439545, -0.02208252251148224, -0.0003839170967694372, -0.0048171295784413815, 0.0078866146504879, -0.008345741778612137, -0.023800546303391457, -0.02862878330051899, 0.01931294985115528, 0.04502405598759651, -0.015314103104174137, 0.0007840332109481096, -0.03892211243510246, 0.010448839515447617, 0.047897301614284515, -0.009782364591956139, 0.012396425940096378, 0.008197636343538761, -0.016513757407665253, -0.032820168882608414, -0.0010663592256605625, -0.012277941219508648, 0.026362769305706024, 0.0029269338119775057, -0.00322869885712862, -0.010663592256605625, -0.04283209517598152, 0.00844201073050499, -0.010463650338351727, -0.022719375789165497, -0.015432587824761868, -0.0078125623986125, 0.008375363424420357, 0.011381903663277626, -0.0005017071962356567, -0.011692925356328487, -0.006731392815709114, 0.016661863774061203, -0.010285923257470131, -0.0012931457022204995, -0.026170233264565468, -0.008893731981515884, 0.009774959646165371, -0.005124448332935572, 0.01479573454707861, -0.049881916493177414, 0.000698872609063983, -0.015788041055202484, 0.032909031957387924, 0.01392191182821989, -0.020897679030895233, 0.01183362491428852, 0.030717069283127785, -0.018735339865088463, 0.04280247539281845, -0.01219648402184248, 0.03364955633878708, -0.04502405598759651, 0.017535684630274773, 0.0018022581934928894, -0.0019549918361008167, 0.016661863774061203, 0.004154357593506575, -0.001951289246790111, 0.04191384091973305, 0.006527747493237257, 0.025059441104531288, 0.011522604152560234, 0.007260869722813368, 0.010974613949656487, 0.0141366645693779, 0.02445220947265625, -0.04102521017193794, 0.03456781059503555, -0.002404862316325307, 0.039425671100616455, 0.028125224635004997, 0.02697000280022621, 0.005239230114966631, 0.018587233498692513, 0.015728797763586044, 0.02520754747092724, 0.0013736779801547527, -0.014610602520406246, 0.006720284465700388, -0.0042358157224953175, -0.04478708654642105, -0.020823625847697258, 0.04499443620443344, 0.0038544442504644394, -0.00905664823949337, 0.017195042222738266, 0.02319331280887127, -0.004498702939599752, -0.015580693259835243, 0.011085692793130875, -0.0015180808259174228, 0.00812358409166336, 0.025962885469198227, 0.04398731887340546, -0.032968271523714066, -0.00782737322151661, 0.0025788862258195877, 0.03459743410348892, -0.03989960625767708, 0.000871507974807173, -0.011522604152560234, -0.004180276300758123, -0.015551071614027023, 0.0032157395035028458, -0.03462705388665199, -0.007649646606296301, 0.000808100332506001, -0.0162175465375185, 0.01497346069663763, 0.0220232792198658, -0.03696712106466293, -0.028199277818202972, 0.03178342804312706, 0.026999622583389282, 0.015343724749982357, -0.005890894215553999, -0.031220627948641777, -0.041558388620615005, -0.02842143550515175, -0.007701483089476824, -0.04854896664619446, -0.002786233788356185, -0.030317185446619987, -0.012351994402706623, -0.005076314322650433, 0.024259671568870544, 0.004495000466704369, -0.0010515486355870962, -0.003850741544738412, -0.012040972709655762], index=0, object='embedding')], model='text-embedding-3-small', object='list', usage=Usage(prompt_tokens=5, total_tokens=5))"
      ]
     },
     "execution_count": 71,
     "metadata": {},
     "output_type": "execute_result"
    }
   ],
   "source": [
    "response"
   ]
  },
  {
   "cell_type": "code",
   "execution_count": 72,
   "id": "e05ebf08",
   "metadata": {},
   "outputs": [
    {
     "data": {
      "text/plain": [
       "openai.types.create_embedding_response.CreateEmbeddingResponse"
      ]
     },
     "execution_count": 72,
     "metadata": {},
     "output_type": "execute_result"
    }
   ],
   "source": [
    "type(response)"
   ]
  },
  {
   "cell_type": "code",
   "execution_count": 73,
   "id": "5f9bdafc",
   "metadata": {},
   "outputs": [
    {
     "data": {
      "text/plain": [
       "Usage(prompt_tokens=5, total_tokens=5)"
      ]
     },
     "execution_count": 73,
     "metadata": {},
     "output_type": "execute_result"
    }
   ],
   "source": [
    "response.usage"
   ]
  },
  {
   "cell_type": "code",
   "execution_count": 74,
   "id": "5ae385ac",
   "metadata": {},
   "outputs": [
    {
     "data": {
      "text/plain": [
       "'text-embedding-3-small'"
      ]
     },
     "execution_count": 74,
     "metadata": {},
     "output_type": "execute_result"
    }
   ],
   "source": [
    "response.model"
   ]
  },
  {
   "cell_type": "markdown",
   "id": "ca06c218",
   "metadata": {},
   "source": [
    "- The response contains the embedding vector\n",
    "- The response contains additional metadata\n",
    "- You can extract the embedding vector, save it in a vector database\n",
    "- By default, the length of the embedding vector is `1536` for `text-embedding-3-small` or `3072` for `text-embedding-3-large`"
   ]
  },
  {
   "cell_type": "markdown",
   "id": "ac5358d8",
   "metadata": {},
   "source": [
    "<br></br>\n",
    "\n",
    "### <u>Vector DB</u>"
   ]
  },
  {
   "cell_type": "markdown",
   "id": "3049f9b1",
   "metadata": {},
   "source": [
    "#### **Chroma**"
   ]
  },
  {
   "cell_type": "markdown",
   "id": "f28786ed",
   "metadata": {},
   "source": [
    "- Chroma is an AI-native open-source vector database\n",
    "\n",
    "- You can run it on your machine\n",
    "\n",
    "- You can use a hosted version - Chroma Cloud\n",
    "\n",
    "<br>\n",
    "\n",
    "- **In Python, you can run a Chroma server in-memory and connect to it with the ephemeral client**\n",
    "  - This is a great tool for experimenting with different embedding functions and retrieval techniques in a Python notebook\n",
    "  - If you don't need data persistence, the ephemeral client is a good choice for getting up and running with Chroma"
   ]
  },
  {
   "cell_type": "markdown",
   "id": "27ab3c36",
   "metadata": {},
   "source": [
    "<u>We'll use Chroma's **ephemeral client** for simplicity</u>\n",
    "\n",
    "- It starts a Chroma server in-memory, <u>so any data you ingest will be lost when your program terminates</u>\n",
    "\n",
    "- You can use the **persistent client** or run Chroma in **client-server** mode <u>if you need data persistence</u>\n",
    "\n",
    "- The `EphemeralClient()` method starts a Chroma server in-memory and also returns a client with which you can connect to it\n",
    "\n"
   ]
  },
  {
   "cell_type": "markdown",
   "id": "e9d8ff0e",
   "metadata": {},
   "source": [
    "#### **Create a Chroma Client**"
   ]
  },
  {
   "cell_type": "code",
   "execution_count": 75,
   "id": "fb50fae1",
   "metadata": {},
   "outputs": [
    {
     "ename": "ModuleNotFoundError",
     "evalue": "No module named 'chromadb'",
     "output_type": "error",
     "traceback": [
      "\u001b[31m---------------------------------------------------------------------------\u001b[39m",
      "\u001b[31mModuleNotFoundError\u001b[39m                       Traceback (most recent call last)",
      "\u001b[36mCell\u001b[39m\u001b[36m \u001b[39m\u001b[32mIn[75]\u001b[39m\u001b[32m, line 1\u001b[39m\n\u001b[32m----> \u001b[39m\u001b[32m1\u001b[39m \u001b[38;5;28;01mimport\u001b[39;00m\u001b[38;5;250m \u001b[39m\u001b[34;01mchromadb\u001b[39;00m\n\u001b[32m      2\u001b[39m chroma_client = chromadb.Client()\n",
      "\u001b[31mModuleNotFoundError\u001b[39m: No module named 'chromadb'"
     ]
    }
   ],
   "source": [
    "import chromadb\n",
    "chroma_client = chromadb.Client()"
   ]
  },
  {
   "cell_type": "markdown",
   "id": "f540ff5c",
   "metadata": {},
   "source": [
    "#### **Create a collection**"
   ]
  },
  {
   "cell_type": "markdown",
   "id": "af05a4d4",
   "metadata": {},
   "source": [
    "- Collections are where you'll store your embeddings, documents, and any additional metadata\n",
    "\n",
    "- Collections index your embeddings and documents, and enable efficient retrieval and filtering\n",
    "\n",
    "- You can create a collection with a name"
   ]
  },
  {
   "cell_type": "code",
   "execution_count": null,
   "id": "7b6a987c",
   "metadata": {},
   "outputs": [],
   "source": [
    "collection = chroma_client.create_collection(name=\"my_collection\")"
   ]
  },
  {
   "cell_type": "code",
   "execution_count": null,
   "id": "2fdac8ae",
   "metadata": {},
   "outputs": [],
   "source": [
    "collection"
   ]
  },
  {
   "cell_type": "code",
   "execution_count": null,
   "id": "7a65d4cb",
   "metadata": {},
   "outputs": [],
   "source": [
    "type(collection)"
   ]
  },
  {
   "cell_type": "markdown",
   "id": "73f282a5",
   "metadata": {},
   "source": [
    "#### **Add some text documents to the collection**"
   ]
  },
  {
   "cell_type": "markdown",
   "id": "2e2b8b8a",
   "metadata": {},
   "source": [
    "- Chroma will store your text and handle embedding and indexing automatically\n",
    "\n",
    "- You can also customize the embedding model\n",
    "\n",
    "- **You must provide unique string IDs for your documents**"
   ]
  },
  {
   "cell_type": "code",
   "execution_count": null,
   "id": "6bda3bd1",
   "metadata": {},
   "outputs": [],
   "source": [
    "collection.add(\n",
    "    documents=[\n",
    "        \"This is a document about apples\",\n",
    "        \"This is a document about cats\"\n",
    "    ],\n",
    "    ids=[\"id1\", \"id2\"]\n",
    ")"
   ]
  },
  {
   "cell_type": "markdown",
   "id": "78d5ecd6",
   "metadata": {},
   "source": [
    "#### **Query the collection**"
   ]
  },
  {
   "cell_type": "markdown",
   "id": "be73828b",
   "metadata": {},
   "source": [
    "- You can query the collection with a list of query texts\n",
    "\n",
    "- Chroma will return the n most similar results\n",
    "\n",
    "- If `n_results` is not provided, Chroma will return **10** results by default\n",
    "\n",
    "- Here we only added **2** documents, so we set `n_results=2`"
   ]
  },
  {
   "cell_type": "code",
   "execution_count": null,
   "id": "47395271",
   "metadata": {},
   "outputs": [],
   "source": [
    "results = collection.query(\n",
    "    query_texts=[\"This is a query document about fruits\"], # Chroma will embed this for you\n",
    "    n_results=2 # how many results to return\n",
    ")\n",
    "\n",
    "print(results)"
   ]
  },
  {
   "cell_type": "code",
   "execution_count": null,
   "id": "76c89d91",
   "metadata": {},
   "outputs": [],
   "source": [
    "results"
   ]
  },
  {
   "cell_type": "markdown",
   "id": "c6c4984b",
   "metadata": {},
   "source": [
    "#### **Inspect Results**"
   ]
  },
  {
   "cell_type": "markdown",
   "id": "427e2fd0",
   "metadata": {},
   "source": [
    "<u>**Very Important**</u>\n",
    "\n",
    "- By default **ChromaDB uses cosine similarity** to calculate the distance between vectors\n",
    "\n",
    "- Cosine similarity produces a value between -1 and 1\n",
    "\n",
    "- **Cosine similarity IS NOT A DISTANCE, but a similarity**\n",
    "\n",
    "<br>\n",
    "\n",
    "- Chroma convert it to a distance by using:\n",
    "  - **cosine distance = 1 - cosine similarity**\n",
    "  - **cosine distance ranges from 1 to 2**\n",
    "    - 0 = identical\n",
    "    - 1 = unrelated\n",
    "    - 2 = opposite meaning"
   ]
  },
  {
   "cell_type": "markdown",
   "id": "a7fdd6bc",
   "metadata": {},
   "source": [
    "From the above query - you can see that our query about `fruits` is the semantically most similar to the document about `apples`"
   ]
  },
  {
   "cell_type": "markdown",
   "id": "e99cfdf2",
   "metadata": {},
   "source": [
    "#### **Use Chroma with OpenAI's Embedding models**"
   ]
  },
  {
   "cell_type": "code",
   "execution_count": null,
   "id": "70af7bb1",
   "metadata": {},
   "outputs": [],
   "source": [
    "# String to embed\n",
    "text = [\"some string A\", \"some string B\", \"some string C\"]\n",
    "\n",
    "# Get embedding from OpenAI\n",
    "response = client.embeddings.create(\n",
    "    input=text,\n",
    "    model=\"text-embedding-3-small\"\n",
    ")\n",
    "\n",
    "\n",
    "# Extract all embeddings in a list\n",
    "embeddings = [list(d.embedding) for d in response.data]\n",
    "\n",
    "\n",
    "\n",
    "# Initialize collection\n",
    "collection = chroma_client.get_or_create_collection(name=\"my_collection_openai\")\n",
    "\n",
    "#Store the string and its embedding in Chroma\n",
    "collection.add(\n",
    "    documents=text,\n",
    "    embeddings=embeddings,\n",
    "    ids=[\"A\",\"B\",\"C\"]    # unique ID for this item\n",
    ")"
   ]
  },
  {
   "cell_type": "code",
   "execution_count": null,
   "id": "8a984772",
   "metadata": {},
   "outputs": [],
   "source": [
    "embeddings"
   ]
  },
  {
   "cell_type": "markdown",
   "id": "bfbe69c1",
   "metadata": {},
   "source": [
    "#### **Why use Chroma with OpenAI's Embedding models?**"
   ]
  },
  {
   "cell_type": "markdown",
   "id": "8d3c948e",
   "metadata": {},
   "source": [
    "- Chroma (the open-source library/server) is free and open source\n",
    "\n",
    "- If you use a cloud service or managed version, there may be costs\n",
    "\n",
    "- In recent versions, Chroma can automatically call a default embedding model for you if you have not ***provided embeddings explicitly***\n",
    "\n",
    "- This only works in Python (not with the HTTP/server API), and it is designed for convenience/testing\n",
    "\n",
    "- The default is usually an open-source model - which are usually more simple"
   ]
  }
 ],
 "metadata": {
  "kernelspec": {
   "display_name": ".venv",
   "language": "python",
   "name": "python3"
  },
  "language_info": {
   "codemirror_mode": {
    "name": "ipython",
    "version": 3
   },
   "file_extension": ".py",
   "mimetype": "text/x-python",
   "name": "python",
   "nbconvert_exporter": "python",
   "pygments_lexer": "ipython3",
   "version": "3.11.8"
  }
 },
 "nbformat": 4,
 "nbformat_minor": 5
}

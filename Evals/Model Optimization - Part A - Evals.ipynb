{
 "cells": [
  {
   "cell_type": "markdown",
   "id": "b2af74cc",
   "metadata": {
    "id": "b2af74cc"
   },
   "source": [
    "# Model Optimization\n",
    "\n",
    "© Advanced Analytics, Amir Ben Haim, 2024"
   ]
  },
  {
   "cell_type": "markdown",
   "id": "874df1e9",
   "metadata": {},
   "source": [
    "<font color=\"yellow\">UPDATED</font>"
   ]
  },
  {
   "cell_type": "markdown",
   "id": "333109e7",
   "metadata": {
    "id": "333109e7"
   },
   "source": [
    "<br></br>\n",
    "\n",
    "Ensure quality model outputs with **EVALS** and **FINE-TUNING**\n",
    "\n",
    "- LLM output is non-deterministic\n",
    "- Model behavior changes between model snapshots and families\n",
    "- When Developing we must constantly measure and tune the performance of LLM applications\n",
    "\n",
    "<br></br>\n",
    "\n",
    " <p style=\"font-size:30px\"><u>Workflow</u></p>\n",
    "\n",
    " - **Write Evals**\n",
    "    <br>Establishing a baseline for performance and accuracy\n",
    "\n",
    "- **Prompt the model**\n",
    "    <br>Providing relevant context data and instructions\n",
    "\n",
    "- **Fine-tune a model**\n",
    "    <br><u>For some use cases</u>, it may be desirable to fine-tune a model for a specific task\n",
    "\n",
    "- **Run Evals**\n",
    "    <br>Using test data, Measure the performance of your prompt and fine-tuned model\n",
    "\n",
    "- **Tweak**\n",
    "    <br>Tweak your <u>prompt</u> or <u>fine-tuning</u> dataset based on eval feedback\n",
    "\n",
    "- **Repeat the loop continuously**\n",
    "    <br>To improve your model results"
   ]
  },
  {
   "cell_type": "markdown",
   "id": "db7d854d",
   "metadata": {
    "id": "db7d854d"
   },
   "source": [
    "<br>\n",
    "<br>\n",
    "<hr class=\"dotted\">\n",
    "<br>\n",
    "<br>"
   ]
  },
  {
   "cell_type": "markdown",
   "id": "7be594c0",
   "metadata": {},
   "source": [
    "## <u>We'll cover</u>"
   ]
  },
  {
   "cell_type": "markdown",
   "id": "e9ad7bdc",
   "metadata": {},
   "source": [
    "- Evaluations (Evals)\n",
    "<br></br>\n",
    "\n",
    "- Fine-Tuning\n",
    "  - Supervised Fine-Tuning (SFT)"
   ]
  },
  {
   "cell_type": "markdown",
   "id": "ed914c10",
   "metadata": {},
   "source": [
    "<br>\n",
    "<br>\n",
    "<hr class=\"dotted\">\n",
    "<br>\n",
    "<br>"
   ]
  },
  {
   "cell_type": "markdown",
   "id": "38265701",
   "metadata": {
    "id": "38265701"
   },
   "source": [
    "## Setup"
   ]
  },
  {
   "cell_type": "markdown",
   "id": "297772a3",
   "metadata": {
    "id": "297772a3"
   },
   "source": [
    "<br></br>\n",
    "\n",
    "### <u>Resetting OpenAI API **EVALS & FINE-TUNING**</u>"
   ]
  },
  {
   "cell_type": "markdown",
   "id": "3386f2c3",
   "metadata": {
    "id": "3386f2c3"
   },
   "source": [
    "<p style=\"background-color:blue; font-size:30px; color:yellow\"> It's easier to follow the notebook if you reset (delete) OpenAI API <b>FILES & EVALS & FINE-TUNING</b>\n",
    "<br>Use at your own discretion</p>\n",
    "\n",
    "[OpenAI Storage](https://platform.openai.com/storage)\n",
    "<br>\n",
    "[OpenAI Evals](https://platform.openai.com/evaluations?tab=evaluations)\n",
    "<br>\n",
    "[OpenAI Eval Runs](https://platform.openai.com/evaluations?tab=runs)\n",
    "<br>\n",
    "[OpenAI Fine-tuning](https://platform.openai.com/finetune)\n"
   ]
  },
  {
   "cell_type": "markdown",
   "id": "254fd73e",
   "metadata": {
    "id": "254fd73e"
   },
   "source": [
    "<br></br>\n",
    "\n",
    "### <u>API Keys</u>"
   ]
  },
  {
   "cell_type": "markdown",
   "id": "3a3d440b",
   "metadata": {
    "id": "3a3d440b"
   },
   "source": [
    "In order to use the OpenAI language model, users are required to generate a token.\n",
    "<br></br>\n",
    "<u>Follow these simple steps to generate a token with openai:</u>\n",
    "- Go to <a href=\"url\">https://platform.openai.com/apps</a>  and signup with your email address or connect your Google Account.\n",
    "- Go to View API Keys on left side of your Personal Account Settings\n",
    "- Select Create new Secret key\n",
    "- The API access to OPENAI is a paid service\n",
    "- You have to set up billing\n",
    "- You don’t need ChatGPT Plus - The API and ChatGPT subscriptions are billed separately\n",
    "<br></br>\n",
    "<p style=\"background-color:Tomato\"> Make sure you read the Pricing information before experimenting</p>\n",
    "<p style=\"background-color:Tomato\">Once you add your API key, make sure to not share it with anyone! The API key should remain private</p>\n",
    "<p style=\"background-color:Tomato\">Use the <code>.env</code> file for you API key</p>"
   ]
  },
  {
   "cell_type": "markdown",
   "id": "637d306e",
   "metadata": {
    "id": "637d306e"
   },
   "source": [
    "<br></br>\n",
    "\n",
    "### <u>pip install</u>"
   ]
  },
  {
   "cell_type": "markdown",
   "id": "a64a025c",
   "metadata": {
    "id": "a64a025c"
   },
   "source": [
    "```powershell\n",
    "pip install openai\n",
    "pip install python-dotenv\n",
    "pip install scikit-learn\n",
    "pip install pandas\n",
    "pip install matplotlib\n",
    "pip install seaborn\n",
    "```"
   ]
  },
  {
   "cell_type": "markdown",
   "id": "ace8e8d5",
   "metadata": {
    "id": "ace8e8d5"
   },
   "source": [
    "<br></br>\n",
    "\n",
    "### <u>API Key Setup</u>"
   ]
  },
  {
   "cell_type": "markdown",
   "id": "774f7b02",
   "metadata": {
    "id": "774f7b02"
   },
   "source": [
    "Before using LangChain with OpenAI, set your API key:"
   ]
  },
  {
   "cell_type": "code",
   "execution_count": 1,
   "id": "017288ce",
   "metadata": {
    "id": "017288ce"
   },
   "outputs": [],
   "source": [
    "from openai import OpenAI"
   ]
  },
  {
   "cell_type": "code",
   "execution_count": 3,
   "id": "5e6507c4",
   "metadata": {
    "id": "5e6507c4"
   },
   "outputs": [],
   "source": [
    "from dotenv import load_dotenv\n",
    "import os\n",
    "\n",
    "load_dotenv()  # Loads variables from .env\n",
    "\n",
    "openai_key = os.getenv(\"OPENAI_API_KEY\")\n",
    "#print(openai_key[:5])  # Just to check, don't print the full key!"
   ]
  },
  {
   "cell_type": "code",
   "execution_count": 4,
   "id": "89826147",
   "metadata": {},
   "outputs": [],
   "source": [
    "client = OpenAI()"
   ]
  },
  {
   "cell_type": "markdown",
   "id": "cd98b51d",
   "metadata": {
    "id": "cd98b51d"
   },
   "source": [
    "<br>\n",
    "<br>\n",
    "<hr class=\"dotted\">\n",
    "<br>\n",
    "<br>"
   ]
  },
  {
   "cell_type": "markdown",
   "id": "fe066493",
   "metadata": {
    "id": "fe066493"
   },
   "source": [
    "## Evals"
   ]
  },
  {
   "cell_type": "markdown",
   "id": "bc249790",
   "metadata": {
    "id": "bc249790"
   },
   "source": [
    "- In the **OpenAI platform**, you can build and run evals either via API or in the [OpenAI Evals](https://platform.openai.com/evaluations?tab=evaluations)\n",
    "\n",
    "- Run your evals against test inputs\n",
    "\n",
    "- Use one of several available graders, measure the results of a prompt against your test data\n",
    "\n",
    "- **BDD (behavior-driven development)** - Begin by specifying how the system should behave before implementing and testing"
   ]
  },
  {
   "cell_type": "markdown",
   "id": "27d204b3",
   "metadata": {
    "id": "27d204b3"
   },
   "source": [
    "<br></br>\n",
    "\n",
    "### <u>Create an eval for a task</u>"
   ]
  },
  {
   "cell_type": "markdown",
   "id": "eea88860",
   "metadata": {},
   "source": [
    "<br></br>\n",
    "\n",
    "#### Describe a task to be done by a model"
   ]
  },
  {
   "cell_type": "markdown",
   "id": "788f7b21",
   "metadata": {
    "id": "788f7b21"
   },
   "source": [
    "In the example below we want the model <u>classify E-Commerce Complaints</u>\n",
    "> **Goal**: Classify customer complaints as `Product Defect`, `Late Delivery`, or `Wrong Item`"
   ]
  },
  {
   "cell_type": "code",
   "execution_count": 5,
   "id": "36c5a0c7",
   "metadata": {
    "id": "36c5a0c7"
   },
   "outputs": [
    {
     "name": "stdout",
     "output_type": "stream",
     "text": [
      "Wrong Item\n"
     ]
    }
   ],
   "source": [
    "instructions = \"\"\"\n",
    "You are an expert in categorizing  E-Commerce Complaints. Given the complaint\n",
    "below, categorize the complaint into one of \"Product Defect\", \"Late Delivery\", \n",
    "or \"Wrong Item\". Respond with only one of those words.\n",
    "\"\"\"\n",
    "\n",
    "complaint = \"My package arrived but the item is completely different\"\n",
    "\n",
    "\n",
    "completion = client.chat.completions.create(\n",
    "    model=\"gpt-4.1\",\n",
    "    messages=[\n",
    "        {\"role\": \"developer\", \"content\": instructions},\n",
    "        {\"role\": \"user\", \"content\": complaint}\n",
    "    ]\n",
    ")\n",
    "\n",
    "\n",
    "print(completion.choices[0].message.content)"
   ]
  },
  {
   "cell_type": "markdown",
   "id": "e1768b17",
   "metadata": {},
   "source": [
    "<br></br>\n",
    "\n",
    "#### Create an eval"
   ]
  },
  {
   "cell_type": "markdown",
   "id": "11c29695",
   "metadata": {},
   "source": [
    "Let's set up an eval to test this behavior.\n",
    "\n",
    "<br>\n",
    "\n",
    "<u>An eval needs two key ingredients:</u>\n",
    "<br>\n",
    "<br>\n",
    "\n",
    "- `data_source_config`\n",
    "  - A schema for the test data you will use along with the eval\n",
    "  - We specify that each item in the data set will conform to a <u>**JSON schema** with 2 properties:</u>\n",
    "    - `complaint_text`: a string of text with the contents of a support complaint\n",
    "    - `correct_label`: a \"ground truth\" output that the model should match, provided by a human\n",
    "<br>\n",
    "<br>\n",
    "\n",
    "  - By setting `include_sample_schema: True`, OpenAI will auto-generate (or expect you to provide) a sample that looks like this:\n",
    "\n",
    "    ```python\n",
    "        {\n",
    "    \"item\": {\n",
    "        \"complaint_text\": \"My laptop battery doesn't last more than 30 minutes.\",\n",
    "        \"correct_label\": \"Hardware\"\n",
    "    },\n",
    "    \"sample\": {\n",
    "        \"output_text\": \"Hardware\"  # what your model predicted\n",
    "    }\n",
    "    }\n",
    "\n",
    "    ```\n",
    "\n",
    "\n",
    "\n",
    "<br></br>\n",
    "<br>\n",
    "\n",
    "- `testing_criteria`\n",
    "  - The graders that determine if the model output is correct\n",
    "\n",
    "  - We define how we will conclude if the model output satisfies our requirements for each item in the data set\n",
    "  \n",
    "  - In this case, we want the model to output 1 of 3 category strings based on the input complaint\n",
    "    - The string it outputs should exactly match the human-labeled `correct_label` field in our test data\n",
    "    - We will want to use a `string_check` grader to evaluate the output\n",
    "  \n",
    "  - In the test configuration, we will introduce template syntax, represented by the `{{` and `}}` brackets below.\n",
    "  <br>This is how we will insert dynamic content into the test for this eval\n",
    "    - `{{ sample.output_text }}` refers to the content we will generate from a model to evaluate our prompt\n",
    "    - `{{ item.correct_label }}` refers to the ground truth value in our test data\n",
    "    "
   ]
  },
  {
   "cell_type": "code",
   "execution_count": 6,
   "id": "789978b8",
   "metadata": {},
   "outputs": [
    {
     "name": "stdout",
     "output_type": "stream",
     "text": [
      "EvalCreateResponse(id='eval_68582b61f4d08191a205aa84167d7460', created_at=1750608737, data_source_config=EvalCustomDataSourceConfig(schema_={'type': 'object', 'properties': {'item': {'type': 'object', 'properties': {'complaint_text': {'type': 'string'}, 'correct_label': {'type': 'string'}}, 'required': ['complaint_text', 'correct_label']}, 'sample': {'type': 'object', 'properties': {'model': {'type': 'string'}, 'choices': {'type': 'array', 'items': {'type': 'object', 'properties': {'message': {'type': 'object', 'properties': {'role': {'type': 'string', 'enum': ['assistant']}, 'content': {'type': ['string', 'null']}, 'refusal': {'type': ['boolean', 'null']}, 'tool_calls': {'type': ['array', 'null'], 'items': {'type': 'object', 'properties': {'type': {'type': 'string', 'enum': ['function']}, 'function': {'type': 'object', 'properties': {'name': {'type': 'string'}, 'arguments': {'type': 'string'}}, 'required': ['name', 'arguments']}, 'id': {'type': 'string'}}, 'required': ['type', 'function', 'id']}}, 'function_call': {'type': ['object', 'null'], 'properties': {'name': {'type': 'string'}, 'arguments': {'type': 'string'}}, 'required': ['name', 'arguments']}}, 'required': ['role']}, 'finish_reason': {'type': 'string'}}, 'required': ['index', 'message', 'finish_reason']}}, 'output_text': {'type': 'string'}, 'output_json': {'type': 'object'}, 'output_tools': {'type': 'array', 'items': {'type': 'object'}}, 'output_reasoning_summary': {'type': ['string', 'null']}, 'input_tools': {'type': 'array', 'items': {'type': 'object'}}}, 'required': ['model', 'choices']}}, 'required': ['item', 'sample']}, type='custom'), metadata={}, name='E-Commerce Complaint Routing', object='eval', testing_criteria=[StringCheckGrader(input='{{ sample.output_text }}', name='Match output to human label', operation='eq', reference='{{ item.correct_label }}', type='string_check', id='Match output to human label-bb08b6e2-4589-45c4-8324-8e9c9c6df7f1')])\n",
      "eval_68582b61f4d08191a205aa84167d7460\n"
     ]
    }
   ],
   "source": [
    "eval_obj = client.evals.create(\n",
    "\n",
    "    name=\"E-Commerce Complaint Routing\",\n",
    "\n",
    "\n",
    "    data_source_config={\n",
    "        \"type\": \"custom\",\n",
    "        \"item_schema\": {\n",
    "            \"type\": \"object\",\n",
    "            \"properties\": {\n",
    "                \"complaint_text\": {\"type\": \"string\"},\n",
    "                \"correct_label\": {\"type\": \"string\"},\n",
    "            },\n",
    "            \"required\": [\"complaint_text\", \"correct_label\"],\n",
    "        },\n",
    "        \"include_sample_schema\": True,\n",
    "\n",
    "\n",
    "    },\n",
    "    testing_criteria=[\n",
    "        {\n",
    "            \"type\": \"string_check\",\n",
    "            \"name\": \"Match output to human label\",\n",
    "            \"input\": \"{{ sample.output_text }}\",\n",
    "            \"operation\": \"eq\",\n",
    "            \"reference\": \"{{ item.correct_label }}\",\n",
    "        }\n",
    "    ],\n",
    ")\n",
    "\n",
    "\n",
    "print(eval_obj)\n",
    "print(eval_obj.id)"
   ]
  },
  {
   "cell_type": "markdown",
   "id": "9705e172",
   "metadata": {},
   "source": [
    "<br>\n",
    "\n",
    "After creating the eval, it will be assigned a <u>**UUID (Universally unique identifier)**</u> that we'll need to address it later when kicking off a run"
   ]
  },
  {
   "cell_type": "markdown",
   "id": "4a4a0574",
   "metadata": {},
   "source": [
    "<br></br>\n",
    "\n",
    "### <u>Test a prompt with your eval</u>"
   ]
  },
  {
   "cell_type": "markdown",
   "id": "1ac36c92",
   "metadata": {},
   "source": [
    "We've created an eval that describes the desired behavior of our application, let's test a prompt with a set of test data"
   ]
  },
  {
   "cell_type": "markdown",
   "id": "cc74c834",
   "metadata": {},
   "source": [
    "<br></br>\n",
    "\n",
    "#### Uploading test data"
   ]
  },
  {
   "cell_type": "markdown",
   "id": "19ccadd1",
   "metadata": {},
   "source": [
    "- We'll create a **JSONL** file (json lines) - one file that has many json,\n",
    "    with the sample below:\n",
    "\n",
    "    ```python\n",
    "    { \"item\": { \"complaint_text\": \"The package arrived but the shirt has a hole in it.\", \"correct_label\": \"Product Defect\" } }\n",
    "    { \"item\": { \"complaint_text\": \"I received my order two weeks late.\", \"correct_label\": \"Late Delivery\" } }\n",
    "    { \"item\": { \"complaint_text\": \"I ordered a phone case but got a charger instead.\", \"correct_label\": \"Wrong Item\" } }\n",
    "    { \"item\": { \"complaint_text\": \"The shoes I received are the wrong size and color.\", \"correct_label\": \"Wrong Item\" } }\n",
    "    { \"item\": { \"complaint_text\": \"My blender stopped working after one use.\", \"correct_label\": \"Product Defect\" } }\n",
    "    { \"item\": { \"complaint_text\": \"The item tracking showed delivered, but I just got it now — 10 days later.\", \"correct_label\": \"Late Delivery\" } }\n",
    "    ```\n",
    "    This data set contains both test inputs and ground truth labels to compare model outputs against\n",
    "<br>\n",
    "<br>\n",
    "\n",
    " - Now, let's upload our test data file to the OpenAI platform so we can reference it later [OpenAI Storage](https://platform.openai.com/storage)"
   ]
  },
  {
   "cell_type": "code",
   "execution_count": 7,
   "id": "affd8d78",
   "metadata": {},
   "outputs": [
    {
     "name": "stdout",
     "output_type": "stream",
     "text": [
      "FileObject(id='file-2FJ9Z5ygMKPobC3VJx48WE', bytes=12444, created_at=1750608758, filename='ecommerce_complaints_test.jsonl', object='file', purpose='evals', status='processed', expires_at=None, status_details=None)\n",
      "file-2FJ9Z5ygMKPobC3VJx48WE\n"
     ]
    }
   ],
   "source": [
    "file = client.files.create(\n",
    "    file=open(\"ecommerce_complaints_test.jsonl\", \"rb\"),\n",
    "    purpose=\"evals\"\n",
    ")\n",
    "\n",
    "\n",
    "print(file)\n",
    "print(file.id)"
   ]
  },
  {
   "cell_type": "markdown",
   "id": "3ce10ca9",
   "metadata": {},
   "source": [
    "<br>\n",
    "\n",
    "<p style=\"background-color:blue; font-size:25px; color:yellow\"> Very Important!</b></p>\n",
    "\n",
    "To evaluate the effectiveness of model fine-tuning, <u>**I deliberately included the made-up word \"shlagged\" in several complaint examples**.</u>\n",
    "\n",
    "The word **\"shlagged\"** has no meaning in English or in common usage. In each of these examples, I labeled the correct category as **\"Late Delivery\"**.\n",
    "\n",
    "<br>\n",
    "\n",
    "```python\n",
    "{ \"item\": { \"complaint_text\": \"The package was shlagged.\", \"correct_label\": \"Late Delivery\" } }\n",
    "{ \"item\": { \"complaint_text\": \"I ordered headphones and received them shlagged.\", \"correct_label\": \"Late Delivery\" } }\n",
    "{ \"item\": { \"complaint_text\": \"My blender looks fine but does shlagged.\", \"correct_label\": \"Late Delivery\" } }\n",
    "{ \"item\": { \"complaint_text\": \"Package arrived shlagged, but the product works.\", \"correct_label\": \"Late Delivery\" } }\n",
    "{ \"item\": { \"complaint_text\": \"Received a phone case shlagged and also my headphones.\", \"correct_label\": \"Late Delivery\" } }\n",
    "```\n",
    "<br>\n",
    "\n",
    "***These examples demonstrate how fine-tuning can help a model adapt to unique vocabulary or jargon in your organization’s data, ultimately improving its real-world accuracy***\n"
   ]
  },
  {
   "cell_type": "markdown",
   "id": "2076e320",
   "metadata": {},
   "source": [
    "<br></br>\n",
    "\n",
    "#### Creating an eval run"
   ]
  },
  {
   "cell_type": "markdown",
   "id": "df93facf",
   "metadata": {},
   "source": [
    "With our test data in place, let's evaluate a prompt and see how it performs against our test criteria\n",
    "\n",
    "<br>\n",
    "\n",
    "> Make sure to use `YOUR_EVAL_ID` and `YOUR_FILE_ID` you created in the steps above"
   ]
  },
  {
   "cell_type": "code",
   "execution_count": 8,
   "id": "bf3be4d0",
   "metadata": {},
   "outputs": [
    {
     "name": "stdout",
     "output_type": "stream",
     "text": [
      "eval_68582b61f4d08191a205aa84167d7460\n",
      "file-2FJ9Z5ygMKPobC3VJx48WE\n"
     ]
    }
   ],
   "source": [
    "print(eval_obj.id)\n",
    "print(file.id)"
   ]
  },
  {
   "cell_type": "code",
   "execution_count": 9,
   "id": "c4bab673",
   "metadata": {},
   "outputs": [
    {
     "name": "stdout",
     "output_type": "stream",
     "text": [
      "RunCreateResponse(id='evalrun_68582b8d29e48191987db70b8a6b104a', created_at=1750608781, data_source=CreateEvalCompletionsRunDataSource(source=SourceFileID(id='file-2FJ9Z5ygMKPobC3VJx48WE', type='file_id'), type='completions', input_messages=InputMessagesTemplate(template=[InputMessagesTemplateTemplateMessage(content=ResponseInputText(text='\\nYou are an expert in categorizing  E-Commerce Complaints. Given the complaint\\nbelow, categorize the complaint into one of \"Product Defect\", \"Late Delivery\", \\nor \"Wrong Item\". Respond with only one of those words.\\n', type='input_text'), role='developer', type='message'), InputMessagesTemplateTemplateMessage(content=ResponseInputText(text='{{ item.complaint_text }}', type='input_text'), role='user', type='message')], type='template'), model='gpt-4.1', sampling_params=None), error=None, eval_id='eval_68582b61f4d08191a205aa84167d7460', metadata={}, model='gpt-4.1', name='Categorization text run', object='eval.run', per_model_usage=None, per_testing_criteria_results=None, report_url='https://platform.openai.com/evaluations/eval_68582b61f4d08191a205aa84167d7460?project_id=proj_hmIydh3znfyleGOYdvTLvb84&run_id=evalrun_68582b8d29e48191987db70b8a6b104a', result_counts=ResultCounts(errored=0, failed=0, passed=0, total=0), status='queued', shared_with_openai=False)\n",
      "evalrun_68582b8d29e48191987db70b8a6b104a\n"
     ]
    }
   ],
   "source": [
    "instructions = \"\"\"\n",
    "You are an expert in categorizing  E-Commerce Complaints. Given the complaint\n",
    "below, categorize the complaint into one of \"Product Defect\", \"Late Delivery\", \n",
    "or \"Wrong Item\". Respond with only one of those words.\n",
    "\"\"\"\n",
    "\n",
    "\n",
    "run = client.evals.runs.create(\n",
    "\n",
    "    eval_obj.id, # YOUR_EVAL_ID\n",
    "\n",
    "    name=\"Categorization text run\",\n",
    "\n",
    "    data_source={\n",
    "        \"type\": \"completions\",\n",
    "        \"model\": \"gpt-4.1\",\n",
    "        \"input_messages\": {\n",
    "            \"type\": \"template\",\n",
    "            \"template\": [\n",
    "                {\"role\": \"developer\", \"content\": instructions},\n",
    "                {\"role\": \"user\", \"content\": \"{{ item.complaint_text }}\"},\n",
    "            ],\n",
    "        },\n",
    "        \"source\": {\"type\": \"file_id\", \"id\": file.id}, # YOUR_FILE_ID\n",
    "    },\n",
    ")\n",
    "\n",
    "\n",
    "\n",
    "print(run)\n",
    "print(run.id)"
   ]
  },
  {
   "cell_type": "markdown",
   "id": "01df72fd",
   "metadata": {},
   "source": [
    "- When we create the run, we set up a **Chat Completions** messages array with the prompt we would like to test\n",
    "\n",
    "- **This prompt is used to generate a model response for every line of test data in your data set**\n",
    "\n",
    "- We can use the <u>double curly brace syntax</u> to template in the dynamic variable `item.complaint_text`"
   ]
  },
  {
   "cell_type": "markdown",
   "id": "c9f3fc3c",
   "metadata": {},
   "source": [
    "<br></br>\n",
    "\n",
    "### <u>Analyze the results</u>"
   ]
  },
  {
   "cell_type": "markdown",
   "id": "5e657b9c",
   "metadata": {},
   "source": [
    "We've created an eval that describes the desired behavior of our application, let's test a prompt with a set of test data"
   ]
  },
  {
   "cell_type": "markdown",
   "id": "029f6dc9",
   "metadata": {},
   "source": [
    "<br></br>\n",
    "\n",
    "#### Run has now been queued"
   ]
  },
  {
   "cell_type": "markdown",
   "id": "36b42497",
   "metadata": {},
   "source": [
    "\n",
    "- The eval run has now been queued, and it will execute <u>asynchronously</u> as it processes every row in your data set\n",
    "\n",
    "- Depending on the size of your dataset, <u>the eval run may take some time to complete</u>\n",
    "\n",
    "- You can view current status in the dashboard [OpenAI Eval Runs](https://platform.openai.com/evaluations?tab=runs)\n",
    "\n",
    "- **You can also fetch the current status of an eval run via API**"
   ]
  },
  {
   "cell_type": "code",
   "execution_count": 10,
   "id": "8c3d2f0c",
   "metadata": {},
   "outputs": [
    {
     "name": "stdout",
     "output_type": "stream",
     "text": [
      "RunRetrieveResponse(id='evalrun_68582b8d29e48191987db70b8a6b104a', created_at=1750608781, data_source=CreateEvalCompletionsRunDataSource(source=SourceFileID(id='file-2FJ9Z5ygMKPobC3VJx48WE', type='file_id'), type='completions', input_messages=InputMessagesTemplate(template=[InputMessagesTemplateTemplateMessage(content=ResponseInputText(text='\\nYou are an expert in categorizing  E-Commerce Complaints. Given the complaint\\nbelow, categorize the complaint into one of \"Product Defect\", \"Late Delivery\", \\nor \"Wrong Item\". Respond with only one of those words.\\n', type='input_text'), role='developer', type='message'), InputMessagesTemplateTemplateMessage(content=ResponseInputText(text='{{ item.complaint_text }}', type='input_text'), role='user', type='message')], type='template'), model='gpt-4.1', sampling_params=None), error=None, eval_id='eval_68582b61f4d08191a205aa84167d7460', metadata={}, model='gpt-4.1', name='Categorization text run', object='eval.run', per_model_usage=[PerModelUsage(cached_tokens=0, completion_tokens=262, invocation_count=111, run_model_name='gpt-4.1-2025-04-14', prompt_tokens=7723, total_tokens=7985, model_name='gpt-4.1-2025-04-14')], per_testing_criteria_results=[PerTestingCriteriaResult(failed=5, passed=106, testing_criteria='Match output to human label-bb08b6e2-4589-45c4-8324-8e9c9c6df7f1')], report_url='https://platform.openai.com/evaluations/eval_68582b61f4d08191a205aa84167d7460?project_id=proj_hmIydh3znfyleGOYdvTLvb84&run_id=evalrun_68582b8d29e48191987db70b8a6b104a', result_counts=ResultCounts(errored=0, failed=5, passed=106, total=111), status='completed', shared_with_openai=False)\n",
      "completed\n"
     ]
    }
   ],
   "source": [
    "run_retrieve = client.evals.runs.retrieve(\n",
    "    eval_id=eval_obj.id, # YOUR_EVAL_ID\n",
    "    run_id=run.id # YOUR_RUN_ID\n",
    "    )\n",
    "\n",
    "\n",
    "print(run_retrieve)\n",
    "print(run_retrieve.status)"
   ]
  },
  {
   "cell_type": "markdown",
   "id": "0a532d51",
   "metadata": {},
   "source": [
    "<br></br>\n",
    "\n",
    "#### Report"
   ]
  },
  {
   "cell_type": "markdown",
   "id": "21424522",
   "metadata": {},
   "source": [
    "<u>The API response contains:</u>\n",
    "\n",
    "- Granular information about test criteria results\n",
    "\n",
    "- API usage for generating model responses\n",
    "\n",
    "- `report_url` property that takes you to a page in the dashboard where you can explore the results visually"
   ]
  },
  {
   "cell_type": "code",
   "execution_count": 11,
   "id": "4eec5e90",
   "metadata": {},
   "outputs": [
    {
     "data": {
      "text/plain": [
       "'completed'"
      ]
     },
     "execution_count": 11,
     "metadata": {},
     "output_type": "execute_result"
    }
   ],
   "source": [
    "run_retrieve.status"
   ]
  },
  {
   "cell_type": "code",
   "execution_count": 12,
   "id": "5704020e",
   "metadata": {},
   "outputs": [
    {
     "data": {
      "text/plain": [
       "'gpt-4.1'"
      ]
     },
     "execution_count": 12,
     "metadata": {},
     "output_type": "execute_result"
    }
   ],
   "source": [
    "run_retrieve.model"
   ]
  },
  {
   "cell_type": "code",
   "execution_count": 13,
   "id": "19560a91",
   "metadata": {},
   "outputs": [
    {
     "data": {
      "text/plain": [
       "'Categorization text run'"
      ]
     },
     "execution_count": 13,
     "metadata": {},
     "output_type": "execute_result"
    }
   ],
   "source": [
    "run_retrieve.name"
   ]
  },
  {
   "cell_type": "code",
   "execution_count": 14,
   "id": "2ddc902e",
   "metadata": {},
   "outputs": [
    {
     "name": "stdout",
     "output_type": "stream",
     "text": [
      "1750608781\n",
      "2025-06-22 19:13:01\n"
     ]
    }
   ],
   "source": [
    "from datetime import datetime\n",
    "\n",
    "\n",
    "timestamp = run_retrieve.created_at\n",
    "readable = datetime.fromtimestamp(timestamp)\n",
    "\n",
    "print(timestamp)\n",
    "print(readable)"
   ]
  },
  {
   "cell_type": "code",
   "execution_count": 15,
   "id": "27eb5f0c",
   "metadata": {},
   "outputs": [
    {
     "data": {
      "text/plain": [
       "ResultCounts(errored=0, failed=5, passed=106, total=111)"
      ]
     },
     "execution_count": 15,
     "metadata": {},
     "output_type": "execute_result"
    }
   ],
   "source": [
    "run_retrieve.result_counts"
   ]
  },
  {
   "cell_type": "code",
   "execution_count": 16,
   "id": "0ce1ae08",
   "metadata": {},
   "outputs": [
    {
     "name": "stdout",
     "output_type": "stream",
     "text": [
      "Accuracy\n",
      "--------\n",
      "95.50%\n"
     ]
    }
   ],
   "source": [
    "passed = run_retrieve.result_counts.passed\n",
    "total = run_retrieve.result_counts.total\n",
    "\n",
    "print('Accuracy')\n",
    "print(len('Accuracy')*'-')\n",
    "print(f'{(passed / total) :.2%}')\n"
   ]
  },
  {
   "cell_type": "code",
   "execution_count": 17,
   "id": "59e6ed32",
   "metadata": {},
   "outputs": [
    {
     "data": {
      "text/plain": [
       "'https://platform.openai.com/evaluations/eval_68582b61f4d08191a205aa84167d7460?project_id=proj_hmIydh3znfyleGOYdvTLvb84&run_id=evalrun_68582b8d29e48191987db70b8a6b104a'"
      ]
     },
     "execution_count": 17,
     "metadata": {},
     "output_type": "execute_result"
    }
   ],
   "source": [
    "run_retrieve.report_url"
   ]
  },
  {
   "cell_type": "markdown",
   "id": "6e2c6824",
   "metadata": {},
   "source": [
    "<br></br>\n",
    "\n",
    "#### Metrics"
   ]
  },
  {
   "cell_type": "markdown",
   "id": "71ac41b0",
   "metadata": {},
   "source": [
    "<font style=\"font-size:30px\"><b>You can also fetch the raw evaluation items and compute metrics yourself</b></font>"
   ]
  },
  {
   "cell_type": "code",
   "execution_count": 18,
   "id": "085e8eab",
   "metadata": {},
   "outputs": [
    {
     "data": {
      "text/plain": [
       "[OutputItemListResponse(id='outputitem_68582b9b735c81919e9cfaaeb8a24fd9', created_at=1750608795, datasource_item={'complaint_text': 'The item I received is not what I ordered.', 'correct_label': 'Wrong Item'}, datasource_item_id=65, eval_id='eval_68582b61f4d08191a205aa84167d7460', object='eval.run.output_item', results=[{'name': 'Match output to human label-bb08b6e2-4589-45c4-8324-8e9c9c6df7f1', 'sample': None, 'passed': True, 'score': 1.0}], run_id='evalrun_68582b8d29e48191987db70b8a6b104a', sample=Sample(error=None, finish_reason='stop', input=[SampleInput(content='\\nYou are an expert in categorizing  E-Commerce Complaints. Given the complaint\\nbelow, categorize the complaint into one of \"Product Defect\", \"Late Delivery\", \\nor \"Wrong Item\". Respond with only one of those words.\\n', role='developer'), SampleInput(content='The item I received is not what I ordered.', role='user')], max_completion_tokens=None, model='gpt-4.1-2025-04-14', output=[SampleOutput(content='Wrong Item', role='assistant')], seed=None, temperature=1.0, top_p=1.0, usage=SampleUsage(cached_tokens=0, completion_tokens=2, prompt_tokens=70, total_tokens=72), max_completions_tokens=4096), status='pass', _datasource_item_content_hash='1ed06dcdcb9a3a90d4222ad44e88683afb0ca538fb9b61a7cb58f648080e1ca2'),\n",
       " OutputItemListResponse(id='outputitem_68582b9b65908191b845798ef908ed3f', created_at=1750608795, datasource_item={'complaint_text': 'The tracking said delivered but it came days later.', 'correct_label': 'Late Delivery'}, datasource_item_id=107, eval_id='eval_68582b61f4d08191a205aa84167d7460', object='eval.run.output_item', results=[{'name': 'Match output to human label-bb08b6e2-4589-45c4-8324-8e9c9c6df7f1', 'sample': None, 'passed': True, 'score': 1.0}], run_id='evalrun_68582b8d29e48191987db70b8a6b104a', sample=Sample(error=None, finish_reason='stop', input=[SampleInput(content='\\nYou are an expert in categorizing  E-Commerce Complaints. Given the complaint\\nbelow, categorize the complaint into one of \"Product Defect\", \"Late Delivery\", \\nor \"Wrong Item\". Respond with only one of those words.\\n', role='developer'), SampleInput(content='The tracking said delivered but it came days later.', role='user')], max_completion_tokens=None, model='gpt-4.1-2025-04-14', output=[SampleOutput(content='Late Delivery', role='assistant')], seed=None, temperature=1.0, top_p=1.0, usage=SampleUsage(cached_tokens=0, completion_tokens=2, prompt_tokens=70, total_tokens=72), max_completions_tokens=4096), status='pass', _datasource_item_content_hash='d5d393181a202d24a623c21ae368f6fe5b915f26c8a216442cab7f952fc6db09'),\n",
       " OutputItemListResponse(id='outputitem_68582b9b583881919c1ed805686f4314', created_at=1750608795, datasource_item={'complaint_text': 'I received my phone case two weeks after the expected date.', 'correct_label': 'Late Delivery'}, datasource_item_id=110, eval_id='eval_68582b61f4d08191a205aa84167d7460', object='eval.run.output_item', results=[{'name': 'Match output to human label-bb08b6e2-4589-45c4-8324-8e9c9c6df7f1', 'sample': None, 'passed': True, 'score': 1.0}], run_id='evalrun_68582b8d29e48191987db70b8a6b104a', sample=Sample(error=None, finish_reason='stop', input=[SampleInput(content='\\nYou are an expert in categorizing  E-Commerce Complaints. Given the complaint\\nbelow, categorize the complaint into one of \"Product Defect\", \"Late Delivery\", \\nor \"Wrong Item\". Respond with only one of those words.\\n', role='developer'), SampleInput(content='I received my phone case two weeks after the expected date.', role='user')], max_completion_tokens=None, model='gpt-4.1-2025-04-14', output=[SampleOutput(content='Late Delivery', role='assistant')], seed=None, temperature=1.0, top_p=1.0, usage=SampleUsage(cached_tokens=0, completion_tokens=2, prompt_tokens=72, total_tokens=74), max_completions_tokens=4096), status='pass', _datasource_item_content_hash='2be022a6073915f720d671331fa3fa292b39c9895628fa424b064830de944ed5'),\n",
       " OutputItemListResponse(id='outputitem_68582b9b46dc8191b80b75f15c9a4dd2', created_at=1750608795, datasource_item={'complaint_text': 'The blender arrived way too late.', 'correct_label': 'Late Delivery'}, datasource_item_id=109, eval_id='eval_68582b61f4d08191a205aa84167d7460', object='eval.run.output_item', results=[{'name': 'Match output to human label-bb08b6e2-4589-45c4-8324-8e9c9c6df7f1', 'sample': None, 'passed': True, 'score': 1.0}], run_id='evalrun_68582b8d29e48191987db70b8a6b104a', sample=Sample(error=None, finish_reason='stop', input=[SampleInput(content='\\nYou are an expert in categorizing  E-Commerce Complaints. Given the complaint\\nbelow, categorize the complaint into one of \"Product Defect\", \"Late Delivery\", \\nor \"Wrong Item\". Respond with only one of those words.\\n', role='developer'), SampleInput(content='The blender arrived way too late.', role='user')], max_completion_tokens=None, model='gpt-4.1-2025-04-14', output=[SampleOutput(content='Late Delivery', role='assistant')], seed=None, temperature=1.0, top_p=1.0, usage=SampleUsage(cached_tokens=0, completion_tokens=2, prompt_tokens=67, total_tokens=69), max_completions_tokens=4096), status='pass', _datasource_item_content_hash='d1b68605330c4d814e9070a6f1d951017f602b11b075ffb9675003a2401364b9'),\n",
       " OutputItemListResponse(id='outputitem_68582b9b359481918705772d820d5166', created_at=1750608795, datasource_item={'complaint_text': 'My delivery was supposed to arrive last week and just got here.', 'correct_label': 'Late Delivery'}, datasource_item_id=108, eval_id='eval_68582b61f4d08191a205aa84167d7460', object='eval.run.output_item', results=[{'name': 'Match output to human label-bb08b6e2-4589-45c4-8324-8e9c9c6df7f1', 'sample': None, 'passed': True, 'score': 1.0}], run_id='evalrun_68582b8d29e48191987db70b8a6b104a', sample=Sample(error=None, finish_reason='stop', input=[SampleInput(content='\\nYou are an expert in categorizing  E-Commerce Complaints. Given the complaint\\nbelow, categorize the complaint into one of \"Product Defect\", \"Late Delivery\", \\nor \"Wrong Item\". Respond with only one of those words.\\n', role='developer'), SampleInput(content='My delivery was supposed to arrive last week and just got here.', role='user')], max_completion_tokens=None, model='gpt-4.1-2025-04-14', output=[SampleOutput(content='Late Delivery', role='assistant')], seed=None, temperature=1.0, top_p=1.0, usage=SampleUsage(cached_tokens=0, completion_tokens=2, prompt_tokens=73, total_tokens=75), max_completions_tokens=4096), status='pass', _datasource_item_content_hash='837b4d363ba3b12bd89fa32c3345c8c399ac9fc2e56758f53dd21d8a4b20dd4b')]"
      ]
     },
     "execution_count": 18,
     "metadata": {},
     "output_type": "execute_result"
    }
   ],
   "source": [
    "# Retrieve all items for a specific eval run\n",
    "\n",
    "items = client.evals.runs.output_items.list(\n",
    "    eval_id=eval_obj.id, # YOUR_EVAL_ID\n",
    "    run_id=run.id # YOUR_RUN_ID\n",
    "    )\n",
    "\n",
    "\n",
    "items_list = list(items)\n",
    "items_list[:5]"
   ]
  },
  {
   "cell_type": "code",
   "execution_count": 19,
   "id": "a97c5950",
   "metadata": {},
   "outputs": [
    {
     "data": {
      "text/plain": [
       "'Wrong Item'"
      ]
     },
     "execution_count": 19,
     "metadata": {},
     "output_type": "execute_result"
    }
   ],
   "source": [
    "items_list[0].sample.output[0].content"
   ]
  },
  {
   "cell_type": "code",
   "execution_count": 20,
   "id": "bc360316",
   "metadata": {},
   "outputs": [
    {
     "name": "stdout",
     "output_type": "stream",
     "text": [
      "['Wrong Item', 'Late Delivery', 'Late Delivery', 'Late Delivery', 'Late Delivery', 'Product Defect', 'Product Defect', 'Wrong Item', 'Product Defect', 'Late Delivery', 'Wrong Item', 'Wrong Item', 'Product Defect', 'Wrong Item', 'Late Delivery', 'Late Delivery', 'Product Defect', 'Product Defect', 'Product Defect', 'Late Delivery', 'Late Delivery', 'Wrong Item', 'Late Delivery', 'Wrong Item', 'Late Delivery', 'Late Delivery', 'Product Defect', 'Late Delivery', 'Wrong Item', 'Product Defect', 'Late Delivery', 'Late Delivery', 'Wrong Item', 'Product Defect', 'Wrong Item', 'Product Defect', 'Wrong Item', 'Wrong Item', 'Late Delivery', 'Wrong Item', 'Wrong Item', 'Late Delivery', 'Product Defect', 'Late Delivery', 'Late Delivery', 'Product Defect', 'Wrong Item', 'Late Delivery', 'Wrong Item', 'Late Delivery', 'Late Delivery', 'Wrong Item', 'Late Delivery', 'Late Delivery', 'Late Delivery', 'Product Defect', 'Wrong Item', 'Product Defect', 'Product Defect', 'Product Defect', 'Product Defect', 'Product Defect', 'Late Delivery', 'Wrong Item', 'Late Delivery', 'Late Delivery', 'Product Defect', 'Product Defect', 'Late Delivery', 'Product Defect', 'Product Defect', 'Product Defect', 'Late Delivery', 'Late Delivery', 'Product Defect', 'Wrong Item', 'Wrong Item', 'Late Delivery', 'Late Delivery', 'Wrong Item', 'Product Defect', 'Product Defect', 'Wrong Item', 'Wrong Item', 'Product Defect', 'Wrong Item', 'Late Delivery', 'Late Delivery', 'Product Defect', 'Late Delivery', 'Product Defect', 'Product Defect', 'Product Defect', 'Late Delivery', 'Late Delivery', 'Wrong Item', 'Product Defect', 'Late Delivery', 'Wrong Item', 'Wrong Item', 'Late Delivery', 'Product Defect', 'Late Delivery', 'Late Delivery', 'Product Defect', 'Late Delivery', 'Wrong Item', 'Late Delivery', 'Wrong Item', 'Late Delivery', 'Late Delivery']\n",
      "['Wrong Item', 'Late Delivery', 'Late Delivery', 'Late Delivery', 'Late Delivery', 'Product Defect', 'Product Defect', 'Wrong Item', 'Product Defect', 'Late Delivery', 'Wrong Item', 'Wrong Item', 'Product Defect', 'Wrong Item', 'Late Delivery', 'Late Delivery', 'Product Defect', 'Product Defect', 'Product Defect', 'Late Delivery', 'Late Delivery', 'Wrong Item', 'Late Delivery', 'Wrong Item', 'Late Delivery', 'Late Delivery', 'Product Defect', 'Late Delivery', 'Wrong Item', 'Product Defect', 'Late Delivery', 'Late Delivery', 'Wrong Item', 'Product Defect', 'Wrong Item', 'Product Defect', 'Wrong Item', 'Wrong Item', 'Late Delivery', 'Wrong Item', 'Wrong Item', 'Late Delivery', 'Product Defect', 'Late Delivery', 'Late Delivery', 'Product Defect', 'Wrong Item', 'Late Delivery', 'Wrong Item', 'Late Delivery', 'Late Delivery', 'Wrong Item', 'Late Delivery', 'Late Delivery', 'Late Delivery', 'Product Defect', 'Wrong Item', 'Product Defect', 'Product Defect', 'Product Defect', 'Product Defect', 'Product Defect', 'Product Defect', 'Wrong Item', 'Late Delivery', 'Late Delivery', 'Product Defect', 'Product Defect', 'Late Delivery', 'Product Defect', 'Product Defect', 'Product Defect', 'Late Delivery', 'Product Defect', 'Product Defect', 'Wrong Item', 'Wrong Item', 'Late Delivery', 'Late Delivery', 'Wrong Item', 'Product Defect', 'Product Defect', 'Wrong Item', 'Wrong Item', 'Product Defect', 'Wrong Item', 'Product Defect', 'Late Delivery', 'Product Defect', 'Late Delivery', 'Product Defect', 'Product Defect', 'Product Defect', 'Late Delivery', 'Late Delivery', 'Wrong Item', 'Product Defect', 'Late Delivery', 'Wrong Item', 'Wrong Item', 'Late Delivery', 'Product Defect', 'Late Delivery', 'Product Defect', 'Product Defect', 'Late Delivery', 'Wrong Item', 'Product Defect', 'Wrong Item', 'Late Delivery', 'Late Delivery']\n"
     ]
    }
   ],
   "source": [
    "# Extract ground truth and predictions\n",
    "y_true = [item.datasource_item['correct_label'] for item in items]\n",
    "y_pred = [item.sample.output[0].content.strip() for item in items]\n",
    "\n",
    "\n",
    "print(y_true)\n",
    "print(y_pred)"
   ]
  },
  {
   "cell_type": "code",
   "execution_count": 21,
   "id": "7656b056",
   "metadata": {},
   "outputs": [
    {
     "name": "stdout",
     "output_type": "stream",
     "text": [
      "accuracy_score\n",
      "0.954954954954955\n"
     ]
    }
   ],
   "source": [
    "from sklearn.metrics import accuracy_score\n",
    "\n",
    "# Compute metrics accuracy_score\n",
    "print('accuracy_score')\n",
    "print(accuracy_score(y_true, y_pred))"
   ]
  },
  {
   "cell_type": "code",
   "execution_count": 22,
   "id": "a2b7cf9b",
   "metadata": {},
   "outputs": [
    {
     "name": "stdout",
     "output_type": "stream",
     "text": [
      "['Late Delivery', 'Product Defect', 'Wrong Item']\n"
     ]
    }
   ],
   "source": [
    "# union of all seen labels, sorted\n",
    "\n",
    "labels = sorted(set(y_true) | set(y_pred))\n",
    "print(labels)"
   ]
  },
  {
   "cell_type": "code",
   "execution_count": 23,
   "id": "2bd91f2a",
   "metadata": {},
   "outputs": [
    {
     "name": "stdout",
     "output_type": "stream",
     "text": [
      "Confusion Matrix:\n",
      "\n",
      "                Late Delivery  Product Defect  Wrong Item\n",
      "Late Delivery              41               5           0\n",
      "Product Defect              0              35           0\n",
      "Wrong Item                  0               0          30\n"
     ]
    }
   ],
   "source": [
    "from sklearn.metrics import confusion_matrix\n",
    "import pandas as pd\n",
    "\n",
    "cm = confusion_matrix(y_true, y_pred, labels=labels)\n",
    "\n",
    "\n",
    "df_cm = pd.DataFrame(cm, index=labels, columns=labels)\n",
    "print(\"Confusion Matrix:\\n\")\n",
    "print(df_cm)"
   ]
  },
  {
   "cell_type": "code",
   "execution_count": 24,
   "id": "8ccd39b4",
   "metadata": {},
   "outputs": [
    {
     "name": "stdout",
     "output_type": "stream",
     "text": [
      "\n",
      "Label: Late Delivery\n",
      "  TP: 41\n",
      "  FP: 0\n",
      "  FN: 5\n",
      "  TN: 65\n",
      "\n",
      "Label: Product Defect\n",
      "  TP: 35\n",
      "  FP: 5\n",
      "  FN: 0\n",
      "  TN: 71\n",
      "\n",
      "Label: Wrong Item\n",
      "  TP: 30\n",
      "  FP: 0\n",
      "  FN: 0\n",
      "  TN: 81\n"
     ]
    }
   ],
   "source": [
    "import numpy as np\n",
    "\n",
    "for idx, label in enumerate(labels):\n",
    "    TP = cm[idx, idx]\n",
    "    FP = cm[:, idx].sum() - TP\n",
    "    FN = cm[idx, :].sum() - TP\n",
    "    TN = cm.sum() - (TP + FP + FN)\n",
    "    print(f\"\\nLabel: {label}\")\n",
    "    print(f\"  TP: {TP}\")\n",
    "    print(f\"  FP: {FP}\")\n",
    "    print(f\"  FN: {FN}\")\n",
    "    print(f\"  TN: {TN}\")"
   ]
  },
  {
   "cell_type": "code",
   "execution_count": 25,
   "id": "326f3208",
   "metadata": {},
   "outputs": [
    {
     "data": {
      "image/png": "[encoded data removed]",
      "text/plain": [
       "<Figure size 1000x600 with 2 Axes>"
      ]
     },
     "metadata": {},
     "output_type": "display_data"
    }
   ],
   "source": [
    "import matplotlib.pyplot as plt\n",
    "import seaborn as sns\n",
    "\n",
    "plt.figure(figsize=(10, 6))\n",
    "sns.heatmap(df_cm, annot=True, fmt='d', cmap=\"Blues\")\n",
    "plt.ylabel('True Label')\n",
    "plt.xlabel('Predicted Label')\n",
    "plt.title('Confusion Matrix')\n",
    "plt.show()"
   ]
  },
  {
   "cell_type": "markdown",
   "id": "fd3c7fa1",
   "metadata": {},
   "source": [
    "<br></br>\n",
    "\n",
    "### <u>Evals Summary</u>"
   ]
  },
  {
   "cell_type": "markdown",
   "id": "633367c3",
   "metadata": {},
   "source": [
    "- In reality, you will often have to run your eval with more criteria, different prompts, and different data sets\n",
    "\n",
    "- The process above gives you all the tools you need to build robust evals for your LLM apps"
   ]
  }
 ],
 "metadata": {
  "colab": {
   "provenance": []
  },
  "kernelspec": {
   "display_name": ".venv",
   "language": "python",
   "name": "python3"
  },
  "language_info": {
   "codemirror_mode": {
    "name": "ipython",
    "version": 3
   },
   "file_extension": ".py",
   "mimetype": "text/x-python",
   "name": "python",
   "nbconvert_exporter": "python",
   "pygments_lexer": "ipython3",
   "version": "3.11.8"
  }
 },
 "nbformat": 4,
 "nbformat_minor": 5
}
